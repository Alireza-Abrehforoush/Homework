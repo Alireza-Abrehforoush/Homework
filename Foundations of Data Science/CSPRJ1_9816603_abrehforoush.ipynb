{
 "cells": [
  {
   "cell_type": "markdown",
   "metadata": {},
   "source": [
    "<p style='direction:rtl; text-align: right'>ابتدا باید کتابخانه های زیر را وارد کنیم:\n",
    "    <ul style='direction:rtl; text-align: right'>\n",
    "        <li>numpy: برای کار با ماتریس ها</li>\n",
    "        <li>matplotlib: برای رسم نمودار</li>\n",
    "        <li>sqrt</li>\n",
    "    </ul>\n",
    "</p>"
   ]
  },
  {
   "cell_type": "code",
   "execution_count": null,
   "metadata": {},
   "outputs": [],
   "source": [
    "import numpy as np\n",
    "import matplotlib.pyplot as plt\n",
    "from math import sqrt"
   ]
  },
  {
   "cell_type": "markdown",
   "metadata": {},
   "source": [
    "<h1 style='direction:rtl; text-align: right'>\n",
    "قسمت ۱: مشاهده اندازه چند نمونه از توزیع گوسی\n",
    "</h1>"
   ]
  },
  {
   "cell_type": "markdown",
   "metadata": {},
   "source": [
    "<p style='direction:rtl; text-align: right'> \n",
    "هدف این بخش پیاده سازی تابع norm و بدست اوردن اندازه بردار هایی از توزیع گوسی چندبعدی می باشد.\n",
    "</p>"
   ]
  },
  {
   "cell_type": "markdown",
   "metadata": {},
   "source": [
    "<h2 style='direction:rtl; text-align: right'>\n",
    "قسمت ۱.۲: تولید ۱۰۰۰ بردار از توزیع نرمال با میانگین ۰ و انحراف معیار ۱ با بعد dim\n",
    "</h2>\n",
    "<p style='direction:rtl; text-align: right'>برای این کار از تابع np.random.normal استفاده کنید:</p>"
   ]
  },
  {
   "cell_type": "code",
   "execution_count": null,
   "metadata": {},
   "outputs": [],
   "source": [
    "# use variable k for your answer\n",
    "n = 1000\n",
    "dim = 100\n",
    "######## Write your code\n",
    "mu, sigma = 0, 1\n",
    "k = np.random.normal(mu, sigma, size = (n, dim))\n",
    "\n",
    "########\n",
    "print(k.shape)"
   ]
  },
  {
   "cell_type": "markdown",
   "metadata": {},
   "source": [
    "<h2 style='direction:rtl; text-align: right'>\n",
    "قسمت ۱.۳: پیاده سازی تابع norm\n",
    "</h2>\n",
    "$$\\|x\\| = \\sqrt{\\sum_{i=1}^{dim} x_i^2}$$\n",
    "<p style='direction:rtl; text-align: right'>طوری تابع را پیاده سازی کنید که اندازه یک آرایه چند تایی از بردار ها را نیز حساب کند.</p>\n",
    "<p style='direction:rtl; text-align: right'>به طور مثال اگر ورودی تابع ۲ بردار چند بعدی باشد خروجی یک آرایه ۲ تایی از اندازه بردار ها باشد.</p>"
   ]
  },
  {
   "cell_type": "code",
   "execution_count": null,
   "metadata": {},
   "outputs": [],
   "source": [
    "def vector_norm(x):\n",
    "    ######## Write your code \n",
    "    sz = np.shape(x)\n",
    "    norm = np.array([sqrt(np.sum([x[i][j] * x[i][j] for j in range(sz[1])])) for i in range(sz[0])])\n",
    "    \n",
    "    ########\n",
    "    return norm"
   ]
  },
  {
   "cell_type": "markdown",
   "metadata": {},
   "source": [
    "\n",
    "<p style='direction:rtl; text-align: right'>در این قسمت تمام بردارها را به اندازه خود تقسیم کرده و بردارهای یکه حاصل را نمایش دهید.</p>"
   ]
  },
  {
   "cell_type": "code",
   "execution_count": null,
   "metadata": {},
   "outputs": [],
   "source": [
    "######## Write your code \n",
    "sz = np.shape(k)\n",
    "norm = vector_norm(k)\n",
    "answer = np.array([[k[i][j] / norm[i] for j in range(sz[1])] for i in range(sz[0])])\n",
    "\n",
    "########\n",
    "print(answer)"
   ]
  },
  {
   "cell_type": "markdown",
   "metadata": {},
   "source": [
    "\n",
    "<p style='direction:rtl; text-align: right'>\n",
    "در این قسمت میانگین و انحراف معیار طول این بردار ها را حساب کنید و با جذر dim مقایسه کنید.\n",
    "</p>"
   ]
  },
  {
   "cell_type": "code",
   "execution_count": null,
   "metadata": {},
   "outputs": [],
   "source": [
    "######## Write your code \n",
    "    \n",
    "mean = np.average(norm)\n",
    "std = np.std(norm)\n",
    "\n",
    "########\n",
    "print(mean)\n",
    "print(std)\n",
    "print(sqrt(dim))"
   ]
  },
  {
   "cell_type": "markdown",
   "metadata": {},
   "source": [
    "<h2 style='direction:rtl; text-align: right'>\n",
    "قسمت ۱.۳: پیاده سازی تابع inner_product\n",
    "</h2>\n"
   ]
  },
  {
   "cell_type": "code",
   "execution_count": null,
   "metadata": {},
   "outputs": [],
   "source": [
    "def inner_product(v, u):\n",
    "    ######## Write your code \n",
    "    \n",
    "    answer = 0\n",
    "    if (np.shape(v) == np.shape(u)):\n",
    "        answer = np.sum([v[i] * u[i] for i in range(np.shape(v)[0])])\n",
    "    \n",
    "    ########\n",
    "    return answer"
   ]
  },
  {
   "cell_type": "markdown",
   "metadata": {},
   "source": [
    "\n",
    "<p style='direction:rtl; text-align: right'>\n",
    "حال ضرب داخلی دو به دو بردار ها را با استفاده از تابع \n",
    "    inner_product\n",
    "   حساب کرده\n",
    "</p>"
   ]
  },
  {
   "cell_type": "code",
   "execution_count": null,
   "metadata": {},
   "outputs": [],
   "source": [
    "inner_products = []\n",
    "######## Write your code \n",
    "\n",
    "for i in range(n):\n",
    "    for j in range(n):\n",
    "        if (i != j):\n",
    "            inner_products.append(inner_product(k[i], k[j]))\n",
    "\n",
    "\n",
    "########\n",
    "inner_products = np.array(inner_products)"
   ]
  },
  {
   "cell_type": "markdown",
   "metadata": {},
   "source": [
    "\n",
    "<p style='direction:rtl; text-align: right'>\n",
    "میانگین و واریانس ضرب داخلی ها را نمایش دهید:\n",
    "</p>"
   ]
  },
  {
   "cell_type": "code",
   "execution_count": null,
   "metadata": {},
   "outputs": [],
   "source": [
    "######## Write your code \n",
    "    \n",
    "mean = np.average(inner_products)\n",
    "var = np.std(inner_products) ** 2\n",
    "\n",
    "########\n",
    "print(mean)\n",
    "print(var)"
   ]
  },
  {
   "cell_type": "markdown",
   "metadata": {},
   "source": [
    "<h1 style='direction:rtl; text-align: right'>\n",
    "قسمت ۲: بردارهای تصادفی در گوی یکه \n",
    "</h1>"
   ]
  },
  {
   "cell_type": "markdown",
   "metadata": {},
   "source": [
    "<p style='direction:rtl; text-align: right'>\n",
    "    هدف این بخش دیدن این نکته است که در ابعاد بالا بردارهای تصادفی در گوی یکه تقریبا یکه و متعامدند.\n",
    "</p>"
   ]
  },
  {
   "cell_type": "markdown",
   "metadata": {},
   "source": [
    "<p style='direction:rtl; text-align: right'>\n",
    "  صد بردار تصادفی ۱۰۰۰ بعدی از توزیع نرمال با میانگین صفر و انحراف معیار یک بسازید. سپس بردارها را به طولشان تقسیم کنید تا یکه شوند. \n",
    "</p>"
   ]
  },
  {
   "cell_type": "code",
   "execution_count": null,
   "metadata": {},
   "outputs": [],
   "source": [
    "# x is an array of dimension (100,1000)\n",
    "n = 100\n",
    "dim = 1000\n",
    "######## Write your code \n",
    "mu, sigma = 0, 1\n",
    "\n",
    "k = np.random.normal(mu, sigma, size = (n, dim))\n",
    "sz = np.shape(k)\n",
    "norms = vector_norm(k)\n",
    "k = np.array([[k[i][j] / norms[i] for j in range(sz[1])] for i in range(sz[0])])\n",
    "\n",
    "    \n",
    "########"
   ]
  },
  {
   "cell_type": "markdown",
   "metadata": {},
   "source": [
    "<p style='direction:rtl; text-align: right'>\n",
    "    با استفاده از دستور np.random.rand \n",
    "    صد عدد تصادفی بین صفر و یک ایجاد کنید. اعداد بدست آمده را به توان 1/1000 برسانید و در بردارهای قسمت قبل ضرب کنید. حاصل ۱۰۰ بردار تصادفی درون گوی یکه است. \n",
    "</p>"
   ]
  },
  {
   "cell_type": "code",
   "execution_count": null,
   "metadata": {},
   "outputs": [],
   "source": [
    "# y is an array of dimension (100,1000)\n",
    "######## Write your code \n",
    "    \n",
    "y = np.random.rand(n)\n",
    "y **= 1 / dim\n",
    "x = [[y[i] * k[i][j] for j in range(dim)] for i in range(n)]\n",
    "    \n",
    "########"
   ]
  },
  {
   "cell_type": "markdown",
   "metadata": {},
   "source": [
    "<p style='direction:rtl; text-align: right'>\n",
    "    میانگین طول بردارهای بدست آمده در قسمت قبل را پیدا کنید. چه نتیجه ای میگیرید؟\n",
    "</p>"
   ]
  },
  {
   "cell_type": "code",
   "execution_count": null,
   "metadata": {},
   "outputs": [],
   "source": [
    "# mean1 is the average of norms of vectors in y\n",
    "######## Write your code \n",
    "norms = vector_norm(x)\n",
    "mean1 = np.average(norms)\n",
    "    \n",
    "########\n",
    "print(mean1)"
   ]
  },
  {
   "cell_type": "markdown",
   "metadata": {},
   "source": [
    "<p style='direction:rtl; text-align: right'>\n",
    "اگر یک بردار تصادفی یکنواخت در گوی واحد انتخاب کنیم با احتمال زیاد این بردار نزدیک پوسته است. یعنی نرم آن تقریبا 1 است وقتی ابعاد بزرگ است.\n",
    "</p>"
   ]
  },
  {
   "cell_type": "markdown",
   "metadata": {},
   "source": [
    "<p style='direction:rtl; text-align: right'>\n",
    "ضرب داخلی دو به دو بردارهای درون y را بدست آورید و سپس میانگین این اعداد را پیدا کنید. چه نتیجه‌ای میگیرید؟  \n",
    "</p>"
   ]
  },
  {
   "cell_type": "code",
   "execution_count": null,
   "metadata": {},
   "outputs": [],
   "source": [
    "# mean2 is the average of inner products of y[i] and y[j]\n",
    "######## Write your code \n",
    "inner_products = [] \n",
    "for i in range(n):\n",
    "    for j in range(n):\n",
    "        if (i != j):\n",
    "            inner_products.append(inner_product(x[i], x[j]))\n",
    "inner_products = np.array(inner_products)\n",
    "mean2 = np.average(inner_products)\n",
    "   \n",
    "########\n",
    "print(mean2)"
   ]
  },
  {
   "cell_type": "markdown",
   "metadata": {},
   "source": [
    "<p style='direction:rtl; text-align: right'>\n",
    "از آنجایی که میانگین ضرب داخلی ها نزدیک صفر است نتیجه می گیریم هر دو بردار تصادفی و مستقل در گوی واحد تقریبا بر هم عمودند.\n",
    "</p>"
   ]
  },
  {
   "cell_type": "markdown",
   "metadata": {},
   "source": [
    "<p style='direction:rtl; text-align: right'>۵۰۰ نقطه تصادفی روی گوی یکه ۵۰ بعدی تولید کنید. سپس ۵ نقطه تصافی دیگر روی این گوی یکه تولید کنید. فرض کنید هر یک از این ۵ نقطه قطب شمال هستند و برای هر کدام یک نوار نزدیک استوا به ضخامت \n",
    "    $\\frac{2}{\\sqrt{50}}$ در نظر بگیرید. در هر کدام از این ۵ نوار چندتا از آن ۵۰۰ نقطه ها قرار دارند؟ ضخامت نوارها حداقل چند باشد تا همه ۵۰۰ نقطه در هر پنج نوار باشند.  </p>"
   ]
  },
  {
   "cell_type": "code",
   "execution_count": null,
   "metadata": {},
   "outputs": [],
   "source": [
    "######## Write your code\n",
    "def isOnStrip(c, x, pole):\n",
    "    threshold = c / np.sqrt(50)\n",
    "    if (np.abs(inner_product(x, pole)) < threshold):\n",
    "        return 1\n",
    "    else:\n",
    "        return 0\n",
    "dim = 50\n",
    "n = 500\n",
    "mu, sigma = 0, 1\n",
    "points = np.random.normal(mu, sigma, size = (n, dim))\n",
    "points_norms = vector_norm(points)\n",
    "points = np.array([[points[i][j] / points_norms[i] for j in range(dim)] for i in range(n)])\n",
    "poles = np.random.normal(mu, sigma, size = (5, dim))\n",
    "poles_norms = vector_norm(poles)\n",
    "poles = np.array([[poles[i][j] / poles_norms[i] for j in range(dim)] for i in range(5)])\n",
    "c = 4\n",
    "result = [sum([isOnStrip(c, points[i], poles[j]) for i in range(n)]) for j in range(5)]\n",
    "########\n",
    "print(result)\n",
    "########"
   ]
  },
  {
   "cell_type": "markdown",
   "metadata": {},
   "source": [
    "<p style='direction:rtl; text-align: right'>\n",
    "به ازای حداقال مقدار c بین 3 و 4 تمامی بردارهای روی نوار استوا قرار میگیرند\n",
    "</p>"
   ]
  },
  {
   "cell_type": "markdown",
   "metadata": {},
   "source": [
    "<h1 style='direction:rtl; text-align: right'>\n",
    "قسمت ۳: تفکیک توزیع های گوسی\n",
    "</h1>"
   ]
  },
  {
   "cell_type": "markdown",
   "metadata": {},
   "source": [
    "<p style='direction:rtl; text-align: right'>هدف این بخش دسته بندی کردن نقاط و نسبت دادن آن ها به توزیع گوسی مربوط به خود می باشد.</p>"
   ]
  },
  {
   "cell_type": "markdown",
   "metadata": {},
   "source": [
    "<h2 style='direction:rtl; text-align: right'>\n",
    "قسمت ۳.۱: تولید m بردار از توزیع نرمال با میانگین ۰ و انحراف معیار ۱ با بعد dim\n",
    "</h2>\n",
    "<p style='direction:rtl; text-align: right'>برای این کار از تابع np.random.normal استفاده کنید:</p>"
   ]
  },
  {
   "cell_type": "code",
   "execution_count": null,
   "metadata": {},
   "outputs": [],
   "source": [
    "m = 10\n",
    "dim = 3000\n",
    "######## Write your code \n",
    "mu, sigma = 0, 1\n",
    "x = np.random.normal(mu, sigma, size = (m, dim))\n",
    "\n",
    "########\n",
    "print(x.shape)"
   ]
  },
  {
   "cell_type": "markdown",
   "metadata": {},
   "source": [
    "<h2 style='direction:rtl; text-align: right'>\n",
    "قسمت ۳.۲: تولید m بردار از توزیع نرمال با میانگین بردار ثابت 1 و انحراف معیار ۱ با بعد dim\n",
    "</h2>\n",
    "<p style='direction:rtl; text-align: right'>برای این کار از تابع np.random.normal استفاده کنید:</p>"
   ]
  },
  {
   "cell_type": "code",
   "execution_count": null,
   "metadata": {},
   "outputs": [],
   "source": [
    "######## Write your code \n",
    "mu, sigma = 1, 1\n",
    "y = np.random.normal(mu, sigma, size = (m, dim))\n",
    "\n",
    "########\n",
    "print(y.shape)\n"
   ]
  },
  {
   "cell_type": "markdown",
   "metadata": {},
   "source": [
    "<h2 style='direction:rtl; text-align: right'>\n",
    "قسمت ۳.۴: در این قسمت داده ها را لیبل دار کنید\n",
    "</h2>\n",
    "<p style='direction:rtl; text-align: right'>برای بردار های x یک ستون ۰ و برای بردار های y یک ستون ۱ به اخر داده اضافه کنید.</p>\n",
    "<p style='direction:rtl; text-align: right'>برای این کار از تابع np.ones و np.zeros و np.concatenate استفاده کنید:</p>"
   ]
  },
  {
   "cell_type": "code",
   "execution_count": null,
   "metadata": {},
   "outputs": [],
   "source": [
    "######## Write your code \n",
    "\n",
    "####### np.ones & np.zeros\n",
    "x_label = np.zeros((m, 1))\n",
    "y_label = np.ones((m, 1))\n",
    "\n",
    "####### np.concatenate\n",
    "x = np.concatenate((x, x_label), axis = 1)\n",
    "y = np.concatenate((y, y_label), axis = 1)\n",
    "\n",
    "\n",
    "########\n",
    "allpoint = np.concatenate((x, y), axis = 0)\n",
    "print(allpoint.shape)"
   ]
  },
  {
   "cell_type": "markdown",
   "metadata": {},
   "source": [
    "<h2 style='direction:rtl; text-align: right'>\n",
    "قسمت ۳.۵: پیاده سازی تابع فاصله\n",
    "</h2>\n",
    "$$Distance(X,Y) = \\sqrt{\\sum_{i=1}^{dim} ((x_i-y_i)^2)}$$"
   ]
  },
  {
   "cell_type": "code",
   "execution_count": null,
   "metadata": {},
   "outputs": [],
   "source": [
    "def distance(X, Y):\n",
    "    ######## Write your code\n",
    "    dif = 0\n",
    "    if len(X) == len(Y):\n",
    "        dif = np.sqrt(np.sum([(X[i] - Y[i]) ** 2 for i in range(len(X))]))\n",
    "    ########\n",
    "    return dif"
   ]
  },
  {
   "cell_type": "markdown",
   "metadata": {},
   "source": [
    "<h2 style='direction:rtl; text-align: right'>\n",
    "قسمت ۳.۶:پیدا کردن فاصله ۲ به ۲ نقاط \n",
    "</h2>\n",
    "\n",
    "<p style='direction:rtl; text-align: right'>دقت شود ستون اخر داده allpoint لیبل میباشد و در محاسبات نباید حضور داشته باشد. </p>\n"
   ]
  },
  {
   "cell_type": "code",
   "execution_count": null,
   "metadata": {
    "scrolled": true
   },
   "outputs": [],
   "source": [
    "######## Write your code\n",
    "\n",
    "allpoint_without_label = allpoint[:, 0: -1]\n",
    "\n",
    "########\n",
    "\n",
    "\n",
    "distances = np.zeros((len(allpoint_without_label), len(allpoint_without_label)))\n",
    "\n",
    "\n",
    "for i in range(0, len(allpoint_without_label)):\n",
    "    for j in range(0, len(allpoint_without_label)):\n",
    "         ######## Write your code\n",
    "        \n",
    "         distances[i, j] = distance(allpoint_without_label[i], allpoint_without_label[j])\n",
    "            \n",
    "         #########   \n",
    "print(distances)"
   ]
  },
  {
   "cell_type": "markdown",
   "metadata": {},
   "source": [
    "<h2 style='direction:rtl; text-align: right'>\n",
    "قسمت ۳.۷:نمایش فاصله ها \n",
    "</h2>\n",
    "<p style='direction:rtl; text-align: right'>برای نمایش داده ها از plt.scatter استفاده شود.</p>\n",
    "<p style='direction:rtl; text-align: right'>از distances_plot به عنوان مولفه x استفاده شود. </p>\n",
    "<p style='direction:rtl; text-align: right'>برای مولفه y از np.zeros استفاده کنید.</p>\n"
   ]
  },
  {
   "cell_type": "code",
   "execution_count": null,
   "metadata": {},
   "outputs": [],
   "source": [
    "distances_plot = distances[distances != 0]\n",
    "print(distances.shape)\n",
    "\n",
    "######## Write your code\n",
    "x_s = distances_plot\n",
    "y_s = np.zeros(len(distances_plot))\n",
    "plt.scatter(x_s, y_s)\n",
    "\n",
    "########"
   ]
  },
  {
   "cell_type": "code",
   "execution_count": null,
   "metadata": {},
   "outputs": [],
   "source": [
    "error = 0\n",
    "######## Write your code\n",
    "\n",
    "distance_threshold = 85\n",
    "\n",
    "\n",
    "######## compute error\n",
    "for i in range(len(distances)):\n",
    "    for j in range(len(distances[i])):\n",
    "        if (distances[i][j] < distance_threshold and allpoint[i, dim] != allpoint[j, dim]) or (distances[i][j] > distance_threshold and allpoint[i, dim] == allpoint[j, dim]):\n",
    "            error += 1\n",
    "print(\"Error value:{}\".format(error / (len(distances) ** 2)))"
   ]
  },
  {
   "cell_type": "markdown",
   "metadata": {},
   "source": [
    "<h1 style='direction:rtl; text-align: right'>\n",
    "قسمت ۴: کاهش بعد\n",
    "</h1>\n",
    "<h2 style='direction:ltr; text-align: right'>\n",
    "Random Projection\n",
    "</h2>"
   ]
  },
  {
   "cell_type": "markdown",
   "metadata": {},
   "source": [
    "<h2 style='direction:rtl; text-align: right'>\n",
    "قسمت ۴.۱: پیاده سازی تابع Project_Subspace جهت تصویر کردن بردار روی زیرفضا\n",
    "</h2>\n",
    "<p style='direction:rtl; text-align: right'>\n",
    "  این تابع یک بردار d بعدی و k بردار d بعدی را می‌گیرد و مختصات تصویر بردار اول را روی فضای تولید شده توسط k بردار بعدی محاسبه می‌کند. خروجی یک بردار k بعدی است.\n",
    "</p>\n",
    "<p style='direction:rtl; text-align: right'>دقت شود ورودی اول می تواند آرایه ای از بردار ها باشد. در نتیجه کد شما باید همچنان کار کند.</p>"
   ]
  },
  {
   "cell_type": "code",
   "execution_count": null,
   "metadata": {},
   "outputs": [],
   "source": [
    "def Project_Subspace(X, W): # X is a vector of dimension d, W is an array of size (k,d)\n",
    "    \n",
    "    ######## Write your code\n",
    "    d = 0\n",
    "    m = 0\n",
    "    dim_of_x = len(X.shape)\n",
    "    if (dim_of_x > 1):\n",
    "        m = X.shape[0]\n",
    "    else:\n",
    "        m = 1\n",
    "    k = W.shape[0]\n",
    "    d = W.shape[1]\n",
    "    if (dim_of_x == 1):\n",
    "        projection = [inner_product(X, W[i]) for i in range(k)]\n",
    "    else:\n",
    "        projection = [[inner_product(X[i], W[j]) for j in range(k)] for i in range(m)]\n",
    "    \n",
    "    ########\n",
    "    return projection"
   ]
  },
  {
   "cell_type": "markdown",
   "metadata": {},
   "source": [
    "\n",
    "<p style='direction:rtl; text-align: right'>مراحل زیر را انجام دهید:\n",
    "    <ul style='direction:rtl; text-align: right'>\n",
    "        <li>\n",
    "تولید n بردار از توزیع نرمال با میانگین ۰ و انحراف معیار ۱ با بعد dim\n",
    "</li>\n",
    "        <li>تولید k بردار از توزیع نرمال با میانگین ۰ و انحراف معیار ۱ با بعد dim</li>\n",
    "        <li>از تابع project_subspace استفاده کنید و بردار های u را روی بردار های v تصویر کنید.</li>\n",
    "        <li>بردار های حاصل را بر جذر k تقسیم کنید و حاصل را در ans ذخیره کنید.</li>\n",
    "        <li>فاصله دو به دو بردار های ans را حساب کنید و میانگین فاصله ها را نمایش دهید.</li>\n",
    "        <li>فاصله دو به دو بردار های u را حساب کنید و میانگین فاصله ها را نمایش دهید.</li>\n",
    "    </ul>\n",
    "</p>\n"
   ]
  },
  {
   "cell_type": "code",
   "execution_count": null,
   "metadata": {},
   "outputs": [],
   "source": [
    "n = 100\n",
    "k = int(10 * np.log(n))\n",
    "dim = 500\n",
    "\n",
    "\n",
    "######## Write your code\n",
    "mu, sigma = 0, 1\n",
    "u = np.random.normal(mu, sigma, size = (n, dim))\n",
    "v = np.random.normal(mu, sigma, size = (k, dim))\n",
    "random_projection = Project_Subspace(u, v)\n",
    "ans = random_projection / np.sqrt(k)\n",
    "\n",
    "ans_distances = [[distance(ans[i], ans[j]) for j in range(ans.shape[0])] for i in range(ans.shape[0])]\n",
    "u_distances = [[distance(u[i], u[j]) for j in range(u.shape[0])] for i in range(u.shape[0])]\n",
    "print(np.average(ans_distances))\n",
    "print(np.average(u_distances))\n",
    "########"
   ]
  },
  {
   "cell_type": "code",
   "execution_count": null,
   "metadata": {},
   "outputs": [],
   "source": []
  },
  {
   "cell_type": "code",
   "execution_count": null,
   "metadata": {},
   "outputs": [],
   "source": []
  }
 ],
 "metadata": {
  "kernelspec": {
   "display_name": "Python 3",
   "language": "python",
   "name": "python3"
  },
  "language_info": {
   "codemirror_mode": {
    "name": "ipython",
    "version": 3
   },
   "file_extension": ".py",
   "mimetype": "text/x-python",
   "name": "python",
   "nbconvert_exporter": "python",
   "pygments_lexer": "ipython3",
   "version": "3.8.5"
  }
 },
 "nbformat": 4,
 "nbformat_minor": 4
}
