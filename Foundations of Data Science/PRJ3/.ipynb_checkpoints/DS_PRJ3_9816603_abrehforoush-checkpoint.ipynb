{
 "cells": [
  {
   "cell_type": "markdown",
   "metadata": {},
   "source": [
    "<p style='direction:rtl; text-align: right'>ابتدا باید کتابخانه های زیر را وارد کنیم:\n",
    "    <ul style='direction:rtl; text-align: right'>\n",
    "        <li>numpy: برای کار با ماتریس ها</li>\n",
    "        <li>matplotlib: برای رسم نمودار</li>\n",
    "        <li>sklearn.neighbors: برای تولید ماتریس همسایگی</li>\n",
    "        <li>sparse: برای تولید ماتریس لاپلاسین</li>\n",
    "        <li>linalg: برای پیدا کردن مقادیر و بردار های ویژه </li>\n",
    "        <li>sklearn.datasets: برای تولید دیتا جهت کلاسترینگ </li>\n",
    "    </ul>\n",
    "</p>\n",
    "\n",
    "</p>"
   ]
  },
  {
   "cell_type": "code",
   "execution_count": 34,
   "metadata": {},
   "outputs": [],
   "source": [
    "import numpy as np\n",
    "import matplotlib.pyplot as plt\n",
    "from sklearn.neighbors import kneighbors_graph\n",
    "from scipy import sparse\n",
    "from scipy import linalg\n",
    "from sklearn.datasets import make_blobs, make_circles"
   ]
  },
  {
   "cell_type": "markdown",
   "metadata": {},
   "source": [
    "<h1 style='direction:rtl; text-align: right'>\n",
    "پروژه۳: کلاسترینگ\n",
    "</h1>"
   ]
  },
  {
   "cell_type": "markdown",
   "metadata": {},
   "source": [
    "<h2 style='direction:rtl; text-align: right'>\n",
    "قسمت ۱.۱: پیاده سازی توابع norm\n",
    "</h2>\n",
    "<p style='direction:rtl; text-align: right'>تابع های زیر را پیاده سازی کنید:\n",
    "    <ul style='direction:rtl; text-align: right'>\n",
    "        <li>l2_norm: این تابع با گرفتن ۲ بردار فاصله اقلیدسی آن ها را محاسبه میکند.</li>\n",
    "        <li>l2norm_vector: این تابع با گرفتن یک نقطه به عنوان ورودی اول و مجموعه ای از نقاط به عنوان ورودی دوم، فاصله نقطه اول را از تمامی نقاط در ورودی دوم را حساب میکند.</li>\n",
    "        </ul>\n",
    "</p>"
   ]
  },
  {
   "cell_type": "code",
   "execution_count": 35,
   "metadata": {},
   "outputs": [],
   "source": [
    "def l2_norm(point, center):\n",
    "    #####code here\n",
    "    point = np.array(point);\n",
    "    center = np.array(center);\n",
    "    return np.sqrt(np.sum((point - center) ** 2));\n",
    "    ########\n",
    "\n",
    "def l2norm_vector(point, centers):\n",
    "    l2 = [];\n",
    "    for center in centers:\n",
    "        #####code here\n",
    "        l2.append(l2_norm(point, center));\n",
    "        ########\n",
    "    return np.array(l2)"
   ]
  },
  {
   "cell_type": "markdown",
   "metadata": {},
   "source": [
    "<h2 style='direction:rtl; text-align: right'>\n",
    "قسمت ۱.۲: پیاده سازی kmeans \n",
    "</h2>\n",
    "<p style='direction:rtl; text-align: right'>در این قسمت باید تابع kmeans را پیاده سازی کنید:\n",
    "    <ul style='direction:rtl; text-align: right'>\n",
    "        <li>متغیر clusters برای نگهداری نقاط موجود در هر کدام از کلاستر ها استفاده می شود.</li>\n",
    "        <li>متغیر centroids برای نگهداری مراکز دسته ها استفاده میشود.</li>\n",
    "        <li>ابتدا باید با استفاده که تابع هایی که در قسمت قبل نوشتید فاصله هر نقطه را تا تمامی مراکز دسته پیدا کنید و سپس کمترین فاصله را بیابید و نقطه ذکر شده را در آن دسته قرار دهید.</li>\n",
    "        <li>سپس باید مراکز دسته را اپدیت کنید. به اینصورت که میانگین تمام نقاط موجود در آن دسته به عنوان مرکز جدید انتخاب می شود.</li>\n",
    "        </ul>\n",
    "</p>"
   ]
  },
  {
   "cell_type": "code",
   "execution_count": 36,
   "metadata": {},
   "outputs": [],
   "source": [
    "def Kmeans(n_clusters, data, iterations):\n",
    "    clusters = {str(i): [] for i in range(n_clusters)}\n",
    "    index = np.random.choice(data.shape[0], n_clusters, replace=False)\n",
    "    centroids = data[index]\n",
    "    realDataIndexes = {str(i): [] for i in range(n_clusters)}\n",
    "    \n",
    "    \"\"\"run training using l2-norm\"\"\"\n",
    "    for k in range(iterations):\n",
    "        for j in range(n_clusters):\n",
    "            clusters[str(j + 1)] = []\n",
    "            realDataIndexes[str(j + 1)] = []\n",
    "            for i in range(data.shape[0]):\n",
    "\n",
    "                #####code here\n",
    "                norm_vector = l2norm_vector(data[i], centroids);\n",
    "                min_index = np.argmin(norm_vector);\n",
    "                ########\n",
    "                \n",
    "                \n",
    "            \n",
    "                clusters[str(min_index)].append(data[i])\n",
    "                realDataIndexes[str(min_index)].append(i)\n",
    "\n",
    "            old_centroids = centroids[:]\n",
    "            for c in range(n_clusters):\n",
    "                #####code here\n",
    "                mean = np.mean(np.array(clusters[str(c)]), axis = 0);\n",
    "                centroids[c] = mean;\n",
    "                ########\n",
    "            if np.all(old_centroids == centroids):\n",
    "                break\n",
    "                \n",
    "        \n",
    "    return centroids, clusters, realDataIndexes\n",
    "            \n",
    "    "
   ]
  },
  {
   "cell_type": "markdown",
   "metadata": {},
   "source": [
    "<h2 style='direction:rtl; text-align: right'>\n",
    "قسمت ۱.۳: تولید داده kmeans \n",
    "</h2>\n",
    "<p style='direction:rtl; text-align: right'>با استفاده از تابع make_blobs ۲۰۰۰ داده با ۳ مرکز تولید کنید. ورودی تابع به صورت زیر میباشد:\n",
    "    <ul style='direction:rtl; text-align: right'>\n",
    "        <li>n_samples</li>\n",
    "        <li>centers</li>\n",
    "        <li>cluster_std</li>\n",
    "        <li>random_state=42</li>\n",
    "        <li>n_features=2</li>\n",
    "        </ul>\n",
    "</p>"
   ]
  },
  {
   "cell_type": "code",
   "execution_count": 37,
   "metadata": {},
   "outputs": [],
   "source": [
    "#####code here\n",
    "features, true_labels = make_blobs(n_samples = 2000, centers = 3, cluster_std = 3, random_state = 42, n_features = 2);\n",
    "#####"
   ]
  },
  {
   "cell_type": "markdown",
   "metadata": {},
   "source": [
    "<h2 style='direction:rtl; text-align: right'>\n",
    "قسمت ۱.۴: نمایش داده \n",
    "</h2>\n",
    "<p style='direction:rtl; text-align: right'>\n",
    "    <ul style='direction:rtl; text-align: right'>\n",
    "        <li>با استفاده از تابع scatter نمودار داده را رسم کنید.</li>\n",
    "        <li>تابع kmeans پیاده سازی شده را فراخوانی کنید.</li>\n",
    "        <li>داده های لیبل شده را نمایش دهید.</li>\n",
    "        </ul>\n",
    "</p>"
   ]
  },
  {
   "cell_type": "code",
   "execution_count": 38,
   "metadata": {},
   "outputs": [
    {
     "data": {
      "text/plain": [
       "<matplotlib.collections.PathCollection at 0x112cc990370>"
      ]
     },
     "execution_count": 38,
     "metadata": {},
     "output_type": "execute_result"
    },
    {
     "data": {
      "image/png": "[encoded data removed]",
      "text/plain": [
       "<Figure size 432x288 with 1 Axes>"
      ]
     },
     "metadata": {
      "needs_background": "light"
     },
     "output_type": "display_data"
    }
   ],
   "source": [
    "plt.scatter(np.array(features)[:,0],np.array(features)[:,1])\n",
    "   "
   ]
  },
  {
   "cell_type": "code",
   "execution_count": 39,
   "metadata": {},
   "outputs": [
    {
     "data": {
      "image/png": "[encoded data removed]",
      "text/plain": [
       "<Figure size 432x288 with 1 Axes>"
      ]
     },
     "metadata": {
      "needs_background": "light"
     },
     "output_type": "display_data"
    }
   ],
   "source": [
    "cdict = {0: 'red', 1: 'blue', 2: 'green'}\n",
    "centroids, clusters, index = Kmeans(3,features,100)\n",
    "\n",
    "for (i,value) in enumerate(clusters):\n",
    "    plt.scatter(np.array(clusters[value])[:,0],np.array(clusters[value])[:,1],c = cdict[i])"
   ]
  },
  {
   "cell_type": "markdown",
   "metadata": {},
   "source": [
    "<h2 style='direction:rtl; text-align: right'>\n",
    "قسمت ۱.۵: تولید داده kmeans \n",
    "</h2>\n",
    "<p style='direction:rtl; text-align: right'>با استفاده از تابع make_circles ۱۰۰۰ داده تولید کنید. ورودی تابع به صورت زیر میباشد:\n",
    "    <ul style='direction:rtl; text-align: right'>\n",
    "        <li>n_samples</li>\n",
    "        <li>factor=0.5</li>\n",
    "        <li>noise=0.05</li>\n",
    "        </ul>\n",
    "</p>"
   ]
  },
  {
   "cell_type": "code",
   "execution_count": 40,
   "metadata": {},
   "outputs": [],
   "source": [
    "#####code here\n",
    "noisy_circles = make_circles(n_samples = 1000, factor = 0.5, noise = 0.05);\n",
    "##########\n",
    "noisy_circles = noisy_circles[0]"
   ]
  },
  {
   "cell_type": "markdown",
   "metadata": {},
   "source": [
    "<h2 style='direction:rtl; text-align: right'>\n",
    "قسمت ۱.۶: نمایش داده \n",
    "</h2>\n",
    "<p style='direction:rtl; text-align: right'>\n",
    "    <ul style='direction:rtl; text-align: right'>\n",
    "        <li>با استفاده از تابع scatter نمودار داده را رسم کنید.</li>\n",
    "        </ul>\n",
    "</p>"
   ]
  },
  {
   "cell_type": "code",
   "execution_count": 41,
   "metadata": {
    "scrolled": true
   },
   "outputs": [
    {
     "data": {
      "text/plain": [
       "<matplotlib.collections.PathCollection at 0x112caf8f250>"
      ]
     },
     "execution_count": 41,
     "metadata": {},
     "output_type": "execute_result"
    },
    {
     "data": {
      "image/png": "[encoded data removed]",
      "text/plain": [
       "<Figure size 432x288 with 1 Axes>"
      ]
     },
     "metadata": {
      "needs_background": "light"
     },
     "output_type": "display_data"
    }
   ],
   "source": [
    "plt.scatter(noisy_circles[:,0],noisy_circles[:,1])"
   ]
  },
  {
   "cell_type": "markdown",
   "metadata": {},
   "source": [
    "<h2 style='direction:rtl; text-align: right'>\n",
    "قسمت ۱.۷: انجام الگوریتم kmeans روی داده های جدید \n",
    "</h2>\n",
    "<p style='direction:rtl; text-align: right'>\n",
    "    <ul style='direction:rtl; text-align: right'>\n",
    "        <li>تابع kmeans پیاده سازی شده را فراخوانی کنید.</li>\n",
    "        <li>داده های لیبل شده را نمایش دهید.</li>\n",
    "        </ul>\n",
    "</p>"
   ]
  },
  {
   "cell_type": "code",
   "execution_count": 42,
   "metadata": {
    "scrolled": true
   },
   "outputs": [
    {
     "data": {
      "image/png": "[encoded data removed]",
      "text/plain": [
       "<Figure size 432x288 with 1 Axes>"
      ]
     },
     "metadata": {
      "needs_background": "light"
     },
     "output_type": "display_data"
    }
   ],
   "source": [
    "centroids, clusters, index = Kmeans(2,noisy_circles,100)\n",
    "for (i,value) in enumerate(clusters):\n",
    "#     ax.scatter(np.array(clusters[value])[:,0],np.array(clusters[value])[:,1],np.array(clusters[value])[:,2],c = cdict[i])\n",
    "    plt.scatter(np.array(clusters[value])[:,0],np.array(clusters[value])[:,1],c = cdict[i])"
   ]
  },
  {
   "cell_type": "markdown",
   "metadata": {},
   "source": [
    "<h2 style='direction:rtl; text-align: right'>\n",
    "قسمت ۲: پیاده سازی دسته بندی طیفی  \n",
    "</h2>"
   ]
  },
  {
   "cell_type": "markdown",
   "metadata": {},
   "source": [
    "<h2 style='direction:rtl; text-align: right'>\n",
    "قسمت ۲.۱: پیاده سازی تابع ماتریس لاپلاسین  \n",
    "</h2>\n",
    "<p style='direction:rtl; text-align: right'> این تابع مجوعه نقاط را ورودی میگیرد و ماتریس لاپلاسین گراف همسایگی را خروجی میدهد.\n",
    "    <ul style='direction:rtl; text-align: right'>\n",
    "        <li>با استفاده از تابع kneighbors_graph ماتریس همسایگی داده را بدست آورید و در متغیر connectivity ذخیره کنید. ورودی n_neighbors این تابع را برابر ۸ و ورودی mode این تابع را برابر 'connectivity' قرار دهید.</li>\n",
    "        <li>با استفاده از ماتریس همسایگی، ماتریس مجاورت را بدست بیاورید و در متغیر adjacency_matrix_s ذخیره کنید.</li>\n",
    "        <li>با استفاده از تابع sparse.csgraph.laplacian ماتریس لاپلاسین را محاسبه کنید. ورودی csgraph این تابع را برابر adjacency_matrix_s و ورودی normed این تابع را برابر False قرار بدهید</li>\n",
    "        </ul>\n",
    "</p>"
   ]
  },
  {
   "cell_type": "markdown",
   "metadata": {},
   "source": [
    "\n",
    "<p style='direction:rtl; text-align: right'>\n",
    "    همانطور که مشاهده میکنید الگوریتم kmeans قادر به دسته بندی درست در این مجموعه داده نمیباشد.\n",
    "</p>"
   ]
  },
  {
   "cell_type": "code",
   "execution_count": 44,
   "metadata": {},
   "outputs": [],
   "source": [
    "def generate_graph_laplacian(df):\n",
    "    \"\"\"Generate graph Laplacian from data.\"\"\"\n",
    "    # Adjacency Matrix.\n",
    "    #####code here\n",
    "\n",
    "    connectivity = kneighbors_graph(X = df, n_neighbors = 8, mode = 'connectivity');\n",
    "    adjacency_matrix_s = 0.5 * (connectivity + connectivity.T)\n",
    "\n",
    "    # Graph Laplacian.\n",
    "    graph_laplacian_s = sparse.csgraph.laplacian(csgraph = adjacency_matrix_s, normed = False);\n",
    "    #########\n",
    "    \n",
    "    graph_laplacian = graph_laplacian_s.toarray()\n",
    "    return graph_laplacian \n",
    "    \n",
    "graph_laplacian = generate_graph_laplacian(df = noisy_circles)\n"
   ]
  },
  {
   "cell_type": "markdown",
   "metadata": {},
   "source": [
    "<h2 style='direction:rtl; text-align: right'>\n",
    "قسمت ۲.۲: بدست آوردن مقادیر و بردار های ویژه ماتریس لاپلاسین  \n",
    "</h2>\n",
    "<p style='direction:rtl; text-align: right'> پیاده سازی تابعی که ماتریس لاپلاسین را به عنوان روردی میگیرد و مقادیر و بردار های ویژه را خروجی میدهد.\n",
    "    <ul style='direction:rtl; text-align: right'>\n",
    "        <li>با استفاده از تابع linalg.eig مقادیر و بردار های ویژه را بدست آورید.</li>\n",
    "        <li>با استفاده از تابع np.real مقدار حقیقی آن ها را پیدا کنید.</li>\n",
    "        <li>مقادیر حقیقی ویژه و بردار های ویژه را خروجی دهید.</li>\n",
    "        </ul>\n",
    "</p>"
   ]
  },
  {
   "cell_type": "code",
   "execution_count": 45,
   "metadata": {},
   "outputs": [],
   "source": [
    "def compute_spectrum_graph_laplacian(graph_laplacian):\n",
    "    \"\"\"Compute eigenvalues and eigenvectors and project \n",
    "    them onto the real numbers.\n",
    "    \"\"\"\n",
    "    #####code here\n",
    "    eigenvals, eigenvcts = linalg.eig(graph_laplacian);\n",
    "    eigenvals = np.real(eigenvals);\n",
    "    eigenvcts = np.real(eigenvcts);\n",
    "    #########\n",
    "    return eigenvals, eigenvcts\n",
    "\n",
    "eigenvals, eigenvcts = compute_spectrum_graph_laplacian(graph_laplacian)"
   ]
  },
  {
   "cell_type": "markdown",
   "metadata": {},
   "source": [
    "<h2 style='direction:rtl; text-align: right'>\n",
    "قسمت ۲.۳: پیدا کردن تصویر با استفاده از بردار های ویژه و مقادیر ویژه  \n",
    "</h2>\n",
    "<p style='direction:rtl; text-align: right'> پیاده سازی تابعی که مقادیر و بردار های ویژه را به عنوان ورودی میگیرد و تصویر نقاط را به عنوان خروجی میدهد.\n",
    "    <ul style='direction:rtl; text-align: right'>\n",
    "        <li>اندیس مینیمم مقادیر ویژه را با استفاده از تابع np.argsort بدست آورید.</li>\n",
    "        <li>با استفاده از تابع np.real مقدار حقیقی آن ها را پیدا کنید و حاصل را در indices ذخیره کنید.</li>\n",
    "        <li>ستون indices از بردار های ویژه برابر تصویر خواسته شده است.</li>\n",
    "        </ul>\n",
    "</p>"
   ]
  },
  {
   "cell_type": "code",
   "execution_count": 46,
   "metadata": {},
   "outputs": [],
   "source": [
    "def project_and_transpose(eigenvals, eigenvcts):\n",
    "    \"\"\"Select the eigenvectors corresponding to the first \n",
    "    (sorted) num_ev eigenvalues as columns in a data frame.\n",
    "    \"\"\"\n",
    "    #####code here\n",
    "    eigenvals_sorted_indices = np.argsort(eigenvals);\n",
    "    indices = np.real(eigenvals_sorted_indices[0]);\n",
    "\n",
    "    proj_df = np.array(eigenvcts[:, indices.squeeze()]);\n",
    "    ##########\n",
    "    return proj_df"
   ]
  },
  {
   "cell_type": "markdown",
   "metadata": {},
   "source": [
    "<h2 style='direction:rtl; text-align: right'>\n",
    "قسمت ۲.۴: کلاسترینگ و نمایش داده های لیبل شده جدید  \n",
    "</h2>\n",
    "<p style='direction:rtl; text-align: right'> پیاده سازی تابعی که مقادیر و بردار های ویژه را به عنوان ورودی میگیرد و\n",
    "    <ul style='direction:rtl; text-align: right'>\n",
    "        <li>با استفاده از تابع نوشته شده در قسمت قبل تصاویر نقاط را پیدا کنید.</li>\n",
    "        <li>حال الگوریتم kmeans را روی تصاویر اجرا کنید.</li>\n",
    "        <li>داده های لیبل شده را نمایش دهید.</li>\n",
    "        </ul>\n",
    "</p>"
   ]
  },
  {
   "cell_type": "code",
   "execution_count": 47,
   "metadata": {},
   "outputs": [
    {
     "data": {
      "image/png": "[encoded data removed]",
      "text/plain": [
       "<Figure size 432x288 with 1 Axes>"
      ]
     },
     "metadata": {
      "needs_background": "light"
     },
     "output_type": "display_data"
    }
   ],
   "source": [
    "x = project_and_transpose(eigenvals, eigenvcts)\n",
    "centroids, clusters, index = Kmeans(2, x, 100)\n",
    "# print(index[''])\n",
    "for (i,value) in enumerate(index):\n",
    "    plt.scatter(noisy_circles[index[value],0],noisy_circles[index[value],1],c = cdict[i])"
   ]
  },
  {
   "cell_type": "markdown",
   "metadata": {},
   "source": [
    "<p style='direction:rtl; text-align: right'> همانطور که مشاهده میکنید در این روش توانستیم داده ها را به درستی دسته بندی بکنیم.</p>"
   ]
  }
 ],
 "metadata": {
  "kernelspec": {
   "display_name": "Python 3",
   "language": "python",
   "name": "python3"
  },
  "language_info": {
   "codemirror_mode": {
    "name": "ipython",
    "version": 3
   },
   "file_extension": ".py",
   "mimetype": "text/x-python",
   "name": "python",
   "nbconvert_exporter": "python",
   "pygments_lexer": "ipython3",
   "version": "3.8.5"
  }
 },
 "nbformat": 4,
 "nbformat_minor": 5
}
