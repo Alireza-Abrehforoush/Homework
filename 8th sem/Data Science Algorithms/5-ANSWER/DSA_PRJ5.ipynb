{
 "cells": [
  {
   "cell_type": "code",
   "execution_count": 1,
   "id": "e2a1d7ab",
   "metadata": {},
   "outputs": [],
   "source": [
    "import numpy as np\n",
    "import pandas as pd\n",
    "import seaborn as sns\n",
    "import matplotlib.pyplot as plt\n",
    "import math\n",
    "from sklearn.model_selection import LeaveOneOut\n",
    "from scipy.stats import mode\n",
    "from sklearn.metrics import accuracy_score\n",
    "from sklearn.preprocessing import StandardScaler\n",
    "\n",
    "from sklearn.model_selection import train_test_split"
   ]
  },
  {
   "cell_type": "code",
   "execution_count": 2,
   "id": "334b606c",
   "metadata": {},
   "outputs": [],
   "source": [
    "#Q3-a\n",
    "def euclidean_distance(a,b):\n",
    "    a = np.array(a)\n",
    "    b = np.array(b)\n",
    "    return math.pow(sum(np.power((a-b),2)),1/2)"
   ]
  },
  {
   "cell_type": "code",
   "execution_count": 3,
   "id": "b9e0f234",
   "metadata": {},
   "outputs": [],
   "source": [
    "#Q3-a\n",
    "def knn_classifier(df,k):\n",
    "    #implement LOO method\n",
    "    cv = LeaveOneOut()\n",
    "    predictions = []\n",
    "    distances = np.array([])\n",
    "    for train, test in cv.split(df):\n",
    "        X_train, X_test = df.iloc[train, 1:], df.iloc[test, 1:]\n",
    "       \n",
    "        scaler = StandardScaler()\n",
    "        scaler.fit(X_train)\n",
    "        X_train = scaler.transform(X_train)\n",
    "        X_test = scaler.transform(X_test)\n",
    "        Y_train = df.iloc[train, 0].tolist()\n",
    "        Train = X_train\n",
    "        Test = X_test\n",
    "        #Implement KNN\n",
    "        for item in Train:\n",
    "            distances = np.append(distances,euclidean_distance(item,Test[0]))\n",
    "        sorted_indexes = np.argsort(distances)\n",
    "        distances = np.array([])\n",
    "        predictions.append((mode( [Y_train[j] for j in sorted_indexes[:k]])[0][0]))\n",
    "    return predictions"
   ]
  },
  {
   "cell_type": "code",
   "execution_count": 4,
   "id": "3550c9e2",
   "metadata": {},
   "outputs": [
    {
     "name": "stdout",
     "output_type": "stream",
     "text": [
      "the least error rate we can get is: 0.0268 with K equal to:  18\n"
     ]
    },
    {
     "data": {
      "text/plain": [
       "<matplotlib.collections.PathCollection at 0x1bcb52533d0>"
      ]
     },
     "execution_count": 4,
     "metadata": {},
     "output_type": "execute_result"
    },
    {
     "data": {
      "image/png": "[encoded data removed]",
      "text/plain": [
       "<Figure size 720x360 with 1 Axes>"
      ]
     },
     "metadata": {
      "needs_background": "light"
     },
     "output_type": "display_data"
    }
   ],
   "source": [
    "#Q3-b\n",
    "df = pd.read_csv(r'C:\\Users\\RSKALA\\Downloads\\Iris.csv')\n",
    "df=df.iloc[:,1:]\n",
    "df.reset_index(drop=True,inplace=True)\n",
    "\n",
    "#df.columns=['Class','Petal length','Sepal length','Sepal width','Petal width']\n",
    "\n",
    "df.drop_duplicates(inplace=True)\n",
    "real = df.iloc[:,0].tolist()\n",
    "e=[]\n",
    "\n",
    "\n",
    "for k in range(1,50):\n",
    "    pred = knn_classifier(df,k)\n",
    "    e.append(1-accuracy_score(pred,real))\n",
    "print('the least error rate we can get is: {:.3}'.format(min(e)), 'with K equal to: ',e.index(min(e))+1)\n",
    "plt.figure(figsize=(10,5))\n",
    "plt.title('Error rate of unweighted KNN with different K values')\n",
    "plt.xlabel('K')\n",
    "plt.ylabel('Error rate')\n",
    "plt.scatter(list(range(49)),e,c='orange')"
   ]
  },
  {
   "cell_type": "code",
   "execution_count": null,
   "id": "a6de2ff5",
   "metadata": {},
   "outputs": [],
   "source": []
  },
  {
   "cell_type": "code",
   "execution_count": null,
   "id": "535fd9ea",
   "metadata": {},
   "outputs": [],
   "source": []
  },
  {
   "cell_type": "code",
   "execution_count": null,
   "id": "f87422bf",
   "metadata": {},
   "outputs": [],
   "source": []
  },
  {
   "cell_type": "code",
   "execution_count": null,
   "id": "2c446354",
   "metadata": {},
   "outputs": [],
   "source": []
  },
  {
   "cell_type": "code",
   "execution_count": null,
   "id": "eca9e668",
   "metadata": {},
   "outputs": [],
   "source": []
  },
  {
   "cell_type": "code",
   "execution_count": null,
   "id": "f2204ff1",
   "metadata": {},
   "outputs": [],
   "source": []
  },
  {
   "attachments": {},
   "cell_type": "markdown",
   "id": "d24823df",
   "metadata": {},
   "source": [
    "# 2"
   ]
  },
  {
   "cell_type": "code",
   "execution_count": null,
   "id": "ef8d004c",
   "metadata": {},
   "outputs": [],
   "source": [
    "from sklearn import datasets\n",
    "from sklearn.model_selection import train_test_split\n",
    "from sklearn.tree import DecisionTreeClassifier\n",
    "from sklearn.model_selection import GridSearchCV\n",
    "from sklearn.metrics import accuracy_score\n",
    "import seaborn as sns\n",
    "from sklearn.metrics import confusion_matrix"
   ]
  },
  {
   "cell_type": "code",
   "execution_count": null,
   "id": "922fdbc8",
   "metadata": {},
   "outputs": [],
   "source": [
    "iris = datasets.load_iris()\n",
    "X = iris.data\n",
    "y = iris.target\n",
    "\n",
    "#split train and test data\n",
    "X_train,X_test,y_train,y_test = train_test_split(X,y,test_size=0.3)"
   ]
  },
  {
   "cell_type": "code",
   "execution_count": null,
   "id": "17e3cee7",
   "metadata": {},
   "outputs": [],
   "source": [
    "#set parametrs for gridsearch\n",
    "params = {'max_leaf_nodes': list(range(2, 10)), 'min_samples_split': [2, 3, 4], 'max_depth' :  list(range(1,11)),'criterion' :['gini', 'entropy']}\n",
    "clf = DecisionTreeClassifier()\n",
    "GS = GridSearchCV(estimator=clf,  param_grid = params, cv=5, verbose = 1)\n",
    "GS.fit(X_train, y_train)"
   ]
  },
  {
   "cell_type": "code",
   "execution_count": null,
   "id": "d937a7b2",
   "metadata": {},
   "outputs": [],
   "source": [
    "#printing the resukts of gridsearch\n",
    "print('Best Criterion:', GS.best_estimator_.get_params()['criterion'])\n",
    "print('Best max_depth:', GS.best_estimator_.get_params()['max_depth'])\n",
    "print('Best max_leaf_nodes:', GS.best_estimator_.get_params()['max_leaf_nodes'])\n",
    "print('Best min_samples_split:', GS.best_estimator_.get_params()['min_samples_split'])\n",
    "\n",
    "best_model = GS.best_estimator_\n",
    "best_model\n",
    "\n"
   ]
  },
  {
   "cell_type": "code",
   "execution_count": null,
   "id": "134bea90",
   "metadata": {},
   "outputs": [],
   "source": [
    "# makeprediction usin best model founded by gridsearch\n",
    "best_model.fit(X_train, y_train)\n",
    "y_predict = best_model.predict(X_test)"
   ]
  },
  {
   "cell_type": "code",
   "execution_count": null,
   "id": "80ffb09b",
   "metadata": {},
   "outputs": [],
   "source": [
    "print('Accuracy of DecisionTreeClassifier is: {:.2f}'.format(accuracy_score(y_test, y_predict)*100),'%') \n"
   ]
  },
  {
   "cell_type": "code",
   "execution_count": null,
   "id": "f4bb6774",
   "metadata": {},
   "outputs": [],
   "source": [
    "# plotting cofusion matrix\n",
    "\n",
    "ax = sns.heatmap(confusion_matrix(y_test, y_predict), annot=True, cmap='Purples')\n",
    "ax.set_title('Confusion Matrix \\n')\n",
    "ax.set_xlabel('\\nPredicted Values')\n",
    "ax.set_ylabel('Actual Values ')\n",
    "\n",
    "\n",
    "ax.xaxis.set_ticklabels(['0','1','2'])\n",
    "ax.yaxis.set_ticklabels(['0','1','2'])\n",
    "\n"
   ]
  },
  {
   "cell_type": "code",
   "execution_count": null,
   "id": "e992c152",
   "metadata": {},
   "outputs": [],
   "source": []
  }
 ],
 "metadata": {
  "kernelspec": {
   "display_name": "Python 3 (ipykernel)",
   "language": "python",
   "name": "python3"
  },
  "language_info": {
   "codemirror_mode": {
    "name": "ipython",
    "version": 3
   },
   "file_extension": ".py",
   "mimetype": "text/x-python",
   "name": "python",
   "nbconvert_exporter": "python",
   "pygments_lexer": "ipython3",
   "version": "3.10.4"
  }
 },
 "nbformat": 4,
 "nbformat_minor": 5
}
