{
 "cells": [
  {
   "cell_type": "code",
   "execution_count": 1,
   "metadata": {},
   "outputs": [
    {
     "ename": "ValueError",
     "evalue": "No matching production found for non-terminal E",
     "output_type": "error",
     "traceback": [
      "\u001b[1;31m---------------------------------------------------------------------------\u001b[0m",
      "\u001b[1;31mValueError\u001b[0m                                Traceback (most recent call last)",
      "\u001b[1;32m<ipython-input-1-2714988c919f>\u001b[0m in \u001b[0;36m<module>\u001b[1;34m\u001b[0m\n\u001b[0;32m     67\u001b[0m \u001b[0minput_string\u001b[0m \u001b[1;33m=\u001b[0m \u001b[1;34m'id+id*id'\u001b[0m\u001b[1;33m\u001b[0m\u001b[1;33m\u001b[0m\u001b[0m\n\u001b[0;32m     68\u001b[0m \u001b[1;33m\u001b[0m\u001b[0m\n\u001b[1;32m---> 69\u001b[1;33m \u001b[0mdraw_parse_tree\u001b[0m\u001b[1;33m(\u001b[0m\u001b[0minput_grammar\u001b[0m\u001b[1;33m,\u001b[0m \u001b[0minput_string\u001b[0m\u001b[1;33m)\u001b[0m\u001b[1;33m\u001b[0m\u001b[1;33m\u001b[0m\u001b[0m\n\u001b[0m",
      "\u001b[1;32m<ipython-input-1-2714988c919f>\u001b[0m in \u001b[0;36mdraw_parse_tree\u001b[1;34m(grammar, input_string)\u001b[0m\n\u001b[0;32m     43\u001b[0m     \u001b[1;31m# Step 3: Implement the recursive descent parsing algorithm\u001b[0m\u001b[1;33m\u001b[0m\u001b[1;33m\u001b[0m\u001b[0m\n\u001b[0;32m     44\u001b[0m     \u001b[0mstart_symbol\u001b[0m \u001b[1;33m=\u001b[0m \u001b[0mlist\u001b[0m\u001b[1;33m(\u001b[0m\u001b[0mgrammar\u001b[0m\u001b[1;33m.\u001b[0m\u001b[0mkeys\u001b[0m\u001b[1;33m(\u001b[0m\u001b[1;33m)\u001b[0m\u001b[1;33m)\u001b[0m\u001b[1;33m[\u001b[0m\u001b[1;36m0\u001b[0m\u001b[1;33m]\u001b[0m\u001b[1;33m\u001b[0m\u001b[1;33m\u001b[0m\u001b[0m\n\u001b[1;32m---> 45\u001b[1;33m     \u001b[0mparse_nonterminal\u001b[0m\u001b[1;33m(\u001b[0m\u001b[0mstart_symbol\u001b[0m\u001b[1;33m)\u001b[0m\u001b[1;33m\u001b[0m\u001b[1;33m\u001b[0m\u001b[0m\n\u001b[0m\u001b[0;32m     46\u001b[0m \u001b[1;33m\u001b[0m\u001b[0m\n\u001b[0;32m     47\u001b[0m     \u001b[1;31m# Step 4: Traverse the parse tree to generate a graphical representation\u001b[0m\u001b[1;33m\u001b[0m\u001b[1;33m\u001b[0m\u001b[0m\n",
      "\u001b[1;32m<ipython-input-1-2714988c919f>\u001b[0m in \u001b[0;36mparse_nonterminal\u001b[1;34m(nonterminal)\u001b[0m\n\u001b[0;32m     19\u001b[0m \u001b[1;33m\u001b[0m\u001b[0m\n\u001b[0;32m     20\u001b[0m         \u001b[1;31m# No production matched the input string\u001b[0m\u001b[1;33m\u001b[0m\u001b[1;33m\u001b[0m\u001b[0m\n\u001b[1;32m---> 21\u001b[1;33m         \u001b[1;32mraise\u001b[0m \u001b[0mValueError\u001b[0m\u001b[1;33m(\u001b[0m\u001b[1;34mf\"No matching production found for non-terminal {nonterminal}\"\u001b[0m\u001b[1;33m)\u001b[0m\u001b[1;33m\u001b[0m\u001b[1;33m\u001b[0m\u001b[0m\n\u001b[0m\u001b[0;32m     22\u001b[0m \u001b[1;33m\u001b[0m\u001b[0m\n\u001b[0;32m     23\u001b[0m     \u001b[1;32mdef\u001b[0m \u001b[0mparse_production\u001b[0m\u001b[1;33m(\u001b[0m\u001b[0mproduction\u001b[0m\u001b[1;33m)\u001b[0m\u001b[1;33m:\u001b[0m\u001b[1;33m\u001b[0m\u001b[1;33m\u001b[0m\u001b[0m\n",
      "\u001b[1;31mValueError\u001b[0m: No matching production found for non-terminal E"
     ]
    }
   ],
   "source": [
    "import matplotlib.pyplot as plt\n",
    "import networkx as nx\n",
    "\n",
    "def draw_parse_tree(grammar, input_string):\n",
    "    # Step 1: Define parsing functions for each non-terminal\n",
    "    def parse_nonterminal(nonterminal):\n",
    "        # Check if the non-terminal has any productions\n",
    "        if nonterminal not in grammar:\n",
    "            raise ValueError(f\"Unknown non-terminal: {nonterminal}\")\n",
    "\n",
    "        # Iterate through productions for the non-terminal\n",
    "        for production in grammar[nonterminal]:\n",
    "            tree.add_edge(nonterminal, production)\n",
    "\n",
    "            # Check if the production matches the input string\n",
    "            if match_production(production, input_string):\n",
    "                parse_production(production)\n",
    "                return\n",
    "\n",
    "        # No production matched the input string\n",
    "        raise ValueError(f\"No matching production found for non-terminal {nonterminal}\")\n",
    "\n",
    "    def parse_production(production):\n",
    "        for symbol in production:\n",
    "            if symbol in grammar:\n",
    "                parse_nonterminal(symbol)\n",
    "            else:\n",
    "                parse_terminal(symbol)\n",
    "\n",
    "    def parse_terminal(terminal):\n",
    "        if input_string.startswith(terminal):\n",
    "            tree.add_edge(terminal, input_string[:len(terminal)])\n",
    "            input_string = input_string[len(terminal):]\n",
    "        else:\n",
    "            raise ValueError(f\"Unexpected terminal: {terminal}\")\n",
    "\n",
    "    def match_production(production, input_string):\n",
    "        return input_string.startswith(production)\n",
    "\n",
    "    # Step 2: Create the parse tree data structure\n",
    "    tree = nx.DiGraph()\n",
    "\n",
    "    # Step 3: Implement the recursive descent parsing algorithm\n",
    "    start_symbol = list(grammar.keys())[0]\n",
    "    parse_nonterminal(start_symbol)\n",
    "\n",
    "    # Step 4: Traverse the parse tree to generate a graphical representation\n",
    "    pos = nx.spring_layout(tree)\n",
    "    labels = nx.get_edge_attributes(tree, 'weight')\n",
    "    nx.draw_networkx(tree, pos, with_labels=True, arrows=True)\n",
    "    nx.draw_networkx_edge_labels(tree, pos, edge_labels=labels)\n",
    "    plt.axis('off')\n",
    "\n",
    "    # Step 5: Save the graphical representation as an image file\n",
    "    plt.savefig('parse_tree.png')\n",
    "    plt.show()\n",
    "\n",
    "# Example usage\n",
    "input_grammar = {\n",
    "    'E': ['T', 'E`'],\n",
    "    'E`': ['+TE`', ''],\n",
    "    'T': ['F', 'T`'],\n",
    "    'T`': ['*FT`', ''],\n",
    "    'F': ['(E)', 'id']\n",
    "}\n",
    "\n",
    "input_string = 'id+id*id'\n",
    "\n",
    "draw_parse_tree(input_grammar, input_string)"
   ]
  },
  {
   "cell_type": "code",
   "execution_count": null,
   "metadata": {},
   "outputs": [],
   "source": []
  }
 ],
 "metadata": {
  "kernelspec": {
   "display_name": "Python 3",
   "language": "python",
   "name": "python3"
  },
  "language_info": {
   "codemirror_mode": {
    "name": "ipython",
    "version": 3
   },
   "file_extension": ".py",
   "mimetype": "text/x-python",
   "name": "python",
   "nbconvert_exporter": "python",
   "pygments_lexer": "ipython3",
   "version": "3.9.13"
  },
  "orig_nbformat": 4
 },
 "nbformat": 4,
 "nbformat_minor": 2
}
