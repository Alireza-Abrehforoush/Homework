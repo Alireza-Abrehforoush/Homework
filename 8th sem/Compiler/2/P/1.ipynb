{
 "cells": [
  {
   "cell_type": "code",
   "execution_count": 107,
   "metadata": {},
   "outputs": [],
   "source": [
    "def removeLeftRecursion(input_grammar):\n",
    "    output_grammar = input_grammar.copy()\n",
    "    grammar_without_left_recursion = {}\n",
    "    for lhs in output_grammar.keys():\n",
    "        alphas = []\n",
    "        betas = []\n",
    "        allrhs = output_grammar[lhs]\n",
    "        for subrhs in allrhs:\n",
    "            if subrhs[0] == lhs:\n",
    "                alphas.append(subrhs[1:])\n",
    "            else:\n",
    "                betas.append(subrhs)\n",
    "        if len(alphas) > 0:\n",
    "            new_lhs = lhs + \"'\"\n",
    "            while (new_lhs in output_grammar.keys() or new_lhs in grammar_without_left_recursion.keys()):\n",
    "                new_lhs += \"'\"\n",
    "            for i in range(len(betas)):\n",
    "               betas[i] += new_lhs\n",
    "            output_grammar[lhs] = betas\n",
    "            for i in range(len(alphas)):\n",
    "               alphas[i] += new_lhs\n",
    "            alphas.append('')\n",
    "            grammar_without_left_recursion[new_lhs] = alphas\n",
    "    for lhs in grammar_without_left_recursion:\n",
    "        output_grammar[lhs] = grammar_without_left_recursion[lhs]\n",
    "    output_grammar = dict(sorted(output_grammar.items()))\n",
    "    return output_grammar"
   ]
  },
  {
   "cell_type": "code",
   "execution_count": 108,
   "metadata": {},
   "outputs": [],
   "source": [
    "import itertools\n",
    "\n",
    "def longestCommonPrefix(a):\n",
    "    size = len(a)\n",
    "    if (size == 0):\n",
    "        return \"\"\n",
    "    if (size == 1):\n",
    "        return a[0]\n",
    "    a.sort()\n",
    "    end = min(len(a[0]), len(a[size - 1]))\n",
    "    i = 0\n",
    "    while (i < end and\n",
    "           a[0][i] == a[size - 1][i]):\n",
    "        i += 1\n",
    "    pre = a[0][0: i]\n",
    "    return pre\n",
    "\n",
    "\n",
    "def getLongestPrefixMatch(allrhs):\n",
    "    prefixes_len = dict()\n",
    "    prefixes = dict()\n",
    "    for L in range(2, len(allrhs) + 1):\n",
    "        for subset in itertools.combinations(allrhs, L):\n",
    "            prefixes_len[subset] = len(longestCommonPrefix(list(subset)))\n",
    "            prefixes[subset] = longestCommonPrefix(list(subset))\n",
    "    if prefixes == {}:\n",
    "        return \n",
    "    return max(prefixes_len, key=prefixes_len.get), prefixes[max(prefixes_len, key=prefixes_len.get)]"
   ]
  },
  {
   "cell_type": "code",
   "execution_count": 109,
   "metadata": {},
   "outputs": [],
   "source": [
    "def leftFactoring(input_grammar):\n",
    "    output_grammar = {}\n",
    "    for lhs in input_grammar.keys():\n",
    "        if len(input_grammar[lhs]) > 1:\n",
    "            allrhs = input_grammar[lhs]\n",
    "            longest_matching_prefix_rhs, longest_matching_prefix = getLongestPrefixMatch(allrhs)\n",
    "            if (longest_matching_prefix != ''):\n",
    "                new_lhs = lhs + \"'\"\n",
    "                while (new_lhs in output_grammar.keys() or new_lhs in input_grammar.keys()):\n",
    "                    new_lhs += \"'\"\n",
    "                new_rhs = []\n",
    "                p_new_rhs = []\n",
    "                length_of_common_prefix = len(longest_matching_prefix)\n",
    "                for rhs in longest_matching_prefix_rhs:\n",
    "                    p_new_rhs.append(rhs[length_of_common_prefix:])\n",
    "                for rhs in allrhs:\n",
    "                    if (rhs not in longest_matching_prefix_rhs):\n",
    "                        new_rhs.append(rhs)\n",
    "                new_rhs.append(longest_matching_prefix + new_lhs)\n",
    "                output_grammar[lhs] = new_rhs\n",
    "                output_grammar[new_lhs] = p_new_rhs\n",
    "                continue\n",
    "        output_grammar[lhs] = input_grammar[lhs]\n",
    "    return output_grammar"
   ]
  },
  {
   "cell_type": "code",
   "execution_count": 117,
   "metadata": {},
   "outputs": [
    {
     "data": {
      "text/plain": [
       "{'E': [\"TE'\"],\n",
       " \"E'\": [\"+TE'\", ''],\n",
       " 'F': ['(E)', 'id'],\n",
       " 'T': [\"FT'\"],\n",
       " \"T'\": [\"*FT'\", '']}"
      ]
     },
     "execution_count": 117,
     "metadata": {},
     "output_type": "execute_result"
    }
   ],
   "source": [
    "x1 = {\n",
    "    'E': ['E+T', 'T'],\n",
    "    'T': ['T*F', 'F'],\n",
    "    'F': ['(E)', 'id']\n",
    "}\n",
    "y1 = removeLeftRecursion(x1)\n",
    "z1 = leftFactoring(y1)\n",
    "z1"
   ]
  },
  {
   "cell_type": "code",
   "execution_count": 118,
   "metadata": {},
   "outputs": [
    {
     "data": {
      "text/plain": [
       "{'E': [\"idE'\"], \"E'\": ['', \"EE''\"], \"E''\": [\"+E'\", \"*E'\"]}"
      ]
     },
     "execution_count": 118,
     "metadata": {},
     "output_type": "execute_result"
    }
   ],
   "source": [
    "x2 = {\n",
    "    'E': ['EE+', 'EE*', 'id']\n",
    "}\n",
    "y2 = removeLeftRecursion(x2)\n",
    "z2 = leftFactoring(y2)\n",
    "z2"
   ]
  },
  {
   "cell_type": "code",
   "execution_count": 119,
   "metadata": {},
   "outputs": [
    {
     "data": {
      "text/plain": [
       "{'E': ['b'], 'S': ['a', \"iEtSS'\"], \"S'\": ['', 'eS']}"
      ]
     },
     "execution_count": 119,
     "metadata": {},
     "output_type": "execute_result"
    }
   ],
   "source": [
    "x3 = {\n",
    "    'S': ['iEtS', 'iEtSeS', 'a'],\n",
    "    'E': ['b']\n",
    "}\n",
    "y3 = removeLeftRecursion(x3)\n",
    "z3 = leftFactoring(y3)\n",
    "z3"
   ]
  }
 ],
 "metadata": {
  "kernelspec": {
   "display_name": "Python 3",
   "language": "python",
   "name": "python3"
  },
  "language_info": {
   "codemirror_mode": {
    "name": "ipython",
    "version": 3
   },
   "file_extension": ".py",
   "mimetype": "text/x-python",
   "name": "python",
   "nbconvert_exporter": "python",
   "pygments_lexer": "ipython3",
   "version": "3.9.13"
  },
  "orig_nbformat": 4
 },
 "nbformat": 4,
 "nbformat_minor": 2
}
