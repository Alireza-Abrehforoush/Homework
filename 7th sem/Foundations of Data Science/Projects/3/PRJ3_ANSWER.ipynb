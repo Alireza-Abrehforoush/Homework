{
 "cells": [
  {
   "cell_type": "markdown",
   "metadata": {},
   "source": [
    "<div style=\"direction:rtl;line-height:300%;\">\n",
    "\t<font face=\"B Nazanin\" size=5>\n",
    "\t\t<div align=center>\n",
    "\t\t\t<font face=\"IranNastaliq\" size=30>\n",
    "\t\t\t\t<p></p>\n",
    "\t\t\t\t<p></p>\n",
    "به نام خدا\n",
    "\t\t\t\t<p></p>\n",
    "\t\t\t</font>\n",
    "\t\t\t<font color=#FF7500>\n",
    "دانشگاه صنعتی اصفهان - دانشکده علوم ریاضی\n",
    "            </font>\n",
    "\t\t\t<p></p>\n",
    "\t\t\t<font color=blue>\n",
    "مبانی ریاضی علوم داده\n",
    "            </font>\n",
    "\t\t\t<br />\n",
    "\t\t\t<br />\n",
    "پاییز ۱۴۰۱\n",
    "\t\t</div>\n",
    "\t\t<hr/>\n",
    "\t\t<font color=red size=6>\n",
    "\t\t\t<br />\n",
    "\t\t\t<div align=center>\t\n",
    "مینی‌پروژه‌ی ۳ (گشت تصادفی و زنجیر مارکُف)\n",
    "            </div>\n",
    "\t\t</font>\n",
    "\t\t<br />\n",
    "\t\t<hr />\n",
    "\t\t<style type=\"text/css\" scoped>\n",
    "        p{\n",
    "        border: 1px solid #a2a9b1;background-color: #f8f9fa;display: inline-block;\n",
    "        };\n",
    "        </style>\n",
    "\t\t<div>\n",
    "\t\t\t<h3>فهرست مطالب</h3>\n",
    "\t\t\t<ul style=\"margin-right: 0;\">\n",
    "                <li>\n",
    "\t\t\t\t\t<a href=\"#1st_observation\">\n",
    "                        مشاهده‌ی اول\n",
    "                    </a>\n",
    "\t\t\t\t</li>\n",
    "                <li>\n",
    "\t\t\t\t\t<a href=\"#2nd_observation\">\n",
    "                        مشاهده‌ی دوم\n",
    "                    </a>\n",
    "\t\t\t\t</li>\n",
    "                <li>\n",
    "\t\t\t\t\t<a href=\"#3rd_observation\">\n",
    "                       مشاهده‌ی سوم\n",
    "                    </a>\n",
    "\t\t\t\t</li>\n",
    "                <li>\n",
    "\t\t\t\t\t<a href=\"#gaussian_annulus_theorem\">\n",
    "                        قضیه‌ی حلقه گوسی\n",
    "                    </a>\n",
    "\t\t\t\t</li>\n",
    "                <li>\n",
    "\t\t\t\t\t<a href=\"#separating_gaussians\">\n",
    "                       تفکیک توزیع‌های گوسی\n",
    "                    </a>\n",
    "\t\t\t\t</li>\n",
    "                <li>\n",
    "\t\t\t\t\t<a href=\"#random_projection\">\n",
    "                        Random Projection\n",
    "                    </a>\n",
    "\t\t\t\t</li>\n",
    "\t\t\t</ul>\n",
    "\t\t</div>\n",
    "\t</font>\n",
    "</div>"
   ]
  },
  {
   "cell_type": "markdown",
   "metadata": {},
   "source": [
    "<p></p>\n",
    "<br/>\n",
    "<div id=\"sec_1\" style=\"direction:rtl;line-height:300%;\">\n",
    "\t<font face=\"B Nazanin\" size=5>\n",
    "\t\t<p></p>\n",
    "\t\t<hr>\n",
    "در این مینی‌پروژه با گراف‌ها سروکار داریم. پکیج networkx در پایتون کتابخانه‌ای بسیار قدرتمند است که دارای مجموعه‌ای غنی از ابزارهای مورد نیاز برای ساخت، دستکاری، مطالعه‌ی ساختاری، دینامیک و توابع در شبکه‌های پیچیده است. برای نصب این پکیج قطعه کد زیر را اجرا کنید. \n",
    "<br/>\n",
    "\t</font>\n",
    "</div>"
   ]
  },
  {
   "cell_type": "code",
   "execution_count": null,
   "metadata": {},
   "outputs": [],
   "source": [
    "!pip install networkx"
   ]
  },
  {
   "cell_type": "markdown",
   "metadata": {},
   "source": [
    "<p></p>\n",
    "<br/>\n",
    "<div id=\"sec_1\" style=\"direction:rtl;line-height:300%;\">\n",
    "\t<font face=\"B Nazanin\" size=5>\n",
    "\t\t<p></p>\n",
    "\t\t<hr>\n",
    "        ابتدا باید ماژول‌های زیر را \"import\" کنیم:\n",
    "        <li>numpy: کار با بردارها و توابع مختلف عددی</li>\n",
    "        <li>networkx: کار با گراف‌ها</li>\n",
    "        <li>matplotlib: برای رسم نمودار</li>\n",
    "<br/>\n",
    "\t</font>\n",
    "</div>"
   ]
  },
  {
   "cell_type": "code",
   "execution_count": 3,
   "metadata": {},
   "outputs": [],
   "source": [
    "######## Code here!\n",
    "import numpy as np\n",
    "import networkx as nx\n",
    "import matplotlib.pyplot as plt"
   ]
  },
  {
   "cell_type": "markdown",
   "metadata": {},
   "source": [
    "<p></p>\n",
    "<br />\n",
    "<div id=\"1st_observation\" style=\"direction:rtl;line-height:300%;\">\n",
    "\t<font face=\"B Nazanin\" size=5>\n",
    "\t\t<font color=#FF7500 size=6>\n",
    "تاثیر افزودن راس و یال به گراف در pagerank\n",
    "        </font>\n",
    "\t\t<p></p>\n",
    "\t\t<hr>\n",
    "\t</font>\n",
    "</div>"
   ]
  },
  {
   "cell_type": "markdown",
   "metadata": {},
   "source": [
    "<p></p>\n",
    "<br/>\n",
    "<div id=\"sec_1\" style=\"direction:rtl;line-height:300%;\">\n",
    "\t<font face=\"B Nazanin\" size=5>\n",
    "\t\t<p></p>\n",
    "\t\t<hr>\n",
    "        <li>ساخت یک گراف تصادفی با 200 راس و تقریبا 8 یال به ازای هر راس</li>\n",
    "<br/>\n",
    "در نظریه گراف مدل اردوش-رنیی شامل دو مدل نزدیک به‌ هم برای ساختن گراف تصادفی است. در این جا برای ساخت گراف تصادفی‌مان از این مدل استفاده می‌کنیم. برای این منظور گراف جهت‌دار G را با 200 راس و تقریبا 8 یال به ازای هر راس با استفاده از تابع erdos_renyi_graph بسازید. سپس آن را نمایش دهید.\n",
    "<li><li>راهنمایی: این تابع 4 پارامتر ورودی دارد که به ترتیب تعداد رئوس، احتمال وجود یال بین هر دو راس به طور مستقل، seed،و جهت‌دار بودن/نبودن است. توصیه می‌شود برای شروع از لینک‌های زیر کمک بگیرید.\n",
    "        <li><a href=\"https://networkx.org/documentation/stable/reference/generated/networkx.generators.random_graphs.erdos_renyi_graph.html\">erdos_renyi_graph function networkx documentation</a></li>\n",
    "        <li><a href=\"https://www.geeksforgeeks.org/erdos-renyl-model-generating-random-graphs/\">erdos_renyi_graph function example</a></li>\n",
    "        فرض می‌کنیم احتمال وجود یال بین هر دو راس  $p$باشد. برای اینکه در یک گراف تصادفی هر راس تقریبا 8 یال داشته باشد باید امید ریاضی تعداد یال‌های آن راس 8 باشد.  در اینصورت $p$ برابر است با:\n",
    "        $\\sum_{i=1}^{2 \\times (200-1)}p\\times 1 = 398p = 8 \\Rightarrow p = \\frac{8}{398}$\n",
    "\t</font>\n",
    "</div>"
   ]
  },
  {
   "cell_type": "code",
   "execution_count": 4,
   "metadata": {
    "scrolled": true
   },
   "outputs": [
    {
     "data": {
      "image/png": "[encoded data removed]",
      "text/plain": [
       "<Figure size 432x288 with 1 Axes>"
      ]
     },
     "metadata": {},
     "output_type": "display_data"
    }
   ],
   "source": [
    "v = 200 # number of vertices\n",
    "epp = 8 # number of edges per vertex\n",
    "p = epp / (2 * v - 2)\n",
    "G = nx.erdos_renyi_graph(v, p, directed = True)\n",
    "nx.draw(G, with_labels = True)\n",
    "plt.show()"
   ]
  },
  {
   "cell_type": "markdown",
   "metadata": {},
   "source": [
    "<p></p>\n",
    "<br/>\n",
    "<div id=\"sec_1\" style=\"direction:rtl;line-height:300%;\">\n",
    "\t<font face=\"B Nazanin\" size=5>\n",
    "\t\t<p></p>\n",
    "\t\t<hr>\n",
    "        <li>با استفاده از تابع pagerank در networkx، رتبه‌ی نظیر هر راس در این گراف را به دست آورید.</li>\n",
    "<br/>\n",
    "\t</font>\n",
    "</div>"
   ]
  },
  {
   "cell_type": "code",
   "execution_count": 5,
   "metadata": {},
   "outputs": [],
   "source": [
    "x = nx.pagerank(G)"
   ]
  },
  {
   "cell_type": "markdown",
   "metadata": {},
   "source": [
    "<p></p>\n",
    "<br/>\n",
    "<div id=\"sec_1\" style=\"direction:rtl;line-height:300%;\">\n",
    "\t<font face=\"B Nazanin\" size=5>\n",
    "\t\t<p></p>\n",
    "\t\t<hr>\n",
    "        <li>نمودار pagerank بر حسب راس را رسم کنید.</li>\n",
    "<br/>\n",
    "\t</font>\n",
    "</div>"
   ]
  },
  {
   "cell_type": "code",
   "execution_count": 8,
   "metadata": {},
   "outputs": [
    {
     "data": {
      "image/png": "[encoded data removed]",
      "text/plain": [
       "<Figure size 720x360 with 1 Axes>"
      ]
     },
     "metadata": {
      "needs_background": "light"
     },
     "output_type": "display_data"
    }
   ],
   "source": [
    "G_nodes = list(x.keys())\n",
    "G_p_rs = list(x.values())\n",
    "\n",
    "fig = plt.figure(figsize = (10, 5))\n",
    "plt.bar(G_nodes, G_p_rs, color = \"maroon\", width = 0.4)\n",
    "plt.xlabel(\"vertice id\")\n",
    "plt.ylabel(\"pagerank\")\n",
    "plt.show()"
   ]
  },
  {
   "cell_type": "markdown",
   "metadata": {},
   "source": [
    "<p></p>\n",
    "<br/>\n",
    "<div id=\"sec_1\" style=\"direction:rtl;line-height:300%;\">\n",
    "\t<font face=\"B Nazanin\" size=5>\n",
    "\t\t<p></p>\n",
    "\t\t<hr>\n",
    "        <li>به ازای kهای مختلف از 1 تا 100 هر بار:</li>\n",
    "        <li>الف: k راس به گراف اضافه کنید و pagerank را برای گراف جدید محاسبه کنید و روی نمودار نمیش دهید.</li>\n",
    "        <li>ب: k راس به گراف اضافه کنید و از هر k راس جدید یک یال به راس 0 رسم کنید. سپس pagerank را برای گراف جدید محاسبه کنید و روی نمودار نمیش دهید. </li>\n",
    "<br/>\n",
    "\t</font>\n",
    "</div>"
   ]
  },
  {
   "cell_type": "code",
   "execution_count": null,
   "metadata": {},
   "outputs": [],
   "source": [
    "max_k = 100\n",
    "p_r_diffs = np.empty(max_k, dtype = type(x))\n",
    "p_r_diffs_with_edges = np.empty(max_k, dtype = type(x))\n",
    "\n",
    "for k in range(1, max_k + 1):\n",
    "    vertices_prime = range(v + k)\n",
    "    G_prime = G\n",
    "    G_prime.add_nodes_from(vertices_prime)\n",
    "    G_zegond = G_prime\n",
    "    for i in range(k):\n",
    "        G_zegond.add_edge(i, 0)\n",
    "    y = nx.pagerank(G_prime)\n",
    "    z = nx.pagerank(G_zegond)\n",
    "    p_r_diffs[k - 1] = {key: y[key] - x.get(key, 0) for key in y}\n",
    "    p_r_diffs_with_edges[k - 1] = {key: z[key] - x.get(key, 0) for key in z}"
   ]
  },
  {
   "cell_type": "code",
   "execution_count": null,
   "metadata": {},
   "outputs": [],
   "source": [
    "G_prime_nodes = list(y.keys())\n",
    "G_prime_p_rs = list(y.values())\n",
    "\n",
    "fig = plt.figure(figsize = (10, 5))\n",
    "plt.bar(G_prime_nodes, G_prime_p_rs, color = \"maroon\", width = 0.4)\n",
    "plt.xlabel(\"vertice id\")\n",
    "plt.ylabel(\"pagerank\")\n",
    "plt.show()\n",
    "\n"
   ]
  },
  {
   "cell_type": "markdown",
   "metadata": {},
   "source": [
    "<p></p>\n",
    "<br/>\n",
    "<div id=\"sec_1\" style=\"direction:rtl;line-height:300%;\">\n",
    "\t<font face=\"B Nazanin\" size=5>\n",
    "\t\t<p></p>\n",
    "\t\t<hr>\n",
    "در هر کدام از مورد الف و ب چه تغییری در مقادیر pagerank مشاهده می‌کنید؟</li>\n",
    "<br/>\n",
    "\t</font>\n",
    "</div>"
   ]
  },
  {
   "cell_type": "markdown",
   "metadata": {},
   "source": [
    "### Answer here!\n",
    "<p></p>\n",
    "<br/>\n",
    "<div id=\"sec_1\" style=\"direction:rtl;line-height:300%;\">\n",
    "\t<font face=\"B Nazanin\" size=5>\n",
    "اینجا بنویسید...</li>\n",
    "<br/>\n",
    "\t</font>\n",
    "</div>"
   ]
  },
  {
   "cell_type": "code",
   "execution_count": null,
   "metadata": {},
   "outputs": [],
   "source": [
    "G_zegond_nodes = list(z.keys())\n",
    "G_zegond_p_rs = list(z.values())\n",
    "\n",
    "fig = plt.figure(figsize = (10, 5))\n",
    "plt.bar(G_zegond_nodes, G_zegond_p_rs, color = \"maroon\", width = 0.4)\n",
    "plt.xlabel(\"vertice id\")\n",
    "plt.ylabel(\"pagerank\")\n",
    "plt.show()"
   ]
  },
  {
   "cell_type": "markdown",
   "metadata": {},
   "source": [
    "<p></p>\n",
    "<br/>\n",
    "<div id=\"sec_1\" style=\"direction:rtl;line-height:300%;\">\n",
    "\t<font face=\"B Nazanin\" size=5>\n",
    "\t\t<p></p>\n",
    "\t\t<hr>\n",
    "        <li>یک طوقه در راس 0 اضافه کنید. نمودار مقادیر pagerank را رسم کنید.</li>\n",
    "<br/>\n",
    "\t</font>\n",
    "</div>"
   ]
  },
  {
   "cell_type": "code",
   "execution_count": null,
   "metadata": {},
   "outputs": [],
   "source": [
    "G_threeprime = G\n",
    "G_threeprime.add_edge(0, 0)\n",
    "\n",
    "w = nx.pagerank(G_threeprime)\n",
    "\n",
    "G_threeprime_nodes = list(w.keys())\n",
    "G_threeprime_p_rs = list(w.values())\n",
    "\n",
    "fig = plt.figure(figsize = (10, 5))\n",
    "plt.bar(G_threeprime_nodes, G_threeprime_p_rs, color = \"maroon\", width = 0.4)\n",
    "plt.xlabel(\"vertice id\")\n",
    "plt.ylabel(\"pagerank\")\n",
    "plt.show()"
   ]
  },
  {
   "cell_type": "markdown",
   "metadata": {},
   "source": [
    "<p></p>\n",
    "<br/>\n",
    "<div id=\"sec_1\" style=\"direction:rtl;line-height:300%;\">\n",
    "\t<font face=\"B Nazanin\" size=5>\n",
    "\t\t<p></p>\n",
    "\t\t<hr>\n",
    "چه تغییری در مقادیر pagerank مشاهده می‌کنید؟</li>\n",
    "<br/>\n",
    "\t</font>\n",
    "</div>"
   ]
  },
  {
   "cell_type": "markdown",
   "metadata": {},
   "source": [
    "### Answer here!\n",
    "<p></p>\n",
    "<br/>\n",
    "<div id=\"sec_1\" style=\"direction:rtl;line-height:300%;\">\n",
    "\t<font face=\"B Nazanin\" size=5>\n",
    "اینجا بنویسید...</li>\n",
    "<br/>\n",
    "\t</font>\n",
    "</div>"
   ]
  },
  {
   "cell_type": "code",
   "execution_count": null,
   "metadata": {},
   "outputs": [],
   "source": []
  },
  {
   "cell_type": "code",
   "execution_count": null,
   "metadata": {},
   "outputs": [],
   "source": []
  },
  {
   "cell_type": "code",
   "execution_count": null,
   "metadata": {},
   "outputs": [],
   "source": []
  },
  {
   "cell_type": "code",
   "execution_count": null,
   "metadata": {},
   "outputs": [],
   "source": []
  },
  {
   "cell_type": "code",
   "execution_count": null,
   "metadata": {},
   "outputs": [],
   "source": []
  },
  {
   "cell_type": "code",
   "execution_count": null,
   "metadata": {},
   "outputs": [],
   "source": []
  },
  {
   "cell_type": "code",
   "execution_count": null,
   "metadata": {},
   "outputs": [],
   "source": []
  },
  {
   "cell_type": "code",
   "execution_count": null,
   "metadata": {},
   "outputs": [],
   "source": []
  },
  {
   "cell_type": "code",
   "execution_count": null,
   "metadata": {},
   "outputs": [],
   "source": []
  },
  {
   "cell_type": "markdown",
   "metadata": {},
   "source": [
    "<p></p>\n",
    "<br/>\n",
    "<div id=\"sec_1\" style=\"direction:rtl;line-height:300%;\">\n",
    "\t<font face=\"B Nazanin\" size=5>\n",
    "\t\t<p></p>\n",
    "\t\t<hr>\n",
    "در اینجا چند تابع ضروری را تعریف می‌کنیم:\n",
    "<br/>\n",
    "\t</font>\n",
    "</div>"
   ]
  },
  {
   "cell_type": "markdown",
   "metadata": {},
   "source": [
    "<p></p>\n",
    "<br/>\n",
    "<div id=\"sec_1\" style=\"direction:rtl;line-height:300%;\">\n",
    "\t<font face=\"B Nazanin\" size=5>\n",
    "\t\t<p></p>\n",
    "\t\t<hr>\n",
    "        <li>تابعِ محاسبه‌ی نُرم ($\\|x\\| = \\sqrt{\\sum_{i=1}^{dim} x_i^2}$)</li>\n",
    "<br/>\n",
    "        در این قسمت تابعِ getNorm را با ۱ پارمتر ورودی (که همان برداری است که می‌خواهیم نُرمش را حساب کنیم) تعریف می‌کنیم. در انتها مقدار نُرم را return کنید.\n",
    "\t</font>\n",
    "</div>"
   ]
  },
  {
   "cell_type": "code",
   "execution_count": null,
   "metadata": {},
   "outputs": [],
   "source": [
    "######## Code here!\n",
    "def getNorm(x):\n",
    "    sz = np.shape(x);\n",
    "    if (len(sz) > 1):\n",
    "        norm = np.array([sqrt(np.sum([x[i][j] * x[i][j] for j in range(sz[1])])) for i in range(sz[0])]);\n",
    "    else:\n",
    "        norm = np.array(np.sqrt(np.sum([x[i] * x[i] for i in range(sz[0])])));\n",
    "    return norm;"
   ]
  },
  {
   "cell_type": "markdown",
   "metadata": {},
   "source": [
    "<p></p>\n",
    "<br/>\n",
    "<div id=\"sec_1\" style=\"direction:rtl;line-height:300%;\">\n",
    "\t<font face=\"B Nazanin\" size=5>\n",
    "\t\t<p></p>\n",
    "\t\t<hr>\n",
    "        <li>تابعِ محاسبه‌ی ضرب داخلی</li>\n",
    "<br/>\n",
    "        در این قسمت تابعِ getInnerProduct را با ۲ پارامتر ورودی (که همان بردارهایی هستند که می‌خواهیم ضرب داخلی‌شان را محاسبه کنیم) تعریف می‌کنیم. در انتها مقدار ضرب داخلی را return کنید.\n",
    "\t</font>\n",
    "</div>"
   ]
  },
  {
   "cell_type": "code",
   "execution_count": null,
   "metadata": {},
   "outputs": [],
   "source": [
    "######## Code here!\n",
    "def getInnerProduct(u, v):\n",
    "    answer = 0;\n",
    "    if (np.shape(u) == np.shape(v)):\n",
    "        answer = np.sum([u[i] * v[i] for i in range(np.shape(u)[0])]);\n",
    "    return answer;"
   ]
  },
  {
   "cell_type": "markdown",
   "metadata": {},
   "source": [
    "<p></p>\n",
    "<br/>\n",
    "<div id=\"sec_1\" style=\"direction:rtl;line-height:300%;\">\n",
    "\t<font face=\"B Nazanin\" size=5>\n",
    "\t\t<p></p>\n",
    "\t\t<hr>\n",
    "        <li>تابعِ محاسبه‌ی زاویه‌ی بین دو بردار</li>\n",
    "<br/>\n",
    "        در این قسمت تابعِ getAngle را با ۲ پارامتر ورودی (که همان بردارهایی هستند که می‌خواهیم زاویه‌ی بینشان را محاسبه کنیم) تعریف می‌کنیم. در انتها مقدار زاویه را return کنید.\n",
    "\t</font>\n",
    "</div>"
   ]
  },
  {
   "cell_type": "code",
   "execution_count": null,
   "metadata": {},
   "outputs": [],
   "source": [
    "######## Code here!\n",
    "def getAngle(u, v):\n",
    "    answer = getInnerProduct(u, v) / (getNorm(u) * getNorm(v));\n",
    "    return answer;"
   ]
  },
  {
   "cell_type": "markdown",
   "metadata": {},
   "source": [
    "<p></p>\n",
    "<br/>\n",
    "<div id=\"sec_1\" style=\"direction:rtl;line-height:300%;\">\n",
    "\t<font face=\"B Nazanin\" size=5>\n",
    "\t\t<p></p>\n",
    "\t\t<hr>\n",
    "        <li>تابعِ محاسبه‌ی فاصله‌ی بین دو بردار ($Dist(X,Y) = \\sqrt{\\sum_{i=1}^{dim} ((x_i-y_i)^2)}$)</li>\n",
    "<br/>\n",
    "        در این قسمت تابعِ getDistance را با 2 پارمتر ورودی (دو بردار که قرار است فاصله‌ی بینشان را حساب کنیم) تعریف می‌کنیم. در انتها مقدار فاصله را return کنید.\n",
    "\t</font>\n",
    "</div>"
   ]
  },
  {
   "cell_type": "code",
   "execution_count": null,
   "metadata": {},
   "outputs": [],
   "source": [
    "######## Code here!\n",
    "def getDistance(X, Y):\n",
    "    dist = 0\n",
    "    if len(X) == len(Y):\n",
    "        dist = np.sqrt(np.sum([(X[i] - Y[i]) ** 2 for i in range(len(X))]))\n",
    "    return dist"
   ]
  },
  {
   "cell_type": "markdown",
   "metadata": {},
   "source": [
    "<p></p>\n",
    "<br/>\n",
    "<div id=\"sec_1\" style=\"direction:rtl;line-height:300%;\">\n",
    "\t<font face=\"B Nazanin\" size=5>\n",
    "\t\t<p></p>\n",
    "\t\t<hr>\n",
    "در این بخش به بردارهای تصادفی در گوی یکه می‌پردازیم. هدف این بخش دیدن این نکته است که در ابعاد بالا بردارهای تصادفی درون گوی یکه تقریبا یکه و متعامدند. برای این منظور طبق الگوریتمی که در کلاس بیان شد عمل می‌کنیم.\n",
    "        <li>۱۰۰ بردار تصادفی ۱۰۰۰ بعدی از توزیع نرمال با میانگین صفر و انحراف معیار یک بسازید. برای تولید بردارها از تابع np.random.normal استفاده کنید.</li> \n",
    "        <li>سپس بردارها را به طولشان تقسیم کنید تا یکه شوند.</li> \n",
    "        <li>با استفاده از دستور np.random.rand \n",
    "صد عدد تصادفی بین صفر و یک ایجاد کنید. اعداد بدست آمده را به توان $\\frac{1}{1000}$ برسانید و در بردارهای قسمت قبل ضرب کنید. حاصل ۱۰۰ بردار تصادفی درون گوی یکه است.</li>\n",
    "<br/>\n",
    "\t</font>\n",
    "</div>"
   ]
  },
  {
   "cell_type": "code",
   "execution_count": null,
   "metadata": {},
   "outputs": [],
   "source": [
    "######## Code here!\n",
    "n = 100;\n",
    "dim = 1000; \n",
    "mu, sigma = 0, 1;\n",
    "\n",
    "k = np.random.normal(mu, sigma, size = (n, dim));\n",
    "sz = np.shape(k);\n",
    "norms = getNorm(k);\n",
    "k = np.array([[k[i][j] / norms[i] for j in range(sz[1])] for i in range(sz[0])]);\n",
    "y = np.random.rand(n);\n",
    "y **= 1 / dim;\n",
    "x = [[y[i] * k[i][j] for j in range(dim)] for i in range(n)];"
   ]
  },
  {
   "cell_type": "markdown",
   "metadata": {},
   "source": [
    "<p></p>\n",
    "<br/>\n",
    "<div id=\"sec_1\" style=\"direction:rtl;line-height:300%;\">\n",
    "\t<font face=\"B Nazanin\" size=5>\n",
    "\t\t<p></p>\n",
    "\t\t<hr>\n",
    "میانگین و انحراف معیار طول بردارهای درون گوی یکه را پیدا کنید.</li>\n",
    "<br/>\n",
    "\t</font>\n",
    "</div>"
   ]
  },
  {
   "cell_type": "code",
   "execution_count": null,
   "metadata": {},
   "outputs": [],
   "source": [
    "######## Code here!\n",
    "norms = getNorm(x);\n",
    "mean1 = np.average(norms);\n",
    "std1 = np.std(norms);\n",
    "\n",
    "print(mean1);\n",
    "print(std1);"
   ]
  },
  {
   "cell_type": "markdown",
   "metadata": {},
   "source": [
    "<p></p>\n",
    "<br/>\n",
    "<div id=\"sec_1\" style=\"direction:rtl;line-height:300%;\">\n",
    "\t<font face=\"B Nazanin\" size=5>\n",
    "\t\t<p></p>\n",
    "\t\t<hr>\n",
    "چه نتیجه‌ای می‌گیرید؟</li>\n",
    "<br/>\n",
    "\t</font>\n",
    "</div>"
   ]
  },
  {
   "cell_type": "markdown",
   "metadata": {},
   "source": [
    "### Answer here!\n",
    "<p></p>\n",
    "<br/>\n",
    "<div id=\"sec_1\" style=\"direction:rtl;line-height:300%;\">\n",
    "\t<font face=\"B Nazanin\" size=5>\n",
    "اینجا بنویسید...</li>\n",
    "<br/>\n",
    "\t</font>\n",
    "</div>"
   ]
  },
  {
   "cell_type": "markdown",
   "metadata": {},
   "source": [
    "<p></p>\n",
    "<br/>\n",
    "<div id=\"sec_1\" style=\"direction:rtl;line-height:300%;\">\n",
    "\t<font face=\"B Nazanin\" size=5>\n",
    "\t\t<p></p>\n",
    "\t\t<hr>\n",
    "30 نقطه‌ی تصادفی درون ابرمکعبِ یکه ($\\left[-\\frac{1}{2}, \\frac{1}{2}  \\right]^{100}$) تولید کنید. سپس میانگین فاصله‌ی بین دو به دوی نقاط و میانگین زاویه‌ی بین دو به دوی بردارهای از مبدا به این نقاط را رسم کنید.</li>\n",
    "<br/>\n",
    "\t</font>\n",
    "</div>"
   ]
  },
  {
   "cell_type": "code",
   "execution_count": null,
   "metadata": {},
   "outputs": [],
   "source": [
    "######## Code here!\n",
    "z = np.random.uniform(low = -0.5, high = 0.5, size = (30, 100));\n",
    "distances = [getDistance(z[i], z[j]) for i in range(30) for j in range(30) if i != j];\n",
    "angles = [getAngle(z[i], z[j]) for i in range(30) for j in range(30) if i != j];\n",
    "print(np.average(distances))\n",
    "print(np.average(angles))"
   ]
  },
  {
   "cell_type": "markdown",
   "metadata": {},
   "source": [
    "<p></p>\n",
    "<br/>\n",
    "<div id=\"sec_1\" style=\"direction:rtl;line-height:300%;\">\n",
    "\t<font face=\"B Nazanin\" size=5>\n",
    "\t\t<p></p>\n",
    "\t\t<hr>\n",
    "چه نتیجه‌ای می‌گیرید؟</li>\n",
    "<br/>\n",
    "\t</font>\n",
    "</div>"
   ]
  },
  {
   "cell_type": "markdown",
   "metadata": {},
   "source": [
    "### Answer here!\n",
    "<p></p>\n",
    "<br/>\n",
    "<div id=\"sec_1\" style=\"direction:rtl;line-height:300%;\">\n",
    "\t<font face=\"B Nazanin\" size=5>\n",
    "اینجا بنویسید...</li>\n",
    "<br/>\n",
    "\t</font>\n",
    "</div>"
   ]
  },
  {
   "cell_type": "markdown",
   "metadata": {},
   "source": [
    "<p></p>\n",
    "<br />\n",
    "<div id=\"2nd_observation\" style=\"direction:rtl;line-height:300%;\">\n",
    "\t<font face=\"B Nazanin\" size=5>\n",
    "\t\t<font color=#FF7500 size=6>\n",
    "مشاهده‌ی دوم\n",
    "        </font>\n",
    "\t\t<p></p>\n",
    "\t\t<hr>\n",
    "حجم نوار استوا به ضخامت $\\frac{c}{\\sqrt{d-1}}$ حداقل $1-\\frac{2}{c}e^{-\\frac{c^2}{2}}$ از حجم کل کره است.\n",
    "<br/>\n",
    "هدف این بخش درک بهتر قضیه‌ی بالا به کمک شبیه‌سازی آن است.\n",
    "<br/><br/>\n",
    "\t</font>\n",
    "</div>"
   ]
  },
  {
   "cell_type": "markdown",
   "metadata": {},
   "source": [
    "<p></p>\n",
    "<br/>\n",
    "<div id=\"sec_1\" style=\"direction:rtl;line-height:300%;\">\n",
    "\t<font face=\"B Nazanin\" size=5>\n",
    "\t\t<p></p>\n",
    "\t\t<hr>\n",
    "ضرب داخلی دو‌به‌دوی بردارهای درون گوی یکه (که در قسمت قبل به دست آمد) را بدست آورید و سپس میانگین و انحراف معیار این اعداد را پیدا کنید.</li>\n",
    "<br/>\n",
    "\t</font>\n",
    "</div>"
   ]
  },
  {
   "cell_type": "code",
   "execution_count": null,
   "metadata": {},
   "outputs": [],
   "source": [
    "######## Code here!\n",
    "inner_products = [getInnerProduct(x[i], x[j]) for i in range(n) for j in range(n) if i != j];\n",
    "mean2 = np.average(inner_products);\n",
    "std2 = np.std(inner_products);\n",
    "\n",
    "print(mean2);\n",
    "print(std2);"
   ]
  },
  {
   "cell_type": "markdown",
   "metadata": {},
   "source": [
    "<p></p>\n",
    "<br/>\n",
    "<div id=\"sec_1\" style=\"direction:rtl;line-height:300%;\">\n",
    "\t<font face=\"B Nazanin\" size=5>\n",
    "\t\t<p></p>\n",
    "\t\t<hr>\n",
    "چه نتیجه‌ای می‌گیرید؟</li>\n",
    "<br/>\n",
    "\t</font>\n",
    "</div>"
   ]
  },
  {
   "cell_type": "markdown",
   "metadata": {},
   "source": [
    "### Answer here!\n",
    "<p></p>\n",
    "<br/>\n",
    "<div id=\"sec_1\" style=\"direction:rtl;line-height:300%;\">\n",
    "\t<font face=\"B Nazanin\" size=5>\n",
    "اینجا بنویسید...</li>\n",
    "<br/>\n",
    "\t</font>\n",
    "</div>"
   ]
  },
  {
   "cell_type": "markdown",
   "metadata": {},
   "source": [
    "<p></p>\n",
    "<br/>\n",
    "<div id=\"sec_1\" style=\"direction:rtl;line-height:300%;\">\n",
    "\t<font face=\"B Nazanin\" size=5>\n",
    "\t\t<p></p>\n",
    "\t\t<hr>\n",
    "۵۰۰ نقطه تصادفی روی گوی یکه ۵۰ بعدی تولید کنید. سپس ۵ نقطه تصادفی دیگر روی این گوی یکه تولید کنید. فرض کنید هر یک از این ۵ نقطه قطب شمال هستند و برای هر کدام یک نوار نزدیک استوا به ضخامت $\\frac{c}{\\sqrt{50-1}}$ در نظر بگیرید. به ازای $c$های از 1 تا 5 حساب کنید چند درصد از آن ۵۰۰ نقطه در هر کدام از این ۵ نوار قرار دارند.</li>\n",
    "<br/>\n",
    "\t</font>\n",
    "</div>"
   ]
  },
  {
   "cell_type": "code",
   "execution_count": null,
   "metadata": {},
   "outputs": [],
   "source": [
    "######## Code here!\n",
    "def isOnStrip(c, x, pole):\n",
    "    threshold = c / np.sqrt(50-1)\n",
    "    if (np.abs(getInnerProduct(x, pole)) < threshold):\n",
    "        return 1\n",
    "    else:\n",
    "        return 0\n",
    "n = 500;\n",
    "dim = 50;\n",
    "mu, sigma = 0, 1;\n",
    "points = np.random.normal(mu, sigma, size = (n, dim));\n",
    "points_norms = getNorm(points);\n",
    "points = np.array([[points[i][j] / points_norms[i] for j in range(dim)] for i in range(n)]);\n",
    "poles = np.random.normal(mu, sigma, size = (5, dim));\n",
    "poles_norms = getNorm(poles);\n",
    "poles = np.array([[poles[i][j] / poles_norms[i] for j in range(dim)] for i in range(5)]);\n",
    "c = 3;\n",
    "result = [sum([isOnStrip(c, points[i], poles[j]) for i in range(n)]) for j in range(5)];\n",
    "print(result);"
   ]
  },
  {
   "cell_type": "markdown",
   "metadata": {},
   "source": [
    "<p></p>\n",
    "<br />\n",
    "<div id=\"3rd_observation\" style=\"direction:rtl;line-height:300%;\">\n",
    "\t<font face=\"B Nazanin\" size=5>\n",
    "\t\t<font color=#FF7500 size=6>\n",
    "مشاهده‌ی سوم\n",
    "        </font>\n",
    "\t\t<p></p>\n",
    "\t\t<hr>\n",
    "حجم اشتراک مکعب به ضلع $k\\sqrt{\\frac{\\ln d}{d-1}}$ به مرکز مبدا با گوی واحد حداقل $1-\\frac{2}{k\\sqrt{d^{k^{2}-2}\\ln d}}$ حجم کره است.\n",
    "<br/>\n",
    "هدف این بخش درک بهتر قضیه‌ی بالا به کمک شبیه‌سازی آن است.\n",
    "<br/><br/>\n",
    "\t</font>\n",
    "</div>"
   ]
  },
  {
   "cell_type": "markdown",
   "metadata": {},
   "source": [
    "<p></p>\n",
    "<br/>\n",
    "<div id=\"sec_1\" style=\"direction:rtl;line-height:300%;\">\n",
    "\t<font face=\"B Nazanin\" size=5>\n",
    "\t\t<p></p>\n",
    "\t\t<hr>\n",
    "1000 بردار تصادفی 1000 بعدی درون گوی یکه (مشابه مشاهده اول) تولید کنید. بررسی کنید که چند درصد این بردارها درون ابرمکعب 1000 بعدی به مرکز مبدا مختصات و به ضلع $4\\sqrt{\\frac{\\ln 1000}{1000-1}}$ قرار دارد (برای بررسی اینکه آیا یک بردار در ابرمکعب $d$ بعدی به مرکز مبدا مختصات و ضلع $2k\\sqrt{\\frac{\\ln d}{d-1}}$ قرار دارد یا نه بررسی کنید که آیا همه مولفه‌هایش در بازه‌ی $\\left[ -k\\sqrt{\\frac{\\ln d}{d-1}}, +k\\sqrt{\\frac{\\ln d}{d-1}} \\right]$ قرار دارد یا نه).</li>\n",
    "<br/>\n",
    "\t</font>\n",
    "</div>"
   ]
  },
  {
   "cell_type": "code",
   "execution_count": null,
   "metadata": {},
   "outputs": [],
   "source": [
    "######## Code here!\n",
    "def howManyInCube(v, r):\n",
    "    n = v.shape[0];\n",
    "    dim = v.shape[1];\n",
    "    sum = 0;\n",
    "    for i in range(n):\n",
    "        is_in_cube = True;\n",
    "        for j in range(dim):\n",
    "            if (v[i][j] < -r or v[i][j] > r):\n",
    "                is_in_cube = False;\n",
    "                break;\n",
    "        if (is_in_cube):\n",
    "            sum += 1;\n",
    "    return 100 * (sum / n);\n",
    "\n",
    "n = 1000;\n",
    "dim = 1000; \n",
    "mu, sigma = 0, 1;\n",
    "\n",
    "k = np.random.normal(mu, sigma, size = (n, dim));\n",
    "sz = np.shape(k);\n",
    "norms = getNorm(k);\n",
    "k = np.array([[k[i][j] / norms[i] for j in range(sz[1])] for i in range(sz[0])]);\n",
    "y = np.random.rand(n);\n",
    "y **= 1 / dim;\n",
    "x = np.array([[y[i] * k[i][j] for j in range(dim)] for i in range(n)]);\n",
    "# r is half of cube side length\n",
    "r = 2 * np.sqrt(np.log(dim) / (dim - 1))\n",
    "print(howManyInCube(x, r))"
   ]
  },
  {
   "cell_type": "markdown",
   "metadata": {},
   "source": [
    "<p></p>\n",
    "<br/>\n",
    "<div id=\"sec_1\" style=\"direction:rtl;line-height:300%;\">\n",
    "\t<font face=\"B Nazanin\" size=5>\n",
    "\t\t<p></p>\n",
    "\t\t<hr>\n",
    "در این قسمت قصد داریم با تغییر $k$، تغییراتِ درصدِ بردارهایی که در ابرمکعب قرار می‌گیرند را مشاهده کنیم. \n",
    "به ازای $k \\in \\left[ 0.1, 2 \\right]$ با دقت $0.025$ (یک حلقه روی بازه‌ی مذکور بزنید و $k$ را 25 هزارم 25 هزارم افزایش دهید)، حساب کنید که چند درصد از بردارها درون ابرمکعب قرار دارند. اعداد به دست آمده را در یک لیست بریزید و در نهایت نمودار را به ازای مقادیر $k$ و درصدهای به دست آمده رسم کنید.</li>\n",
    "<br/>\n",
    "\t</font>\n",
    "</div>"
   ]
  },
  {
   "cell_type": "code",
   "execution_count": null,
   "metadata": {},
   "outputs": [],
   "source": [
    "######## Code here!\n",
    "n = 1000;\n",
    "dim = 1000; \n",
    "mu, sigma = 0, 1;\n",
    "\n",
    "k = np.random.normal(mu, sigma, size = (n, dim));\n",
    "sz = np.shape(k);\n",
    "norms = getNorm(k);\n",
    "k = np.array([[k[i][j] / norms[i] for j in range(sz[1])] for i in range(sz[0])]);\n",
    "y = np.random.rand(n);\n",
    "y **= 1 / dim;\n",
    "x = np.array([[y[i] * k[i][j] for j in range(dim)] for i in range(n)]);\n",
    "\n",
    "x_3 = [];\n",
    "y_3 = [];\n",
    "for r in np.arange(0.1, 2 + 0.1, 0.025):\n",
    "    x_3.append(r);\n",
    "    y_3.append(howManyInCube(x, r * np.sqrt(np.log(dim) / (dim - 1))))\n",
    "plt.plot(x_3, y_3)"
   ]
  },
  {
   "cell_type": "markdown",
   "metadata": {},
   "source": [
    "<p></p>\n",
    "<br/>\n",
    "<div id=\"sec_1\" style=\"direction:rtl;line-height:300%;\">\n",
    "\t<font face=\"B Nazanin\" size=5>\n",
    "\t\t<p></p>\n",
    "\t\t<hr>\n",
    "این بار می‌خواهیم تغییرات درصدها را با توجه به تغییرات بعد بردارها مشاهده نماییم. برای این منظور این بار $k$ را ثابت و برابر با 2 قرار دهید و به ازای $d \\in \\left[10, 1000  \\right]$ با دقت 10 (یک حلقه روی بازه‌ی مذکور بزنید و $d$ را ده تا ده تا زیاد کنید)  هر بار بردارهای $d$ بعدی درون گوی یکه را تولید کنید سپس حساب کنید که چند درصد از بردارها درون ابرمکعب قرار دارند. اعداد به دست آمده را در یک لیست بریزید و در نهایت نمودار را به ازای مقادیر مختلف $d$ و درصدهای به دست آمده رسم کنید. \n",
    "        </li>\n",
    "<br/>\n",
    "\t</font>\n",
    "</div>"
   ]
  },
  {
   "cell_type": "code",
   "execution_count": null,
   "metadata": {},
   "outputs": [],
   "source": [
    "######## Code here!\n",
    "n = 1000;\n",
    "x_4 = [];\n",
    "y_4 = [];\n",
    "r = 2;\n",
    "for dim in range(3, 1001, 10):\n",
    "    mu, sigma = 0, 1;\n",
    "    k = np.random.normal(mu, sigma, size = (n, dim));\n",
    "    sz = np.shape(k);\n",
    "    norms = getNorm(k);\n",
    "    k = np.array([[k[i][j] / norms[i] for j in range(sz[1])] for i in range(sz[0])]);\n",
    "    y = np.random.rand(n);\n",
    "    y **= 1 / dim;\n",
    "    x = np.array([[y[i] * k[i][j] for j in range(dim)] for i in range(n)]);\n",
    "    x_4.append(dim);\n",
    "    y_4.append(howManyInCube(x, r * np.sqrt(np.log(dim) / (dim - 1))))\n",
    "plt.plot(x_4, y_4);"
   ]
  },
  {
   "cell_type": "markdown",
   "metadata": {},
   "source": [
    "<p></p>\n",
    "<br />\n",
    "<div id=\"gaussian_annulus_theorem\" style=\"direction:rtl;line-height:300%;\">\n",
    "\t<font face=\"B Nazanin\" size=5>\n",
    "\t\t<font color=#FF7500 size=6>\n",
    "قضیه‌ی حلقه گوسی\n",
    "        </font>\n",
    "\t\t<p></p>\n",
    "\t\t<hr>\n",
    "اگر $x \\sim N^d(0,1)$ و $0 \\lt \\beta \\lt \\sqrt{d}$ آنگاه داریم: $Pr\\left( \\left| \\left\\| x \\right\\| -\\sqrt{d} \\right| \\gt \\beta \\right) \\le  3e^{-\\frac{\\beta^2}{96}}$\n",
    "<br/>\n",
    "هدف این بخش درک بهتر قضیه‌ی بالا به کمک شبیه‌سازی آن است.\n",
    "<br/><br/>\n",
    "\t</font>\n",
    "</div>"
   ]
  },
  {
   "cell_type": "markdown",
   "metadata": {},
   "source": [
    "<p></p>\n",
    "<br/>\n",
    "<div id=\"sec_1\" style=\"direction:rtl;line-height:300%;\">\n",
    "\t<font face=\"B Nazanin\" size=5>\n",
    "\t\t<p></p>\n",
    "\t\t<hr>\n",
    "در این قسمت می‌خواهیم با تغییر $\\beta$، ِتغییراتِ درصدِ بردارهایی که در گوی به شعاع $\\sqrt{d}$ قرار می‌گیرند را مشاهده کنیم. برای این منظور مراحل زیر را انجام دهید:\n",
    "        <p style='direction:rtl; text-align: right'>\n",
    "    <ul style='direction:rtl; text-align: right'>\n",
    "        <font face=\"B Nazanin\" size=5>\n",
    "        <li>1000 بردار 1000 بعدی نرمال تولید کنید. به ازای $\\beta \\in \\left( 0.1, 3 \\right)$ با دقت $0.1$، درصدِ بردارهایی که خارج گوی به شعاع $\\sqrt{d} \\pm \\beta$ قرار می‌گیرند را حساب کنید و نمودار درصدها را برحسب $\\beta$ رسم نمایید.</li>\n",
    "    </ul>\n",
    "</p>\n",
    "\t</font>\n",
    "</div>\n",
    "        </li>\n",
    "<br/>\n",
    "\t</font>\n",
    "</div>"
   ]
  },
  {
   "cell_type": "code",
   "execution_count": 1,
   "metadata": {},
   "outputs": [
    {
     "ename": "NameError",
     "evalue": "name 'np' is not defined",
     "output_type": "error",
     "traceback": [
      "\u001b[1;31m---------------------------------------------------------------------------\u001b[0m",
      "\u001b[1;31mNameError\u001b[0m                                 Traceback (most recent call last)",
      "\u001b[1;32m<ipython-input-1-2e160690f3d3>\u001b[0m in \u001b[0;36m<module>\u001b[1;34m\u001b[0m\n\u001b[0;32m     14\u001b[0m \u001b[0mmu\u001b[0m\u001b[1;33m,\u001b[0m \u001b[0msigma\u001b[0m \u001b[1;33m=\u001b[0m \u001b[1;36m0\u001b[0m\u001b[1;33m,\u001b[0m \u001b[1;36m1\u001b[0m\u001b[1;33m;\u001b[0m\u001b[1;33m\u001b[0m\u001b[1;33m\u001b[0m\u001b[0m\n\u001b[0;32m     15\u001b[0m \u001b[1;33m\u001b[0m\u001b[0m\n\u001b[1;32m---> 16\u001b[1;33m \u001b[0mk\u001b[0m \u001b[1;33m=\u001b[0m \u001b[0mnp\u001b[0m\u001b[1;33m.\u001b[0m\u001b[0mrandom\u001b[0m\u001b[1;33m.\u001b[0m\u001b[0mnormal\u001b[0m\u001b[1;33m(\u001b[0m\u001b[0mmu\u001b[0m\u001b[1;33m,\u001b[0m \u001b[0msigma\u001b[0m\u001b[1;33m,\u001b[0m \u001b[0msize\u001b[0m \u001b[1;33m=\u001b[0m \u001b[1;33m(\u001b[0m\u001b[0mn\u001b[0m\u001b[1;33m,\u001b[0m \u001b[0mdim\u001b[0m\u001b[1;33m)\u001b[0m\u001b[1;33m)\u001b[0m\u001b[1;33m;\u001b[0m\u001b[1;33m\u001b[0m\u001b[1;33m\u001b[0m\u001b[0m\n\u001b[0m\u001b[0;32m     17\u001b[0m \u001b[0mx_5\u001b[0m \u001b[1;33m=\u001b[0m \u001b[1;33m[\u001b[0m\u001b[1;33m]\u001b[0m\u001b[1;33m;\u001b[0m\u001b[1;33m\u001b[0m\u001b[1;33m\u001b[0m\u001b[0m\n\u001b[0;32m     18\u001b[0m \u001b[0my_5\u001b[0m \u001b[1;33m=\u001b[0m \u001b[1;33m[\u001b[0m\u001b[1;33m]\u001b[0m\u001b[1;33m;\u001b[0m\u001b[1;33m\u001b[0m\u001b[1;33m\u001b[0m\u001b[0m\n",
      "\u001b[1;31mNameError\u001b[0m: name 'np' is not defined"
     ]
    }
   ],
   "source": [
    "######## Code here!\n",
    "def howManyOutSphere(v, beta):\n",
    "    n = v.shape[0];\n",
    "    dim = v.shape[1];\n",
    "    sum = 0;\n",
    "    for i in range(n):\n",
    "        if (getNorm(v[i]) > np.sqrt(dim) + beta or np.sqrt(dim) < np.sqrt(dim) - beta):\n",
    "            sum += 1;\n",
    "    return 100 * (sum / n);\n",
    "\n",
    "\n",
    "n = 1000;\n",
    "dim = 1000;\n",
    "mu, sigma = 0, 1;\n",
    "\n",
    "k = np.random.normal(mu, sigma, size = (n, dim));\n",
    "x_5 = [];\n",
    "y_5 = [];\n",
    "for beta in np.arange(0.1, 3, 0.1):\n",
    "    x_5.append(beta);\n",
    "    y_5.append(howManyOutSphere(k, beta))\n",
    "plt.plot(x_5, y_5)"
   ]
  },
  {
   "cell_type": "markdown",
   "metadata": {},
   "source": [
    "<p></p>\n",
    "<br/>\n",
    "<div id=\"sec_1\" style=\"direction:rtl;line-height:300%;\">\n",
    "\t<font face=\"B Nazanin\" size=5>\n",
    "\t\t<p></p>\n",
    "\t\t<hr>\n",
    "چه نتیجه‌ای می‌گیرید؟</li>\n",
    "<br/>\n",
    "\t</font>\n",
    "</div>"
   ]
  },
  {
   "cell_type": "markdown",
   "metadata": {},
   "source": [
    "### Answer here!\n",
    "<p></p>\n",
    "<br/>\n",
    "<div id=\"sec_1\" style=\"direction:rtl;line-height:300%;\">\n",
    "\t<font face=\"B Nazanin\" size=5>\n",
    "اینجا بنویسید...</li>\n",
    "<br/>\n",
    "\t</font>\n",
    "</div>"
   ]
  },
  {
   "cell_type": "markdown",
   "metadata": {},
   "source": [
    "<p></p>\n",
    "<br />\n",
    "<div id=\"separating_gaussians\" style=\"direction:rtl;line-height:300%;\">\n",
    "\t<font face=\"B Nazanin\" size=5>\n",
    "\t\t<font color=#FF7500 size=6>\n",
    "تفکیک توزیع‌های گوسی\n",
    "        </font>\n",
    "\t\t<p></p>\n",
    "\t\t<hr>\n",
    "<br/>\n",
    "هدف این بخش دسته بندی کردن نقاط و نسبت دادن آن‌ها به توزیع گوسی مربوط به خود می‌باشد.\n",
    "<br/><br/>\n",
    "\t</font>\n",
    "</div>"
   ]
  },
  {
   "cell_type": "markdown",
   "metadata": {},
   "source": [
    "<p></p>\n",
    "<br/>\n",
    "<div id=\"sec_1\" style=\"direction:rtl;line-height:300%;\">\n",
    "\t<font face=\"B Nazanin\" size=5>\n",
    "\t\t<p></p>\n",
    "\t\t<hr>\n",
    "برای این منظور مراحل زیر را انجام دهید:\n",
    "        <p style='direction:rtl; text-align: right'>\n",
    "    <ul style='direction:rtl; text-align: right'>\n",
    "        <font face=\"B Nazanin\" size=5>\n",
    "        <li>تولید m بردار از توزیع نرمال با میانگین بردار ثابت ۰ و انحراف معیار ۱ با بعد d</li>\n",
    "    </ul>\n",
    "</p>\n",
    "\t</font>\n",
    "</div>\n",
    "        </li>\n",
    "<br/>\n",
    "\t</font>\n",
    "</div>"
   ]
  },
  {
   "cell_type": "code",
   "execution_count": null,
   "metadata": {},
   "outputs": [],
   "source": [
    "m = 10\n",
    "dim = 3000 \n",
    "mu, sigma = 0, 1\n",
    "x = np.random.normal(mu, sigma, size = (m, dim))\n",
    "print(x.shape)"
   ]
  },
  {
   "cell_type": "markdown",
   "metadata": {},
   "source": [
    "<p style='direction:rtl; text-align: right'>\n",
    "    <ul style='direction:rtl; text-align: right'>\n",
    "        <font face=\"B Nazanin\" size=5>\n",
    "        <li> تولید m بردار از توزیع نرمال با میانگین بردار ثابت 1 و انحراف معیار ۱ با بعد d</li>\n",
    "    </ul>\n",
    "</p>\n",
    "\t</font>"
   ]
  },
  {
   "cell_type": "code",
   "execution_count": null,
   "metadata": {},
   "outputs": [],
   "source": [
    "mu, sigma = 1, 1\n",
    "y = np.random.normal(mu, sigma, size = (m, dim))\n",
    "print(y.shape)"
   ]
  },
  {
   "cell_type": "markdown",
   "metadata": {},
   "source": [
    "<p style='direction:rtl; text-align: right'>\n",
    "    <ul style='direction:rtl; text-align: right'>\n",
    "        <font face=\"B Nazanin\" size=5>\n",
    "        <li>در این قسمت داده‌ها را لیبل دار کنید. برای بردار‌های x یک ستون ۰ و برای بردار‌های y یک ستون ۱ به آخر داده‌ها اضافه کنید. (برای این کار از تابع np.ones و np.zeros و np.concatenate استفاده کنید)</li>\n",
    "    </ul>\n",
    "</p>\n",
    "\t</font>"
   ]
  },
  {
   "cell_type": "code",
   "execution_count": null,
   "metadata": {},
   "outputs": [],
   "source": [
    "######## Code here!\n",
    "x_label = np.zeros((m, 1))\n",
    "y_label = np.ones((m, 1))\n",
    "####### np.concatenate\n",
    "x = np.concatenate((x, x_label), axis = 1)\n",
    "y = np.concatenate((y, y_label), axis = 1)\n",
    "########\n",
    "allpoint = np.concatenate((x, y), axis = 0)\n",
    "print(allpoint.shape)"
   ]
  },
  {
   "cell_type": "code",
   "execution_count": null,
   "metadata": {},
   "outputs": [],
   "source": [
    "######## Code here!\n",
    "def getDistance(X, Y):\n",
    "    dif = 0\n",
    "    if len(X) == len(Y):\n",
    "        dif = np.sqrt(np.sum([(X[i] - Y[i]) ** 2 for i in range(len(X))]))\n",
    "    return dif"
   ]
  },
  {
   "cell_type": "markdown",
   "metadata": {},
   "source": [
    "<p style='direction:rtl; text-align: right'>\n",
    "    <ul style='direction:rtl; text-align: right'>\n",
    "        <font face=\"B Nazanin\" size=5>\n",
    "        <li>پیدا کردن فاصله دو به دو نقاط (دقت شود ستون اخر داده allpoint لیبل میباشد و در محاسبات نباید حضور داشته باشد. )</li>\n",
    "    </ul>\n",
    "</p>\n",
    "\t</font>"
   ]
  },
  {
   "cell_type": "code",
   "execution_count": null,
   "metadata": {},
   "outputs": [],
   "source": [
    "######## Code here!\n",
    "allpoint_without_label = allpoint[:, 0: -1]\n",
    "distances = np.zeros((len(allpoint_without_label), len(allpoint_without_label)))\n",
    "for i in range(0, len(allpoint_without_label)):\n",
    "    for j in range(0, len(allpoint_without_label)):        \n",
    "         distances[i, j] = getDistance(allpoint_without_label[i], allpoint_without_label[j])\n",
    "print(distances)"
   ]
  },
  {
   "cell_type": "markdown",
   "metadata": {},
   "source": [
    "<p style='direction:rtl; text-align: right'>\n",
    "    <ul style='direction:rtl; text-align: right'>\n",
    "        <font face=\"B Nazanin\" size=5>\n",
    "        <li>نمایش فاصله ها (برای نمایش داده ها از plt.scatter استفاده شود. از distances_plot به عنوان مولفه x استفاده شود. برای مولفه y از np.zeros استفاده کنید.</li>\n",
    "    </ul>\n",
    "</p>\n",
    "\t</font>"
   ]
  },
  {
   "cell_type": "code",
   "execution_count": null,
   "metadata": {},
   "outputs": [],
   "source": [
    "######## Code here!\n",
    "distances_plot = distances[distances != 0]\n",
    "print(distances.shape)\n",
    "x_s = distances_plot\n",
    "y_s = np.zeros(len(distances_plot))\n",
    "plt.scatter(x_s, y_s)\n",
    "\n",
    "########\n",
    "error = 0\n",
    "distance_threshold = 85\n",
    "\n",
    "######## compute error\n",
    "for i in range(len(distances)):\n",
    "    for j in range(len(distances[i])):\n",
    "        if (distances[i][j] < distance_threshold and allpoint[i, dim] != allpoint[j, dim]) or (distances[i][j] > distance_threshold and allpoint[i, dim] == allpoint[j, dim]):\n",
    "            error += 1\n",
    "print(\"Error value:{}\".format(error / (len(distances) ** 2)))"
   ]
  },
  {
   "cell_type": "code",
   "execution_count": null,
   "metadata": {},
   "outputs": [],
   "source": []
  },
  {
   "cell_type": "code",
   "execution_count": null,
   "metadata": {},
   "outputs": [],
   "source": [
    "m = 10\n",
    "dim = 3000 \n",
    "mu, sigma = 0, 1\n",
    "x = np.random.normal(mu, sigma, size = (m, dim))\n",
    "print(x.shape)\n",
    "\n",
    "\n",
    "mu, sigma = 1, 1\n",
    "y = np.random.normal(mu, sigma, size = (m, dim))\n",
    "print(y.shape)\n",
    "\n",
    "\n",
    "######## Code here!\n",
    "x_label = np.zeros((m, 1))\n",
    "y_label = np.ones((m, 1))\n",
    "####### np.concatenate\n",
    "x = np.concatenate((x, x_label), axis = 1)\n",
    "y = np.concatenate((y, y_label), axis = 1)\n",
    "########\n",
    "allpoint = np.concatenate((x, y), axis = 0)\n",
    "print(allpoint.shape)\n",
    "\n",
    "\n",
    "######## Code here!\n",
    "def getDistance(X, Y):\n",
    "    dif = 0\n",
    "    if len(X) == len(Y):\n",
    "        dif = np.sqrt(np.sum([(X[i] - Y[i]) ** 2 for i in range(len(X))]))\n",
    "    return dif\n",
    "\n",
    "\n",
    "######## Code here!\n",
    "allpoint_without_label = allpoint[:, 0: -1]\n",
    "distances = np.zeros((len(allpoint_without_label), len(allpoint_without_label)))\n",
    "for i in range(0, len(allpoint_without_label)):\n",
    "    for j in range(0, len(allpoint_without_label)):        \n",
    "         distances[i, j] = getDistance(allpoint_without_label[i], allpoint_without_label[j])\n",
    "print(distances)\n",
    "\n",
    "\n",
    "######## Code here!\n",
    "distances_plot = distances[distances != 0]\n",
    "print(distances.shape)\n",
    "x_s = distances_plot\n",
    "y_s = np.zeros(len(distances_plot))\n",
    "plt.scatter(x_s, y_s)\n",
    "\n",
    "########\n",
    "error = 0\n",
    "distance_threshold = 85\n",
    "\n",
    "######## compute error\n",
    "for i in range(len(distances)):\n",
    "    for j in range(len(distances[i])):\n",
    "        if (distances[i][j] < distance_threshold and allpoint[i, dim] != allpoint[j, dim]) or (distances[i][j] > distance_threshold and allpoint[i, dim] == allpoint[j, dim]):\n",
    "            error += 1\n",
    "print(\"Error value:{}\".format(error / (len(distances) ** 2)))"
   ]
  },
  {
   "cell_type": "markdown",
   "metadata": {},
   "source": [
    "<p></p>\n",
    "<br />\n",
    "<div id=\"random_projection\" style=\"direction:rtl;line-height:300%;\">\n",
    "\t<font face=\"B Nazanin\" size=5>\n",
    "\t\t<font color=#FF7500 size=6>\n",
    "کاهش بعد (Random Projection)\n",
    "        </font>\n",
    "\t\t<p></p>\n",
    "\t\t<hr><br/>\n",
    "\t</font>\n",
    "</div>"
   ]
  },
  {
   "cell_type": "markdown",
   "metadata": {},
   "source": [
    "<p></p>\n",
    "<br/>\n",
    "<div id=\"sec_1\" style=\"direction:rtl;line-height:300%;\">\n",
    "\t<font face=\"B Nazanin\" size=5>\n",
    "\t\t<p></p>\n",
    "\t\t<hr>\n",
    "        <li>تابعِ محاسبه‌ی تصویر بردار روی زیرفضا</li>\n",
    "<br/>\n",
    "در این قسمت تابعِ projectSubspace را با 2 پارامتر ورودی (که اولی آرایه‌ای $m \\times d$ از $m$ بردار $d$ بعدی است که می‌خواهیم آن‌ها را تصویر کنیم و دومی آرایه‌ای $k \\times d$ از $k$ بردار مستقل گوسی $d$ بعدی است که قرار است تصویر کردن به کمک آن‌ها انجام شود). برای این منظور مراحل زیر را انجام دهید:\n",
    "<p style='direction:rtl; text-align: right'>\n",
    "    <ul style='direction:rtl; text-align: right'>\n",
    "        <li>به ازای هر یک از بردارهای پارامتر ورودی اول، ضرب داخلی آن بردار را با هر یک از kتا بردار موجود در پارامتر ورودی دوم را به دست آورید و در نهایت آن را بر $\\sqrt{k}$ تقسیم کنید.</li>\n",
    "    </ul>\n",
    "</p>\n",
    "\t</font>\n",
    "</div>"
   ]
  },
  {
   "cell_type": "code",
   "execution_count": null,
   "metadata": {},
   "outputs": [],
   "source": [
    "######## Code here!\n",
    "def projectSubspace(X, W):\n",
    "    d = 0\n",
    "    m = 0\n",
    "    dim_of_x = len(X.shape)\n",
    "    if (dim_of_x > 1):\n",
    "        m = X.shape[0]\n",
    "    else:\n",
    "        m = 1\n",
    "    k = W.shape[0]\n",
    "    d = W.shape[1]\n",
    "    if (dim_of_x == 1):\n",
    "        projection = [getInnerProduct(X, W[i]) for i in range(k)]\n",
    "    else:\n",
    "        projection = [[getInnerProduct(X[i], W[j]) for j in range(k)] for i in range(m)]\n",
    "    return projection"
   ]
  },
  {
   "cell_type": "markdown",
   "metadata": {},
   "source": [
    "<p style='direction:rtl; text-align: right'>\n",
    "    <ul style='direction:rtl; text-align: right'>\n",
    "        <font face=\"B Nazanin\" size=5>\n",
    "        <li>u: تولید n بردار از توزیع نرمال با میانگین ۰ و انحراف معیار ۱ با بعد d</li>\n",
    "        <li>v: تولید k بردار از توزیع نرمال با میانگین ۰ و انحراف معیار ۱ با بعد d</li>\n",
    "        <li>از تابع projectSubspace استفاده کنید و بردار‌های u را روی بردار‌های v تصویر کنید و حاصل را در ans ذخیره کنید.</li>\n",
    "        <li>فاصله دو به دو بردار‌های ans را حساب کنید و میانگین فاصله‌ها را نمایش دهید.</li>\n",
    "        <li>فاصله دو به دو بردار‌های u را حساب کنید و میانگین فاصله‌ها را نمایش دهید.</li>\n",
    "    </ul>\n",
    "</p>\n",
    "\t</font>\n",
    "</div>"
   ]
  },
  {
   "cell_type": "code",
   "execution_count": null,
   "metadata": {},
   "outputs": [],
   "source": [
    "######## Code here!\n",
    "n = 100\n",
    "k = int(10 * np.log(n))\n",
    "dim = 500\n",
    "mu, sigma = 0, 1\n",
    "u = np.random.normal(mu, sigma, size = (n, dim))\n",
    "v = np.random.normal(mu, sigma, size = (k, dim))\n",
    "random_projection = projectSubspace(u, v)\n",
    "ans = random_projection / np.sqrt(k)\n",
    "ans_distances = [[distance(ans[i], ans[j]) for j in range(ans.shape[0])] for i in range(ans.shape[0])]\n",
    "u_distances = [[distance(u[i], u[j]) for j in range(u.shape[0])] for i in range(u.shape[0])]\n",
    "print(np.average(ans_distances))\n",
    "print(np.average(u_distances))"
   ]
  }
 ],
 "metadata": {
  "kernelspec": {
   "display_name": "Python 3",
   "language": "python",
   "name": "python3"
  },
  "language_info": {
   "codemirror_mode": {
    "name": "ipython",
    "version": 3
   },
   "file_extension": ".py",
   "mimetype": "text/x-python",
   "name": "python",
   "nbconvert_exporter": "python",
   "pygments_lexer": "ipython3",
   "version": "3.8.5"
  }
 },
 "nbformat": 4,
 "nbformat_minor": 4
}
