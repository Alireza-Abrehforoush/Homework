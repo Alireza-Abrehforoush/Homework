{
 "cells": [
  {
   "cell_type": "markdown",
   "metadata": {},
   "source": [
    "<div style=\"direction:rtl;line-height:300%;\">\n",
    "\t<font face=\"B Nazanin\" size=5>\n",
    "\t\t<div align=center>\n",
    "\t\t\t<font face=\"IranNastaliq\" size=30>\n",
    "\t\t\t\t<p></p>\n",
    "\t\t\t\t<p></p>\n",
    "به نام خدا\n",
    "\t\t\t\t<p></p>\n",
    "\t\t\t</font>\n",
    "\t\t\t<font color=#FF7500>\n",
    "دانشگاه صنعتی اصفهان - دانشکده علوم ریاضی\n",
    "            </font>\n",
    "\t\t\t<p></p>\n",
    "\t\t\t<font color=blue>\n",
    "مبانی ریاضی علوم داده\n",
    "            </font>\n",
    "\t\t\t<br />\n",
    "\t\t\t<br />\n",
    "پاییز ۱۴۰۱\n",
    "\t\t</div>\n",
    "\t\t<hr/>\n",
    "\t\t<font color=red size=6>\n",
    "\t\t\t<br />\n",
    "\t\t\t<div align=center>\t\n",
    "مینی‌پروژه‌ی ۳ (گشت تصادفی و زنجیر مارکُف)\n",
    "            </div>\n",
    "\t\t</font>\n",
    "\t\t<br />\n",
    "\t\t<hr />\n",
    "\t\t<style type=\"text/css\" scoped>\n",
    "        p{\n",
    "        border: 1px solid #a2a9b1;background-color: #f8f9fa;display: inline-block;\n",
    "        };\n",
    "        </style>\n",
    "\t\t<div>\n",
    "\t\t\t<h3>فهرست مطالب</h3>\n",
    "\t\t\t<ul style=\"margin-right: 0;\">\n",
    "                <li>\n",
    "\t\t\t\t\t<a href=\"#1st\">\n",
    "                        تاثیر افزودن راس و یال به گراف در pagerank\n",
    "                    </a>\n",
    "\t\t\t\t</li>\n",
    "                <li>\n",
    "\t\t\t\t\t<a href=\"#2nd\">\n",
    "پیاده‌سازی الگوریتم Metropolis-Hastings\n",
    "                    </a>\n",
    "\t\t\t\t</li>\n",
    "\t\t\t</ul>\n",
    "\t\t</div>\n",
    "\t</font>\n",
    "</div>"
   ]
  },
  {
   "cell_type": "markdown",
   "metadata": {},
   "source": [
    "<p></p>\n",
    "<br/>\n",
    "<div id=\"sec_1\" style=\"direction:rtl;line-height:300%;\">\n",
    "\t<font face=\"B Nazanin\" size=5>\n",
    "\t\t<p></p>\n",
    "\t\t<hr>\n",
    "در این مینی‌پروژه با گراف‌ها سروکار داریم. پکیج networkx در پایتون کتابخانه‌ای بسیار قدرتمند است که دارای مجموعه‌ای غنی از ابزارهای مورد نیاز برای ساخت، دستکاری، مطالعه‌ی ساختاری، دینامیک و توابع در شبکه‌های پیچیده است. برای نصب این پکیج قطعه کد زیر را اجرا کنید. \n",
    "<br/>\n",
    "\t</font>\n",
    "</div>"
   ]
  },
  {
   "cell_type": "code",
   "execution_count": 1,
   "metadata": {},
   "outputs": [
    {
     "name": "stdout",
     "output_type": "stream",
     "text": [
      "Requirement already satisfied: networkx in c:\\programdata\\anaconda3\\lib\\site-packages (2.5)\n",
      "Requirement already satisfied: decorator>=4.3.0 in c:\\programdata\\anaconda3\\lib\\site-packages (from networkx) (4.4.2)\n"
     ]
    }
   ],
   "source": [
    "!pip install networkx"
   ]
  },
  {
   "cell_type": "markdown",
   "metadata": {},
   "source": [
    "<p></p>\n",
    "<br/>\n",
    "<div id=\"sec_1\" style=\"direction:rtl;line-height:300%;\">\n",
    "\t<font face=\"B Nazanin\" size=5>\n",
    "\t\t<p></p>\n",
    "\t\t<hr>\n",
    "        ابتدا باید ماژول‌های زیر را \"import\" کنیم:\n",
    "        <li>numpy: کار با بردارها و توابع مختلف عددی</li>\n",
    "        <li>networkx: کار با گراف‌ها</li>\n",
    "        <li>matplotlib: برای رسم نمودار</li>\n",
    "<br/>\n",
    "\t</font>\n",
    "</div>"
   ]
  },
  {
   "cell_type": "code",
   "execution_count": 2,
   "metadata": {},
   "outputs": [],
   "source": [
    "######## Code here!\n",
    "import numpy as np\n",
    "import networkx as nx\n",
    "import matplotlib.pyplot as plt\n",
    "\n",
    "import ipywidgets as widgets\n",
    "from IPython.display import display"
   ]
  },
  {
   "cell_type": "markdown",
   "metadata": {},
   "source": [
    "<p></p>\n",
    "<br />\n",
    "<div id=\"1st\" style=\"direction:rtl;line-height:300%;\">\n",
    "\t<font face=\"B Nazanin\" size=5>\n",
    "\t\t<font color=#FF7500 size=6>\n",
    "تاثیر افزودن راس و یال به گراف در pagerank\n",
    "        </font>\n",
    "\t\t<p></p>\n",
    "\t\t<hr>\n",
    "\t</font>\n",
    "</div>"
   ]
  },
  {
   "cell_type": "markdown",
   "metadata": {},
   "source": [
    "<p></p>\n",
    "<br/>\n",
    "<div id=\"sec_1\" style=\"direction:rtl;line-height:300%;\">\n",
    "\t<font face=\"B Nazanin\" size=5>\n",
    "\t\t<p></p>\n",
    "\t\t<hr>\n",
    "        <li>ساخت یک گراف تصادفی با 200 راس و تقریبا 8 یال به ازای هر راس</li>\n",
    "<br/>\n",
    "در نظریه گراف مدل اردوش-رنیی شامل دو مدل نزدیک به‌ هم برای ساختن گراف تصادفی است. در این جا برای ساخت گراف تصادفی‌مان از این مدل استفاده می‌کنیم. برای این منظور گراف جهت‌دار G را با 200 راس و تقریبا 8 یال به ازای هر راس با استفاده از تابع erdos_renyi_graph بسازید. سپس آن را نمایش دهید.\n",
    "<li><li>راهنمایی: این تابع 4 پارامتر ورودی دارد که به ترتیب تعداد رئوس، احتمال وجود یال بین هر دو راس به طور مستقل، seed،و جهت‌دار بودن/نبودن است. توصیه می‌شود برای شروع از لینک‌های زیر کمک بگیرید.\n",
    "        <li><a href=\"https://networkx.org/documentation/stable/reference/generated/networkx.generators.random_graphs.erdos_renyi_graph.html\">erdos_renyi_graph function networkx documentation</a></li>\n",
    "        <li><a href=\"https://www.geeksforgeeks.org/erdos-renyl-model-generating-random-graphs/\">erdos_renyi_graph function example</a></li>\n",
    "        فرض می‌کنیم احتمال وجود یال بین هر دو راس  $p$باشد. برای اینکه در یک گراف تصادفی هر راس تقریبا 8 یال داشته باشد باید امید ریاضی تعداد یال‌های آن راس 8 باشد.  در اینصورت $p$ برابر است با:\n",
    "        $\\sum_{i=1}^{2 \\times (200-1)}p\\times 1 = 398p = 8 \\Rightarrow p = \\frac{8}{398}$\n",
    "\t</font>\n",
    "</div>"
   ]
  },
  {
   "cell_type": "code",
   "execution_count": 3,
   "metadata": {
    "scrolled": true
   },
   "outputs": [
    {
     "data": {
      "image/png": "[encoded data removed]",
      "text/plain": [
       "<Figure size 432x288 with 1 Axes>"
      ]
     },
     "metadata": {},
     "output_type": "display_data"
    }
   ],
   "source": [
    "v = 200 # number of vertices\n",
    "epp = 8 # number of edges per vertex\n",
    "p = epp / (2 * v - 2)\n",
    "G = nx.erdos_renyi_graph(v, p, directed = True)\n",
    "nx.draw(G, with_labels = True)\n",
    "plt.show()"
   ]
  },
  {
   "cell_type": "markdown",
   "metadata": {},
   "source": [
    "<p></p>\n",
    "<br/>\n",
    "<div id=\"sec_1\" style=\"direction:rtl;line-height:300%;\">\n",
    "\t<font face=\"B Nazanin\" size=5>\n",
    "\t\t<p></p>\n",
    "\t\t<hr>\n",
    "        <li>با استفاده از تابع pagerank در networkx، رتبه‌ی نظیر هر راس در این گراف را به دست آورید.</li>\n",
    "<br/>\n",
    "\t</font>\n",
    "</div>"
   ]
  },
  {
   "cell_type": "code",
   "execution_count": 4,
   "metadata": {},
   "outputs": [],
   "source": [
    "x = nx.pagerank(G)"
   ]
  },
  {
   "cell_type": "markdown",
   "metadata": {},
   "source": [
    "<p></p>\n",
    "<br/>\n",
    "<div id=\"sec_1\" style=\"direction:rtl;line-height:300%;\">\n",
    "\t<font face=\"B Nazanin\" size=5>\n",
    "\t\t<p></p>\n",
    "\t\t<hr>\n",
    "        <li>نمودار pagerank بر حسب راس را رسم کنید.</li>\n",
    "<br/>\n",
    "\t</font>\n",
    "</div>"
   ]
  },
  {
   "cell_type": "code",
   "execution_count": 5,
   "metadata": {},
   "outputs": [
    {
     "data": {
      "image/png": "[encoded data removed]",
      "text/plain": [
       "<Figure size 720x360 with 1 Axes>"
      ]
     },
     "metadata": {
      "needs_background": "light"
     },
     "output_type": "display_data"
    }
   ],
   "source": [
    "G_nodes = list(x.keys())\n",
    "G_p_rs = list(x.values())\n",
    "\n",
    "fig = plt.figure(figsize = (10, 5))\n",
    "plt.bar(G_nodes, G_p_rs, color = \"maroon\", width = 0.4)\n",
    "plt.xlabel(\"vertice id\")\n",
    "plt.ylabel(\"pagerank\")\n",
    "plt.show()"
   ]
  },
  {
   "cell_type": "markdown",
   "metadata": {},
   "source": [
    "<p></p>\n",
    "<br/>\n",
    "<div id=\"sec_1\" style=\"direction:rtl;line-height:300%;\">\n",
    "\t<font face=\"B Nazanin\" size=5>\n",
    "\t\t<p></p>\n",
    "\t\t<hr>\n",
    "        <li>به ازای kهای مختلف از 1 تا 100 هر بار دو گراف جدید به شکل زیر بسازید:</li>\n",
    "    </li>\n",
    "<br/>\n",
    "\t</font>\n",
    "</div>"
   ]
  },
  {
   "cell_type": "markdown",
   "metadata": {},
   "source": [
    "<p></p>\n",
    "<br/>\n",
    "<div id=\"sec_1\" style=\"direction:rtl;line-height:300%;\">\n",
    "\t<font face=\"B Nazanin\" size=5>\n",
    "\t\t<p></p>\n",
    "\t\t<hr>\n",
    "        <li>الف: k راس به گراف اولیه اضافه کنید و pagerank را برای گراف جدید محاسبه کنید و میانگین اختلاف pagerank در هر یک از این 100 گراف با گراف اولیه را حساب کنید و روی نمودار به ازای هر k  نمایش دهید.</li>\n",
    "    <br/>\n",
    "\t</font>\n",
    "</div>"
   ]
  },
  {
   "cell_type": "code",
   "execution_count": 6,
   "metadata": {},
   "outputs": [
    {
     "data": {
      "image/png": "[encoded data removed]",
      "text/plain": [
       "<Figure size 720x360 with 1 Axes>"
      ]
     },
     "metadata": {
      "needs_background": "light"
     },
     "output_type": "display_data"
    }
   ],
   "source": [
    "max_k = 100\n",
    "p_r_diffs = np.empty(max_k, dtype = type(x))\n",
    "\n",
    "for k in range(1, max_k + 1):\n",
    "    vertices_prime = range(v + k)\n",
    "    G_prime = G.copy()\n",
    "    G_prime.add_nodes_from(vertices_prime)\n",
    "    y = nx.pagerank(G_prime)\n",
    "    p_r_diffs[k - 1] = {key: np.abs(y[key] - x.get(key, 0)) for key in y}\n",
    "\n",
    "mean_prime = np.zeros(max_k)\n",
    "for i in range(max_k):\n",
    "    mean_prime[i] = np.mean(list(p_r_diffs[i].values()))\n",
    "\n",
    "fig = plt.figure(figsize = (10, 5))\n",
    "plt.bar(range(1, 101), mean_prime, color = \"maroon\", width = 0.4)\n",
    "plt.xlabel(\"vertice id\")\n",
    "plt.ylabel(\"pagerank\")\n",
    "plt.show()"
   ]
  },
  {
   "cell_type": "markdown",
   "metadata": {},
   "source": [
    "<p></p>\n",
    "<br/>\n",
    "<div id=\"sec_1\" style=\"direction:rtl;line-height:300%;\">\n",
    "\t<font face=\"B Nazanin\" size=5>\n",
    "\t\t<p></p>\n",
    "\t\t<hr>\n",
    "        <li>ب: k راس به گراف اولیه اضافه کنید و از هر k راس جدید یک یال به راس 0 رسم کنید. سپس pagerank را برای گراف جدید محاسبه کنید و میانگین اختلاف pagerank در هر یک از این 100 گراف با گراف اولیه را حساب کنید و روی نمودار به ازای هر k  نمایش دهید.</li>\n",
    "    <br/>\n",
    "\t</font>\n",
    "</div>"
   ]
  },
  {
   "cell_type": "code",
   "execution_count": 7,
   "metadata": {},
   "outputs": [
    {
     "data": {
      "image/png": "[encoded data removed]",
      "text/plain": [
       "<Figure size 720x360 with 1 Axes>"
      ]
     },
     "metadata": {
      "needs_background": "light"
     },
     "output_type": "display_data"
    }
   ],
   "source": [
    "max_k = 100\n",
    "p_r_diffs_with_edges = np.empty(max_k, dtype = type(x))\n",
    "\n",
    "for k in range(1, max_k + 1):\n",
    "    vertices_prime = range(v + k)\n",
    "    G_prime = G.copy()\n",
    "    G_prime.add_nodes_from(vertices_prime)\n",
    "    G_zegond = G_prime.copy()\n",
    "    for i in range(k):\n",
    "        G_zegond.add_edge(i, 0)\n",
    "    z = nx.pagerank(G_zegond)\n",
    "    p_r_diffs_with_edges[k - 1] = {key: np.abs(z[key] - x.get(key, 0)) for key in z}\n",
    "\n",
    "mean_zegond = np.zeros(max_k)\n",
    "for i in range(max_k):\n",
    "    mean_zegond[i] = np.mean(list(p_r_diffs_with_edges[i].values()))\n",
    "\n",
    "fig = plt.figure(figsize = (10, 5))\n",
    "plt.bar(range(1, 101), mean_zegond, color = \"maroon\", width = 0.4)\n",
    "plt.xlabel(\"vertice id\")\n",
    "plt.ylabel(\"pagerank\")\n",
    "plt.show()"
   ]
  },
  {
   "cell_type": "markdown",
   "metadata": {},
   "source": [
    "<p></p>\n",
    "<br/>\n",
    "<div id=\"sec_1\" style=\"direction:rtl;line-height:300%;\">\n",
    "\t<font face=\"B Nazanin\" size=5>\n",
    "\t\t<p></p>\n",
    "\t\t<hr>\n",
    "در هر کدام از مورد الف و ب چه تغییری در مقادیر pagerank مشاهده می‌کنید؟</li>\n",
    "<br/>\n",
    "\t</font>\n",
    "</div>"
   ]
  },
  {
   "cell_type": "markdown",
   "metadata": {},
   "source": [
    "### Answer here!\n",
    "<p></p>\n",
    "<br/>\n",
    "<div id=\"sec_1\" style=\"direction:rtl;line-height:300%;\">\n",
    "\t<font face=\"B Nazanin\" size=5>\n",
    "اینجا بنویسید...</li>\n",
    "<br/>\n",
    "\t</font>\n",
    "</div>"
   ]
  },
  {
   "cell_type": "markdown",
   "metadata": {},
   "source": [
    "<p></p>\n",
    "<br/>\n",
    "<div id=\"sec_1\" style=\"direction:rtl;line-height:300%;\">\n",
    "\t<font face=\"B Nazanin\" size=5>\n",
    "\t\t<p></p>\n",
    "\t\t<hr>\n",
    "        <li>یک طوقه در راس 0 اضافه کنید. نمودار مقادیر pagerank را رسم کنید.</li>\n",
    "<br/>\n",
    "\t</font>\n",
    "</div>"
   ]
  },
  {
   "cell_type": "code",
   "execution_count": 8,
   "metadata": {
    "scrolled": true
   },
   "outputs": [
    {
     "data": {
      "image/png": "[encoded data removed]",
      "text/plain": [
       "<Figure size 720x360 with 1 Axes>"
      ]
     },
     "metadata": {
      "needs_background": "light"
     },
     "output_type": "display_data"
    }
   ],
   "source": [
    "G_threeprime = G.copy()\n",
    "G_threeprime.add_edge(0, 0)\n",
    "\n",
    "w = nx.pagerank(G_threeprime)\n",
    "\n",
    "G_threeprime_nodes = list(w.keys())\n",
    "G_threeprime_p_rs = list(w.values())\n",
    "\n",
    "fig = plt.figure(figsize = (10, 5))\n",
    "plt.bar(G_threeprime_nodes, G_threeprime_p_rs, color = \"maroon\", width = 0.4)\n",
    "plt.xlabel(\"vertice id\")\n",
    "plt.ylabel(\"pagerank\")\n",
    "plt.show()"
   ]
  },
  {
   "cell_type": "markdown",
   "metadata": {},
   "source": [
    "<p></p>\n",
    "<br/>\n",
    "<div id=\"sec_1\" style=\"direction:rtl;line-height:300%;\">\n",
    "\t<font face=\"B Nazanin\" size=5>\n",
    "\t\t<p></p>\n",
    "\t\t<hr>\n",
    "چه تغییری در مقادیر pagerank مشاهده می‌کنید؟</li>\n",
    "<br/>\n",
    "\t</font>\n",
    "</div>"
   ]
  },
  {
   "cell_type": "markdown",
   "metadata": {},
   "source": [
    "### Answer here!\n",
    "<p></p>\n",
    "<br/>\n",
    "<div id=\"sec_1\" style=\"direction:rtl;line-height:300%;\">\n",
    "\t<font face=\"B Nazanin\" size=5>\n",
    "اینجا بنویسید...</li>\n",
    "<br/>\n",
    "\t</font>\n",
    "</div>"
   ]
  },
  {
   "cell_type": "markdown",
   "metadata": {},
   "source": [
    "<p></p>\n",
    "<br />\n",
    "<div id=\"2nd\" style=\"direction:rtl;line-height:300%;\">\n",
    "\t<font face=\"B Nazanin\" size=5>\n",
    "\t\t<font color=#FF7500 size=6>\n",
    "پیاده‌سازی الگوریتم Metropolis-Hastings\n",
    "        </font>\n",
    "\t\t<p></p>\n",
    "\t\t<hr>\n",
    "\t</font>\n",
    "</div>"
   ]
  },
  {
   "cell_type": "markdown",
   "metadata": {},
   "source": [
    "<h2 style='direction:rtl; text-align: right'>\n",
    "<font face=\"B Nazanin\" size=5>\n",
    "پیاده‌سازی تابع $\\pi$ \n",
    "</h2>\n",
    "<p style='direction:rtl; text-align: right'><font face=\"B Nazanin\" size=5>\n",
    "این تابع توزیعی است که قصد شبیه‌سازی آن را داریم:\n",
    "    <ul style='direction:rtl; text-align: right'>\n",
    "        <font face=\"B Nazanin\" size=5>\n",
    "        <li>ورودی های این تابع x و V هستند.</li>\n",
    "        <li>بردار V بردار انتقال است. در حالت پیش فرض همان ماتریس همانی در نظر گرفته می‌شود.</li>\n",
    "        <li>خروجی تابع باید مقدار زیر باشد(توزیع گوسی):\n",
    "        <ul style='direction:rtl; text-align: right'>\n",
    "            $e^{-\\frac{1}{2}xVx}$\n",
    "        </ul>\n",
    "        </li>\n",
    "        </ul>\n",
    "</p>"
   ]
  },
  {
   "cell_type": "code",
   "execution_count": null,
   "metadata": {},
   "outputs": [],
   "source": [
    "def pi(x,V):\n",
    "    '''\n",
    "    x -- np array of size k\n",
    "    V -- np array of size k*k\n",
    "    '''\n",
    "    return np.exp(-.5*np.dot(x,np.dot(V,x)))"
   ]
  },
  {
   "cell_type": "markdown",
   "metadata": {},
   "source": [
    "<h2 style='direction:rtl; text-align: right'><font face=\"B Nazanin\" size=5>\n",
    "پیاده‌سازی تابع random proposition \n",
    "</h2>\n",
    "<p style='direction:rtl; text-align: right'><font face=\"B Nazanin\" size=5>\n",
    "    <ul style='direction:rtl; text-align: right'><font face=\"B Nazanin\" size=5>\n",
    "        <li>در این تابع مقدار random proposition محاسبه می‌شود.</li>\n",
    "        <li>خروجی تابع باید مقدار زیر باشد:\n",
    "        <ul style='direction:rtl; text-align: right'>\n",
    "            $x+normal\\_distribution$\n",
    "        </ul>\n",
    "        </li>\n",
    "        </ul>\n",
    "</p>"
   ]
  },
  {
   "cell_type": "code",
   "execution_count": null,
   "metadata": {},
   "outputs": [],
   "source": [
    "def prop(x):\n",
    "    '''\n",
    "    Random proposition for the Metropolis-Hastings algorithm.\n",
    "    Uses the Random Walk Metropolis formula with unit variance.\n",
    "    \n",
    "    x -- np array of size k\n",
    "    '''\n",
    "    return x + np.random.normal(size=len(x))"
   ]
  },
  {
   "cell_type": "markdown",
   "metadata": {},
   "source": [
    "<h2 style='direction:rtl; text-align: right'><font face=\"B Nazanin\" size=5>\n",
    "پیاده سازی تابع transition probability \n",
    "</h2>\n",
    "<p style='direction:rtl; text-align: right'><font face=\"B Nazanin\" size=5>\n",
    "    <ul style='direction:rtl; text-align: right'>\n",
    "        <li>transition probability از توزیع گوسی هستند.</li>\n",
    "        <li>خروجی تابع باید مقدار زیر باشد:\n",
    "        <ul style='direction:rtl; text-align: right'>\n",
    "            $e^{-\\frac{1}{2}(X-Y)^2}$\n",
    "        </ul>\n",
    "        </li>\n",
    "        </ul>\n",
    "</p>"
   ]
  },
  {
   "cell_type": "code",
   "execution_count": null,
   "metadata": {},
   "outputs": [],
   "source": [
    "def q(x,y):\n",
    "    '''\n",
    "    Probability density of transition x to y, up to a constant.\n",
    "    Uses the Random Walk Metropolis formula with unit variance.\n",
    "    \n",
    "    x -- np array of size k\n",
    "    y -- np array of size k\n",
    "    '''\n",
    "    dist = x-y\n",
    "    return np.exp(-.5*np.dot(dist,dist))"
   ]
  },
  {
   "cell_type": "markdown",
   "metadata": {},
   "source": [
    "<h2 style='direction:rtl; text-align: right'><font face=\"B Nazanin\" size=5>\n",
    "نمایش توزیع  \n",
    "</h2>\n",
    "<p style='direction:rtl; text-align: right'><font face=\"B Nazanin\" size=5>\n",
    "    <ul style='direction:rtl; text-align: right'><font face=\"B Nazanin\" size=5>\n",
    "        <li>ابتدا ماتریس انتقال همانی را بسازید و در متغیر V بریزید.(در ادامه به این قسمت برگردید و ماتریس‌های مختلف را تست کنید)</li>\n",
    "        <li>با استفاده از تابع np.arange محور های x , y را بسازید به صورتی که از 3- تا 3 و با استپ 1. باشند.\n",
    "        </li>\n",
    "        <li>با استفاده از تابع np.meshgrid صفحه مختصات را تولید کنید و در متغیر های X و Y ذخیره کنید. توجه کنید که در این تابع از متغیر های x و y که در قسمت قبل تولید کردید استفاده می شود.\n",
    "        </li>\n",
    "        <li>با استفاده از تابع احتمال تعریف شده در بالا فراوانی هر نقطه در صفحه مختصات را که در متغیر X و Y ذخیره کرده بودید را بدست بیاورید و در متغیر Z ذخیره کنید.\n",
    "        </li>\n",
    "        <li>با استفاده از تابع plt.contour نمودار را نمایش دهید. ورودی ها به ترتیب X و Y و Z هستند.\n",
    "        </li>\n",
    "        </ul>\n",
    "</p>"
   ]
  },
  {
   "cell_type": "code",
   "execution_count": null,
   "metadata": {},
   "outputs": [],
   "source": [
    "V = np.array([[1,0],[0,1]])\n",
    "x = np.arange(-3.0, 3.0, 0.1)\n",
    "y = np.arange(-3.0, 3.0, 0.1)\n",
    "X, Y = np.meshgrid(x, y)\n",
    "Z = np.array([[pi(np.array([X[i,j],Y[i,j]]),V=V) for j in range(len(X[0]))] for i in range(len(X))])\n",
    "fig1 = plt.figure()\n",
    "CS = plt.contour(X, Y, Z)\n",
    "plt.clabel(CS, inline=1, fontsize=10);"
   ]
  },
  {
   "cell_type": "markdown",
   "metadata": {},
   "source": [
    "<h2 style='direction:rtl; text-align: right'><font face=\"B Nazanin\" size=5>\n",
    "پیاده سازی تابع Metropolis-Hastings   \n",
    "</h2>\n",
    "<p style='direction:rtl; text-align: right'><font face=\"B Nazanin\" size=5>\n",
    "    <ul style='direction:rtl; text-align: right'><font face=\"B Nazanin\" size=5>\n",
    "        <li>از نقطه ۰و۰ در صفحه مختصات شروع میکنیم.</li>\n",
    "        <li>مقدار prop نقطه را حساب می‌کنیم.  حاصل برابر نقطه جدید است.\n",
    "        </li>\n",
    "        <li>سپس نرخ جابه‌جایی را توسط رابطه زیر حساب می‌کنیم:\n",
    "            <ul style='direction:rtl; text-align: right'>\n",
    "                <li>$\\frac{\\pi(y)*q(x,y)}{\\pi(x)*q(y,x)}$</li></ul>\n",
    "            </li>\n",
    "        <li>عدد تصادفی r را تولید کرده و با نرخ جابه‌جایی مقایسه کنید. در صورتی که عدد تصادفی از نرخ کمتر بود جابه جایی انجام میشود. در نتیجه نقطه جدید را جایگزین نقطه قبلی کنید و روند را ادامه دهید.\n",
    "        </li>\n",
    "        <li>نقاط بدست آمده را ذخیره کنید و در انتها به عنوان خروجی تابع استفاده کنید.\n",
    "        </li>\n",
    "        </ul>\n",
    "</p>"
   ]
  },
  {
   "cell_type": "code",
   "execution_count": null,
   "metadata": {},
   "outputs": [],
   "source": [
    "def MH(iteration,pi,q,prop,x0=np.zeros(2),V=np.identity(2)):\n",
    "    x = x0\n",
    "    trajectory = [x0]\n",
    "    for i in range(1,iteration):\n",
    "        y = prop(x)\n",
    "        ratio = pi(y,V)*q(x,y)/pi(x,V)/q(y,x)\n",
    "        a = np.min([1.,ratio])\n",
    "        r = np.random.rand()\n",
    "        if r < a:\n",
    "            x = y\n",
    "        trajectory.append(x)\n",
    "    return np.array(trajectory)"
   ]
  },
  {
   "cell_type": "markdown",
   "metadata": {},
   "source": [
    "<h2 style='direction:rtl; text-align: right'><font face=\"B Nazanin\" size=5>\n",
    "نمایش توزیع شبیه سازی شده  \n",
    "</h2>\n"
   ]
  },
  {
   "cell_type": "code",
   "execution_count": null,
   "metadata": {},
   "outputs": [],
   "source": [
    "traj = MH(10000,pi,q,prop,V=V)"
   ]
  },
  {
   "cell_type": "code",
   "execution_count": null,
   "metadata": {},
   "outputs": [],
   "source": [
    "def start_scatter_first(trajectory):\n",
    "    fig = plt.figure()\n",
    "    lim = np.max(np.abs(trajectory[:,]))\n",
    "    plt.xlim((-lim, lim))\n",
    "    plt.ylim((-lim, lim))\n",
    "    plt.scatter(trajectory[:1,0],trajectory[:1,1],alpha=.5,label='Markov Chain')\n",
    "    plt.legend(loc='best')\n",
    "    plt.show()\n",
    "    return fig\n",
    "\n",
    "fig2 = start_scatter_first(traj)\n",
    "\n",
    "def update_scatter_first(n,trajectory,figure):\n",
    "    t = trajectory[:n]\n",
    "    plt.figure(figure.number)\n",
    "    pc1, = figure.axes[0].collections\n",
    "    pc1.set_offsets(t)\n",
    "    \n",
    "def update_length_first(value):\n",
    "    update_scatter_first(n=value['new'],trajectory=traj,figure=fig2)\n",
    "    \n",
    "slider_first = widgets.IntSlider(min=0,max=10000,step=1)\n",
    "display(slider_first)\n",
    "slider_first.observe(update_length_first,names='value')\n",
    "def incrementSlider(b):\n",
    "    slider_first.value += 1\n",
    "advanceButton = widgets.Button(value=False,description='Advance')\n",
    "display(advanceButton)\n",
    "advanceButton.on_click(incrementSlider)"
   ]
  }
 ],
 "metadata": {
  "kernelspec": {
   "display_name": "Python 3",
   "language": "python",
   "name": "python3"
  },
  "language_info": {
   "codemirror_mode": {
    "name": "ipython",
    "version": 3
   },
   "file_extension": ".py",
   "mimetype": "text/x-python",
   "name": "python",
   "nbconvert_exporter": "python",
   "pygments_lexer": "ipython3",
   "version": "3.8.5"
  }
 },
 "nbformat": 4,
 "nbformat_minor": 4
}
