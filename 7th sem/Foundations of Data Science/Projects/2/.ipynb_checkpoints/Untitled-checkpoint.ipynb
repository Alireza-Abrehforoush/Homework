{
 "cells": [
  {
   "cell_type": "markdown",
   "metadata": {},
   "source": [
    "<div style=\"direction:rtl;line-height:300%;\">\n",
    "\t<font face=\"B Nazanin\" size=5>\n",
    "\t\t<div align=center>\n",
    "\t\t\t<font face=\"IranNastaliq\" size=30>\n",
    "\t\t\t\t<p></p>\n",
    "\t\t\t\t<p></p>\n",
    "به نام خدا\n",
    "\t\t\t\t<p></p>\n",
    "\t\t\t</font>\n",
    "\t\t\t<font color=#FF7500>\n",
    "دانشگاه صنعتی اصفهان - دانشکده علوم ریاضی\n",
    "            </font>\n",
    "\t\t\t<p></p>\n",
    "\t\t\t<font color=blue>\n",
    "مبانی ریاضی علوم داده\n",
    "            </font>\n",
    "\t\t\t<br />\n",
    "\t\t\t<br />\n",
    "پاییز ۱۴۰۱\n",
    "\t\t</div>\n",
    "\t\t<hr/>\n",
    "\t\t<font color=red size=6>\n",
    "\t\t\t<br />\n",
    "\t\t\t<div align=center>\t\n",
    "مینی‌پروژه‌ی ۱ (فضای ابعاد بالا)\n",
    "            </div>\n",
    "\t\t</font>\n",
    "\t\t<br />\n",
    "\t\t<hr />\n",
    "\t\t<style type=\"text/css\" scoped>\n",
    "        p{\n",
    "        border: 1px solid #a2a9b1;background-color: #f8f9fa;display: inline-block;\n",
    "        };\n",
    "        </style>\n",
    "\t\t<div>\n",
    "\t\t\t<h3>فهرست مطالب</h3>\n",
    "\t\t\t<ul style=\"margin-right: 0;\">\n",
    "                <li>\n",
    "\t\t\t\t\t<a href=\"#1st_observation\">\n",
    "                        مشاهده‌ی اول\n",
    "                    </a>\n",
    "\t\t\t\t</li>\n",
    "                <li>\n",
    "\t\t\t\t\t<a href=\"#2nd_observation\">\n",
    "                        مشاهده‌ی دوم\n",
    "                    </a>\n",
    "\t\t\t\t</li>\n",
    "                <li>\n",
    "\t\t\t\t\t<a href=\"#3rd_observation\">\n",
    "                       مشاهده‌ی سوم\n",
    "                    </a>\n",
    "\t\t\t\t</li>\n",
    "                <li>\n",
    "\t\t\t\t\t<a href=\"#gaussian_annulus_theorem\">\n",
    "                        قضیه‌ی حلقه گوسی\n",
    "                    </a>\n",
    "\t\t\t\t</li>\n",
    "                <li>\n",
    "\t\t\t\t\t<a href=\"#separating_gaussians\">\n",
    "                       تفکیک توزیع‌های گوسی\n",
    "                    </a>\n",
    "\t\t\t\t</li>\n",
    "                <li>\n",
    "\t\t\t\t\t<a href=\"#random_projection\">\n",
    "                        Random Projection\n",
    "                    </a>\n",
    "\t\t\t\t</li>\n",
    "\t\t\t</ul>\n",
    "\t\t</div>\n",
    "\t</font>\n",
    "</div>"
   ]
  },
  {
   "cell_type": "markdown",
   "metadata": {},
   "source": [
    "<p></p>\n",
    "<br />\n",
    "<div id=\"1st_observation\" style=\"direction:rtl;line-height:300%;\">\n",
    "\t<font face=\"B Nazanin\" size=5>\n",
    "\t\t<font color=#FF7500 size=6>\n",
    "مشاهده‌ی اول\n",
    "        </font>\n",
    "\t\t<p></p>\n",
    "\t\t<hr>\n",
    "حجم پوسته‌ی کره‌ی $d$ بعدی به ضخامت $\\frac{c}{d}$ حداقل $1-e^{-c}$ از حجم کل کره است. به عبارتی دیگر در ابعاد بالا تقریبا همه‌ی حجم کره روی پوسته‌ی آن قرار گرفته است.\n",
    "<br/>\n",
    "هدف این بخش درک بهتر قضیه‌ی بالا به کمک شبیه‌سازی آن است.\n",
    "<br/><br/>\n",
    "\t</font>\n",
    "</div>"
   ]
  },
  {
   "cell_type": "markdown",
   "metadata": {},
   "source": [
    "<p></p>\n",
    "<br/>\n",
    "<div id=\"sec_1\" style=\"direction:rtl;line-height:300%;\">\n",
    "\t<font face=\"B Nazanin\" size=5>\n",
    "\t\t<p></p>\n",
    "\t\t<hr>\n",
    "        ابتدا باید ماژول‌های زیر را \"import\" کنیم:\n",
    "        <li>numpy: برای کار با ماتریس‌ها</li>\n",
    "        <li>matplotlib: برای رسم نمودار</li>\n",
    "        <li>sqrt: ریشه‌ی دوم</li>\n",
    "<br/>\n",
    "\t</font>\n",
    "</div>"
   ]
  },
  {
   "cell_type": "code",
   "execution_count": 3,
   "metadata": {},
   "outputs": [],
   "source": [
    "######## Code here!\n",
    "\n",
    "\n"
   ]
  },
  {
   "cell_type": "markdown",
   "metadata": {},
   "source": [
    "<p></p>\n",
    "<br/>\n",
    "<div id=\"sec_1\" style=\"direction:rtl;line-height:300%;\">\n",
    "\t<font face=\"B Nazanin\" size=5>\n",
    "\t\t<p></p>\n",
    "\t\t<hr>\n",
    "در اینجا چند تابع ضروری را تعریف می‌کنیم:\n",
    "<br/>\n",
    "\t</font>\n",
    "</div>"
   ]
  },
  {
   "cell_type": "markdown",
   "metadata": {},
   "source": [
    "<p></p>\n",
    "<br/>\n",
    "<div id=\"sec_1\" style=\"direction:rtl;line-height:300%;\">\n",
    "\t<font face=\"B Nazanin\" size=5>\n",
    "\t\t<p></p>\n",
    "\t\t<hr>\n",
    "        <li>تابعِ محاسبه‌ی نُرم ($\\|x\\| = \\sqrt{\\sum_{i=1}^{dim} x_i^2}$)</li>\n",
    "<br/>\n",
    "        در این قسمت تابعِ getNorm را با ۱ پارمتر ورودی (که همان برداری است که می‌خواهیم نُرمش را حساب کنیم) تعریف می‌کنیم. در انتها مقدار نُرم را return کنید.\n",
    "\t</font>\n",
    "</div>"
   ]
  },
  {
   "cell_type": "code",
   "execution_count": 9,
   "metadata": {},
   "outputs": [],
   "source": [
    "######## Code here!\n",
    "\n",
    "\n"
   ]
  },
  {
   "cell_type": "markdown",
   "metadata": {},
   "source": [
    "<p></p>\n",
    "<br/>\n",
    "<div id=\"sec_1\" style=\"direction:rtl;line-height:300%;\">\n",
    "\t<font face=\"B Nazanin\" size=5>\n",
    "\t\t<p></p>\n",
    "\t\t<hr>\n",
    "        <li>تابعِ محاسبه‌ی ضرب داخلی</li>\n",
    "<br/>\n",
    "        در این قسمت تابعِ getInnerProduct را با ۲ پارامتر ورودی (که همان بردارهایی هستند که می‌خواهیم ضرب داخلی‌شان را محاسبه کنیم) تعریف می‌کنیم. در انتها مقدار ضرب داخلی را return کنید.\n",
    "\t</font>\n",
    "</div>"
   ]
  },
  {
   "cell_type": "code",
   "execution_count": 10,
   "metadata": {},
   "outputs": [],
   "source": [
    "######## Code here!\n",
    "\n",
    "\n"
   ]
  },
  {
   "cell_type": "markdown",
   "metadata": {},
   "source": [
    "<p></p>\n",
    "<br/>\n",
    "<div id=\"sec_1\" style=\"direction:rtl;line-height:300%;\">\n",
    "\t<font face=\"B Nazanin\" size=5>\n",
    "\t\t<p></p>\n",
    "\t\t<hr>\n",
    "        <li>تابعِ محاسبه‌ی زاویه‌ی بین دو بردار</li>\n",
    "<br/>\n",
    "        در این قسمت تابعِ getAngle را با ۲ پارامتر ورودی (که همان بردارهایی هستند که می‌خواهیم زاویه‌ی بینشان را محاسبه کنیم) تعریف می‌کنیم. در انتها مقدار زاویه را return کنید.\n",
    "\t</font>\n",
    "</div>"
   ]
  },
  {
   "cell_type": "code",
   "execution_count": 11,
   "metadata": {},
   "outputs": [],
   "source": [
    "######## Code here!\n",
    "\n",
    "\n"
   ]
  },
  {
   "cell_type": "markdown",
   "metadata": {},
   "source": [
    "<p></p>\n",
    "<br/>\n",
    "<div id=\"sec_1\" style=\"direction:rtl;line-height:300%;\">\n",
    "\t<font face=\"B Nazanin\" size=5>\n",
    "\t\t<p></p>\n",
    "\t\t<hr>\n",
    "در این بخش به بردارهای تصادفی در گوی یکه می‌پردازیم. هدف این بخش دیدن این نکته است که در ابعاد بالا بردارهای تصادفی درون گوی یکه تقریبا یکه و متعامدند. برای این منظور طبق الگوریتمی که در کلاس بیان شد عمل می‌کنیم.\n",
    "        <li>۱۰۰ بردار تصادفی ۱۰۰۰ بعدی از توزیع نرمال با میانگین صفر و انحراف معیار یک بسازید. برای تولید بردارها از تابع np.random.normal استفاده کنید.</li> \n",
    "        <li>سپس بردارها را به طولشان تقسیم کنید تا یکه شوند.</li> \n",
    "        <li>با استفاده از دستور np.random.rand \n",
    "صد عدد تصادفی بین صفر و یک ایجاد کنید. اعداد بدست آمده را به توان $\\frac{1}{1000}$ برسانید و در بردارهای قسمت قبل ضرب کنید. حاصل ۱۰۰ بردار تصادفی درون گوی یکه است.</li>\n",
    "<br/>\n",
    "\t</font>\n",
    "</div>"
   ]
  },
  {
   "cell_type": "code",
   "execution_count": 12,
   "metadata": {},
   "outputs": [],
   "source": [
    "######## Code here!\n",
    "\n",
    "\n"
   ]
  },
  {
   "cell_type": "markdown",
   "metadata": {},
   "source": [
    "<p></p>\n",
    "<br/>\n",
    "<div id=\"sec_1\" style=\"direction:rtl;line-height:300%;\">\n",
    "\t<font face=\"B Nazanin\" size=5>\n",
    "\t\t<p></p>\n",
    "\t\t<hr>\n",
    "میانگین و انحراف معیار طول بردارهای درون گوی یکه را پیدا کنید.</li>\n",
    "<br/>\n",
    "\t</font>\n",
    "</div>"
   ]
  },
  {
   "cell_type": "code",
   "execution_count": 13,
   "metadata": {},
   "outputs": [],
   "source": [
    "######## Code here!\n",
    "\n",
    "\n"
   ]
  },
  {
   "cell_type": "markdown",
   "metadata": {},
   "source": [
    "<p></p>\n",
    "<br/>\n",
    "<div id=\"sec_1\" style=\"direction:rtl;line-height:300%;\">\n",
    "\t<font face=\"B Nazanin\" size=5>\n",
    "\t\t<p></p>\n",
    "\t\t<hr>\n",
    "چه نتیجه‌ای می‌گیرید؟</li>\n",
    "<br/>\n",
    "\t</font>\n",
    "</div>"
   ]
  },
  {
   "cell_type": "markdown",
   "metadata": {},
   "source": [
    "### Answer here!\n",
    "<p></p>\n",
    "<br/>\n",
    "<div id=\"sec_1\" style=\"direction:rtl;line-height:300%;\">\n",
    "\t<font face=\"B Nazanin\" size=5>\n",
    "اینجا بنویسید...</li>\n",
    "<br/>\n",
    "\t</font>\n",
    "</div>"
   ]
  },
  {
   "cell_type": "markdown",
   "metadata": {},
   "source": [
    "<p></p>\n",
    "<br/>\n",
    "<div id=\"sec_1\" style=\"direction:rtl;line-height:300%;\">\n",
    "\t<font face=\"B Nazanin\" size=5>\n",
    "\t\t<p></p>\n",
    "\t\t<hr>\n",
    "30 نقطه‌ی تصادفی درون ابرمکعبِ یکه ($\\left[-\\frac{1}{2}, \\frac{1}{2}  \\right]^{100}$) تولید کنید. سپس فاصله‌ی بین دو به دوی نقاط و زاویه‌ی بین دو به دوی بردارهای از مبدا به این نقاط را رسم کنید.</li>\n",
    "<br/>\n",
    "\t</font>\n",
    "</div>"
   ]
  },
  {
   "cell_type": "code",
   "execution_count": null,
   "metadata": {},
   "outputs": [],
   "source": [
    "######## Code here!\n",
    "\n",
    "\n"
   ]
  },
  {
   "cell_type": "markdown",
   "metadata": {},
   "source": [
    "<p></p>\n",
    "<br/>\n",
    "<div id=\"sec_1\" style=\"direction:rtl;line-height:300%;\">\n",
    "\t<font face=\"B Nazanin\" size=5>\n",
    "\t\t<p></p>\n",
    "\t\t<hr>\n",
    "چه نتیجه‌ای می‌گیرید؟</li>\n",
    "<br/>\n",
    "\t</font>\n",
    "</div>"
   ]
  },
  {
   "cell_type": "markdown",
   "metadata": {},
   "source": [
    "### Answer here!\n",
    "<p></p>\n",
    "<br/>\n",
    "<div id=\"sec_1\" style=\"direction:rtl;line-height:300%;\">\n",
    "\t<font face=\"B Nazanin\" size=5>\n",
    "اینجا بنویسید...</li>\n",
    "<br/>\n",
    "\t</font>\n",
    "</div>"
   ]
  },
  {
   "cell_type": "markdown",
   "metadata": {},
   "source": [
    "<p></p>\n",
    "<br />\n",
    "<div id=\"2nd_observation\" style=\"direction:rtl;line-height:300%;\">\n",
    "\t<font face=\"B Nazanin\" size=5>\n",
    "\t\t<font color=#FF7500 size=6>\n",
    "مشاهده‌ی دوم\n",
    "        </font>\n",
    "\t\t<p></p>\n",
    "\t\t<hr>\n",
    "حجم نوار استوا به ضخامت $\\frac{c}{\\sqrt{d-1}}$ حداقل $1-\\frac{2}{c}e^{-\\frac{c^2}{2}}$ از حجم کل کره است.\n",
    "<br/>\n",
    "هدف این بخش درک بهتر قضیه‌ی بالا به کمک شبیه‌سازی آن است.\n",
    "<br/><br/>\n",
    "\t</font>\n",
    "</div>"
   ]
  },
  {
   "cell_type": "markdown",
   "metadata": {},
   "source": [
    "<p></p>\n",
    "<br/>\n",
    "<div id=\"sec_1\" style=\"direction:rtl;line-height:300%;\">\n",
    "\t<font face=\"B Nazanin\" size=5>\n",
    "\t\t<p></p>\n",
    "\t\t<hr>\n",
    "ضرب داخلی دو‌به‌دوی بردارهای درون گوی یکه (که در قسمت قبل به دست آمد) را بدست آورید و سپس میانگین و انحراف معیار این اعداد را پیدا کنید.</li>\n",
    "<br/>\n",
    "\t</font>\n",
    "</div>"
   ]
  },
  {
   "cell_type": "code",
   "execution_count": 14,
   "metadata": {},
   "outputs": [],
   "source": [
    "######## Code here!\n",
    "\n",
    "\n"
   ]
  },
  {
   "cell_type": "markdown",
   "metadata": {},
   "source": [
    "<p></p>\n",
    "<br/>\n",
    "<div id=\"sec_1\" style=\"direction:rtl;line-height:300%;\">\n",
    "\t<font face=\"B Nazanin\" size=5>\n",
    "\t\t<p></p>\n",
    "\t\t<hr>\n",
    "چه نتیجه‌ای می‌گیرید؟</li>\n",
    "<br/>\n",
    "\t</font>\n",
    "</div>"
   ]
  },
  {
   "cell_type": "markdown",
   "metadata": {},
   "source": [
    "### Answer here!\n",
    "<p></p>\n",
    "<br/>\n",
    "<div id=\"sec_1\" style=\"direction:rtl;line-height:300%;\">\n",
    "\t<font face=\"B Nazanin\" size=5>\n",
    "اینجا بنویسید...</li>\n",
    "<br/>\n",
    "\t</font>\n",
    "</div>"
   ]
  },
  {
   "cell_type": "markdown",
   "metadata": {},
   "source": [
    "<p></p>\n",
    "<br/>\n",
    "<div id=\"sec_1\" style=\"direction:rtl;line-height:300%;\">\n",
    "\t<font face=\"B Nazanin\" size=5>\n",
    "\t\t<p></p>\n",
    "\t\t<hr>\n",
    "۵۰۰ نقطه تصادفی روی گوی یکه ۵۰ بعدی تولید کنید. سپس ۵ نقطه تصادفی دیگر روی این گوی یکه تولید کنید. فرض کنید هر یک از این ۵ نقطه قطب شمال هستند و برای هر کدام یک نوار نزدیک استوا به ضخامت $\\frac{c}{\\sqrt{50-1}}$ در نظر بگیرید. به ازای $c$های از 1 تا 5 حساب کنید چند درصد از آن ۵۰۰ نقطه در هر کدام از این ۵ نوار قرار دارند.</li>\n",
    "<br/>\n",
    "\t</font>\n",
    "</div>"
   ]
  },
  {
   "cell_type": "code",
   "execution_count": 15,
   "metadata": {},
   "outputs": [],
   "source": [
    "######## Code here!\n",
    "\n",
    "\n"
   ]
  },
  {
   "cell_type": "markdown",
   "metadata": {},
   "source": [
    "<p></p>\n",
    "<br />\n",
    "<div id=\"3rd_observation\" style=\"direction:rtl;line-height:300%;\">\n",
    "\t<font face=\"B Nazanin\" size=5>\n",
    "\t\t<font color=#FF7500 size=6>\n",
    "مشاهده‌ی سوم\n",
    "        </font>\n",
    "\t\t<p></p>\n",
    "\t\t<hr>\n",
    "حجم اشتراک مکعب به ضلع $k\\sqrt{\\frac{\\ln d}{d-1}}$ به مرکز مبدا با گوی واحد حداقل $1-\\frac{2}{k\\sqrt{d^{k^{2}-2}\\ln d}}$ حجم کره است.\n",
    "<br/>\n",
    "هدف این بخش درک بهتر قضیه‌ی بالا به کمک شبیه‌سازی آن است.\n",
    "<br/><br/>\n",
    "\t</font>\n",
    "</div>"
   ]
  },
  {
   "cell_type": "markdown",
   "metadata": {},
   "source": [
    "<p></p>\n",
    "<br/>\n",
    "<div id=\"sec_1\" style=\"direction:rtl;line-height:300%;\">\n",
    "\t<font face=\"B Nazanin\" size=5>\n",
    "\t\t<p></p>\n",
    "\t\t<hr>\n",
    "1000 بردار تصادفی 1000 بعدی درون گوی یکه (مشابه مشاهده اول) تولید کنید. بررسی کنید که چند درصد این بردارها درون ابرمکعب 1000 بعدی به مرکز مبدا مختصات و به ضلع $4\\sqrt{\\frac{\\ln 1000}{1000-1}}$ قرار دارد (برای بررسی اینکه آیا یک بردار در ابرمکعب $d$ بعدی به مرکز مبدا مختصات و ضلع $2k\\sqrt{\\frac{\\ln d}{d-1}}$ قرار دارد یا نه بررسی کنید که آیا همه مولفه‌هایش در بازه‌ی $\\left[ -k\\sqrt{\\frac{\\ln d}{d-1}}, +k\\sqrt{\\frac{\\ln d}{d-1}} \\right]$ قرار دارد یا نه).</li>\n",
    "<br/>\n",
    "\t</font>\n",
    "</div>"
   ]
  },
  {
   "cell_type": "code",
   "execution_count": 16,
   "metadata": {},
   "outputs": [],
   "source": [
    "######## Code here!\n",
    "\n",
    "\n"
   ]
  },
  {
   "cell_type": "markdown",
   "metadata": {},
   "source": [
    "<p></p>\n",
    "<br/>\n",
    "<div id=\"sec_1\" style=\"direction:rtl;line-height:300%;\">\n",
    "\t<font face=\"B Nazanin\" size=5>\n",
    "\t\t<p></p>\n",
    "\t\t<hr>\n",
    "در این قسمت قصد داریم با تغییر $k$، تغییراتِ درصدِ بردارهایی که در ابرمکعب قرار می‌گیرند را مشاهده کنیم. \n",
    "به ازای $k \\in \\left( 0, \\sqrt{\\frac{d-1}{4\\ln d}} \\right]$ با دقت $0.1$ (یک حلقه روی بازه‌ی مذکور بزنید و $k$ را یک دهم یک دهم افزایش دهید)، حساب کنید که چند درصد از بردارها درون ابرمکعب قرار دارند. اعداد به دست آمده را در یک لیست بریزید و در نهایت نمودار را به ازای مقادیر $k$ و درصدهای به دست آمده رسم کنید.</li>\n",
    "<br/>\n",
    "\t</font>\n",
    "</div>"
   ]
  },
  {
   "cell_type": "code",
   "execution_count": 17,
   "metadata": {},
   "outputs": [],
   "source": [
    "######## Code here!\n",
    "\n",
    "\n"
   ]
  },
  {
   "cell_type": "markdown",
   "metadata": {},
   "source": [
    "<p></p>\n",
    "<br/>\n",
    "<div id=\"sec_1\" style=\"direction:rtl;line-height:300%;\">\n",
    "\t<font face=\"B Nazanin\" size=5>\n",
    "\t\t<p></p>\n",
    "\t\t<hr>\n",
    "این بار می‌خواهیم تغییرات درصدها را با توجه به تغییرات بعد بردارها مشاهده نماییم. برای این منظور این بار $k$ را ثابت و برابر با 2 قرار دهید و به ازای $d \\in \\left[10, 1000  \\right]$ با دقت 10 (یک حلقه روی بازه‌ی مذکور بزنید و $d$ را ده تا ده تا زیاد کنید)  هر بار بردارهای $d$ بعدی درون گوی یکه را تولید کنید سپس حساب کنید که چند درصد از بردارها درون ابرمکعب قرار دارند. اعداد به دست آمده را در یک لیست بریزید و در نهایت نمودار را به ازای مقادیر مختلف $d$ و درصدهای به دست آمده رسم کنید. \n",
    "        </li>\n",
    "<br/>\n",
    "\t</font>\n",
    "</div>"
   ]
  },
  {
   "cell_type": "code",
   "execution_count": 20,
   "metadata": {},
   "outputs": [],
   "source": [
    "######## Code here!\n",
    "\n",
    "\n"
   ]
  },
  {
   "cell_type": "markdown",
   "metadata": {},
   "source": [
    "<p></p>\n",
    "<br />\n",
    "<div id=\"gaussian_annulus_theorem\" style=\"direction:rtl;line-height:300%;\">\n",
    "\t<font face=\"B Nazanin\" size=5>\n",
    "\t\t<font color=#FF7500 size=6>\n",
    "قضیه‌ی حلقه گوسی\n",
    "        </font>\n",
    "\t\t<p></p>\n",
    "\t\t<hr>\n",
    "اگر $x \\sim N^d(0,1)$ و $0 \\lt \\beta \\lt \\sqrt{d}$ آنگاه داریم: $Pr\\left( \\left| \\left\\| x \\right\\| -\\sqrt{d} \\right| \\gt \\beta \\right) \\le  3e^{-\\frac{\\beta^2}{96}}$\n",
    "<br/>\n",
    "هدف این بخش درک بهتر قضیه‌ی بالا به کمک شبیه‌سازی آن است.\n",
    "<br/><br/>\n",
    "\t</font>\n",
    "</div>"
   ]
  },
  {
   "cell_type": "markdown",
   "metadata": {},
   "source": [
    "<p></p>\n",
    "<br/>\n",
    "<div id=\"sec_1\" style=\"direction:rtl;line-height:300%;\">\n",
    "\t<font face=\"B Nazanin\" size=5>\n",
    "\t\t<p></p>\n",
    "\t\t<hr>\n",
    "در این قسمت می‌خواهیم با تغییر $\\beta$، ِتغییراتِ درصدِ بردارهایی که در گوی به شعاع $\\sqrt{d}$ قرار می‌گیرند را مشاهده کنیم. برای این منظور مراحل زیر را انجام دهید:\n",
    "        <p style='direction:rtl; text-align: right'>\n",
    "    <ul style='direction:rtl; text-align: right'>\n",
    "        <font face=\"B Nazanin\" size=5>\n",
    "        <li>1000 بردار 1000 بعدی نرمال تولید کنید. به ازای $\\beta \\in \\left( 0, \\sqrt{d} \\right)$ با دقت $1$، درصدِ بردارهایی که خارج گوی به شعاع $\\sqrt{d} \\pm \\beta$ قرار می‌گیرند را حساب کنید و نمودار درصدها را برحسب $\\beta$ رسم نمایید.</li>\n",
    "    </ul>\n",
    "</p>\n",
    "\t</font>\n",
    "</div>\n",
    "        </li>\n",
    "<br/>\n",
    "\t</font>\n",
    "</div>"
   ]
  },
  {
   "cell_type": "code",
   "execution_count": 23,
   "metadata": {},
   "outputs": [],
   "source": [
    "######## Code here!\n",
    "\n",
    "\n"
   ]
  },
  {
   "cell_type": "markdown",
   "metadata": {},
   "source": [
    "<p></p>\n",
    "<br/>\n",
    "<div id=\"sec_1\" style=\"direction:rtl;line-height:300%;\">\n",
    "\t<font face=\"B Nazanin\" size=5>\n",
    "\t\t<p></p>\n",
    "\t\t<hr>\n",
    "چه نتیجه‌ای می‌گیرید؟</li>\n",
    "<br/>\n",
    "\t</font>\n",
    "</div>"
   ]
  },
  {
   "cell_type": "markdown",
   "metadata": {},
   "source": [
    "### Answer here!\n",
    "<p></p>\n",
    "<br/>\n",
    "<div id=\"sec_1\" style=\"direction:rtl;line-height:300%;\">\n",
    "\t<font face=\"B Nazanin\" size=5>\n",
    "اینجا بنویسید...</li>\n",
    "<br/>\n",
    "\t</font>\n",
    "</div>"
   ]
  },
  {
   "cell_type": "markdown",
   "metadata": {},
   "source": [
    "<p></p>\n",
    "<br />\n",
    "<div id=\"separating_gaussians\" style=\"direction:rtl;line-height:300%;\">\n",
    "\t<font face=\"B Nazanin\" size=5>\n",
    "\t\t<font color=#FF7500 size=6>\n",
    "تفکیک توزیع‌های گوسی\n",
    "        </font>\n",
    "\t\t<p></p>\n",
    "\t\t<hr>\n",
    "<br/>\n",
    "هدف این بخش دسته بندی کردن نقاط و نسبت دادن آن‌ها به توزیع گوسی مربوط به خود می‌باشد.\n",
    "<br/><br/>\n",
    "\t</font>\n",
    "</div>"
   ]
  },
  {
   "cell_type": "markdown",
   "metadata": {},
   "source": [
    "<p></p>\n",
    "<br/>\n",
    "<div id=\"sec_1\" style=\"direction:rtl;line-height:300%;\">\n",
    "\t<font face=\"B Nazanin\" size=5>\n",
    "\t\t<p></p>\n",
    "\t\t<hr>\n",
    "برای این منظور مراحل زیر را انجام دهید:\n",
    "        <p style='direction:rtl; text-align: right'>\n",
    "    <ul style='direction:rtl; text-align: right'>\n",
    "        <font face=\"B Nazanin\" size=5>\n",
    "        <li>تولید m بردار از توزیع نرمال با میانگین ۰ و انحراف معیار ۱ با بعد d</li>\n",
    "    </ul>\n",
    "</p>\n",
    "\t</font>\n",
    "</div>\n",
    "        </li>\n",
    "<br/>\n",
    "\t</font>\n",
    "</div>"
   ]
  },
  {
   "cell_type": "code",
   "execution_count": null,
   "metadata": {},
   "outputs": [],
   "source": [
    "m = 10\n",
    "d = 3000\n",
    "######## Code here!\n",
    "x = \n",
    "########\n",
    "print(x.shape)"
   ]
  },
  {
   "cell_type": "markdown",
   "metadata": {},
   "source": [
    "<p style='direction:rtl; text-align: right'>\n",
    "    <ul style='direction:rtl; text-align: right'>\n",
    "        <font face=\"B Nazanin\" size=5>\n",
    "        <li> تولید m بردار از توزیع نرمال با میانگین بردار ثابت 1 و انحراف معیار ۱ با بعد d</li>\n",
    "    </ul>\n",
    "</p>\n",
    "\t</font>"
   ]
  },
  {
   "cell_type": "code",
   "execution_count": 24,
   "metadata": {},
   "outputs": [
    {
     "ename": "SyntaxError",
     "evalue": "invalid syntax (<ipython-input-24-644b2bd4fd21>, line 2)",
     "output_type": "error",
     "traceback": [
      "\u001b[1;36m  File \u001b[1;32m\"<ipython-input-24-644b2bd4fd21>\"\u001b[1;36m, line \u001b[1;32m2\u001b[0m\n\u001b[1;33m    y =\u001b[0m\n\u001b[1;37m        ^\u001b[0m\n\u001b[1;31mSyntaxError\u001b[0m\u001b[1;31m:\u001b[0m invalid syntax\n"
     ]
    }
   ],
   "source": [
    "######## Code here!\n",
    "y = \n",
    "########\n",
    "print(y.shape)"
   ]
  },
  {
   "cell_type": "markdown",
   "metadata": {},
   "source": [
    "<p style='direction:rtl; text-align: right'>\n",
    "    <ul style='direction:rtl; text-align: right'>\n",
    "        <font face=\"B Nazanin\" size=5>\n",
    "        <li>در این قسمت داده‌ها را لیبل دار کنید. برای بردار‌های x یک ستون ۰ و برای بردار‌های y یک ستون ۱ به آخر داده‌ها اضافه کنید. (برای این کار از تابع np.ones و np.zeros و np.concatenate استفاده کنید)</li>\n",
    "    </ul>\n",
    "</p>\n",
    "\t</font>"
   ]
  },
  {
   "cell_type": "code",
   "execution_count": null,
   "metadata": {},
   "outputs": [],
   "source": [
    "######## Code here!\n",
    "### np.ones & np.zeros\n",
    "x_label = \n",
    "y_label = \n",
    "\n",
    "### np.concatenate\n",
    "x = \n",
    "y = \n",
    "\n",
    "########\n",
    "allpoint = np.concatenate((x, y), axis = 0)\n",
    "print(allpoint.shape)"
   ]
  },
  {
   "cell_type": "markdown",
   "metadata": {},
   "source": [
    "<p></p>\n",
    "<br/>\n",
    "<div id=\"sec_1\" style=\"direction:rtl;line-height:300%;\">\n",
    "\t<font face=\"B Nazanin\" size=5>\n",
    "\t\t<p></p>\n",
    "\t\t<hr>\n",
    "        <li>تابعِ محاسبه‌ی فاصله‌ی بین دو بردار ($Dist(X,Y) = \\sqrt{\\sum_{i=1}^{dim} ((x_i-y_i)^2)}$)</li>\n",
    "<br/>\n",
    "        در این قسمت تابعِ getDistance را با 2 پارمتر ورودی (دو بردار که قرار است فاصله‌ی بینشان را حساب کنیم) تعریف می‌کنیم. در انتها مقدار فاصله را return کنید.\n",
    "\t</font>\n",
    "</div>"
   ]
  },
  {
   "cell_type": "code",
   "execution_count": 25,
   "metadata": {},
   "outputs": [],
   "source": [
    "######## Code here!\n",
    "\n",
    "\n"
   ]
  },
  {
   "cell_type": "markdown",
   "metadata": {},
   "source": [
    "<p style='direction:rtl; text-align: right'>\n",
    "    <ul style='direction:rtl; text-align: right'>\n",
    "        <font face=\"B Nazanin\" size=5>\n",
    "        <li>پیدا کردن فاصله دو به دو نقاط (دقت شود ستون اخر داده allpoint لیبل میباشد و در محاسبات نباید حضور داشته باشد. )</li>\n",
    "    </ul>\n",
    "</p>\n",
    "\t</font>"
   ]
  },
  {
   "cell_type": "code",
   "execution_count": 26,
   "metadata": {},
   "outputs": [
    {
     "ename": "SyntaxError",
     "evalue": "invalid syntax (<ipython-input-26-1c2ccec2912e>, line 6)",
     "output_type": "error",
     "traceback": [
      "\u001b[1;36m  File \u001b[1;32m\"<ipython-input-26-1c2ccec2912e>\"\u001b[1;36m, line \u001b[1;32m6\u001b[0m\n\u001b[1;33m    distances[i, j] =\u001b[0m\n\u001b[1;37m                      ^\u001b[0m\n\u001b[1;31mSyntaxError\u001b[0m\u001b[1;31m:\u001b[0m invalid syntax\n"
     ]
    }
   ],
   "source": [
    "allpoint_without_label = allpoint[:, 0: -1]\n",
    "distances = np.zeros((len(allpoint_without_label), len(allpoint_without_label)))\n",
    "for i in range(0, len(allpoint_without_label)):\n",
    "    for j in range(0, len(allpoint_without_label)):\n",
    "         ######## Code here!\n",
    "         distances[i, j] = \n",
    "         #########   \n",
    "print(distances)"
   ]
  },
  {
   "cell_type": "markdown",
   "metadata": {},
   "source": [
    "<p style='direction:rtl; text-align: right'>\n",
    "    <ul style='direction:rtl; text-align: right'>\n",
    "        <font face=\"B Nazanin\" size=5>\n",
    "        <li>نمایش فاصله ها (برای نمایش داده ها از plt.scatter استفاده شود. از distances_plot به عنوان مولفه x استفاده شود. برای مولفه y از np.zeros استفاده کنید.</li>\n",
    "    </ul>\n",
    "</p>\n",
    "\t</font>"
   ]
  },
  {
   "cell_type": "code",
   "execution_count": 27,
   "metadata": {},
   "outputs": [
    {
     "ename": "SyntaxError",
     "evalue": "invalid syntax (<ipython-input-27-973d4d284d5d>, line 4)",
     "output_type": "error",
     "traceback": [
      "\u001b[1;36m  File \u001b[1;32m\"<ipython-input-27-973d4d284d5d>\"\u001b[1;36m, line \u001b[1;32m4\u001b[0m\n\u001b[1;33m    x_s =\u001b[0m\n\u001b[1;37m          ^\u001b[0m\n\u001b[1;31mSyntaxError\u001b[0m\u001b[1;31m:\u001b[0m invalid syntax\n"
     ]
    }
   ],
   "source": [
    "distances_plot = distances[distances != 0]\n",
    "print(distances.shape)\n",
    "######## Code here!\n",
    "x_s = \n",
    "y_s = \n",
    "########\n",
    "plt.scatter(x_s, y_s)\n",
    "error = 0\n",
    "distance_threshold = 85\n",
    "######## compute error\n",
    "for i in range(len(distances)):\n",
    "    for j in range(len(distances[i])):\n",
    "        if (distances[i][j] < distance_threshold and allpoint[i, dim] != allpoint[j, dim]) or (distances[i][j] > distance_threshold and allpoint[i, dim] == allpoint[j, dim]):\n",
    "            error += 1\n",
    "print(\"Error value:{}\".format(error / (len(distances) ** 2)))"
   ]
  },
  {
   "cell_type": "markdown",
   "metadata": {},
   "source": [
    "<p></p>\n",
    "<br />\n",
    "<div id=\"random_projection\" style=\"direction:rtl;line-height:300%;\">\n",
    "\t<font face=\"B Nazanin\" size=5>\n",
    "\t\t<font color=#FF7500 size=6>\n",
    "کاهش بعد (Random Projection)\n",
    "        </font>\n",
    "\t\t<p></p>\n",
    "\t\t<hr><br/>\n",
    "\t</font>\n",
    "</div>"
   ]
  },
  {
   "cell_type": "markdown",
   "metadata": {},
   "source": [
    "<p></p>\n",
    "<br/>\n",
    "<div id=\"sec_1\" style=\"direction:rtl;line-height:300%;\">\n",
    "\t<font face=\"B Nazanin\" size=5>\n",
    "\t\t<p></p>\n",
    "\t\t<hr>\n",
    "        <li>تابعِ محاسبه‌ی تصویر بردار روی زیرفضا</li>\n",
    "<br/>\n",
    "در این قسمت تابعِ projectSubspace را با 2 پارامتر ورودی (که اولی آرایه‌ای $m \\times d$ از $m$ بردار $d$ بعدی است که می‌خواهیم آن‌ها را تصویر کنیم و دومی آرایه‌ای $k \\times d$ از $k$ بردار مستقل گوسی $d$ بعدی است که قرار است تصویر کردن به کمک آن‌ها انجام شود). برای این منظور مراحل زیر را انجام دهید:\n",
    "<p style='direction:rtl; text-align: right'>\n",
    "    <ul style='direction:rtl; text-align: right'>\n",
    "        <li>به ازای هر یک از بردارهای پارامتر ورودی اول، ضرب داخلی آن بردار را با هر یک از kتا بردار موجود در پارامتر ورودی دوم را به دست آورید و در نهایت آن را بر $\\sqrt{k}$ تقسیم کنید.</li>\n",
    "    </ul>\n",
    "</p>\n",
    "\t</font>\n",
    "</div>"
   ]
  },
  {
   "cell_type": "code",
   "execution_count": 21,
   "metadata": {},
   "outputs": [],
   "source": [
    "######## Code here!\n",
    "\n",
    "\n"
   ]
  },
  {
   "cell_type": "markdown",
   "metadata": {},
   "source": [
    "<p style='direction:rtl; text-align: right'>\n",
    "    <ul style='direction:rtl; text-align: right'>\n",
    "        <font face=\"B Nazanin\" size=5>\n",
    "        <li>u: تولید n بردار از توزیع نرمال با میانگین ۰ و انحراف معیار ۱ با بعد d</li>\n",
    "        <li>v: تولید k بردار از توزیع نرمال با میانگین ۰ و انحراف معیار ۱ با بعد d</li>\n",
    "        <li>از تابع projectSubspace استفاده کنید و بردار‌های u را روی بردار‌های v تصویر کنید و حاصل را در ans ذخیره کنید.</li>\n",
    "        <li>فاصله دو به دو بردار‌های ans را حساب کنید و میانگین فاصله‌ها را نمایش دهید.</li>\n",
    "        <li>فاصله دو به دو بردار‌های u را حساب کنید و میانگین فاصله‌ها را نمایش دهید.</li>\n",
    "    </ul>\n",
    "</p>\n",
    "\t</font>\n",
    "</div>"
   ]
  },
  {
   "cell_type": "code",
   "execution_count": 22,
   "metadata": {},
   "outputs": [],
   "source": [
    "######## Code here!\n",
    "\n",
    "\n"
   ]
  },
  {
   "cell_type": "code",
   "execution_count": null,
   "metadata": {},
   "outputs": [],
   "source": []
  }
 ],
 "metadata": {
  "kernelspec": {
   "display_name": "Python 3",
   "language": "python",
   "name": "python3"
  },
  "language_info": {
   "codemirror_mode": {
    "name": "ipython",
    "version": 3
   },
   "file_extension": ".py",
   "mimetype": "text/x-python",
   "name": "python",
   "nbconvert_exporter": "python",
   "pygments_lexer": "ipython3",
   "version": "3.8.5"
  }
 },
 "nbformat": 4,
 "nbformat_minor": 4
}
