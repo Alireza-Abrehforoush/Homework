{
 "cells": [
  {
   "cell_type": "markdown",
   "metadata": {},
   "source": [
    "<div style=\"direction:rtl;line-height:300%;\">\n",
    "\t<font face=\"B Nazanin\" size=5>\n",
    "\t\t<div align=center>\n",
    "\t\t\t<font face=\"IranNastaliq\" size=30>\n",
    "\t\t\t\t<p></p>\n",
    "\t\t\t\t<p></p>\n",
    "به نام خدا\n",
    "\t\t\t\t<p></p>\n",
    "\t\t\t</font>\n",
    "\t\t\t<font color=#FF7500>\n",
    "دانشگاه صنعتی اصفهان - دانشکده علوم ریاضی\n",
    "            </font>\n",
    "\t\t\t<p></p>\n",
    "\t\t\t<font color=blue>\n",
    "مبانی ریاضی علوم داده\n",
    "            </font>\n",
    "\t\t\t<br />\n",
    "\t\t\t<br />\n",
    "پاییز ۱۴۰۱\n",
    "\t\t</div>\n",
    "\t\t<hr/>\n",
    "\t\t<font color=red size=6>\n",
    "\t\t\t<br />\n",
    "\t\t\t<div align=center>\t\n",
    "مینی‌پروژه‌ی ۱ (فضای ابعاد بالا)\n",
    "            </div>\n",
    "\t\t</font>\n",
    "\t\t<br />\n",
    "\t\t<hr />\n",
    "\t\t<style type=\"text/css\" scoped>\n",
    "        p{\n",
    "        border: 1px solid #a2a9b1;background-color: #f8f9fa;display: inline-block;\n",
    "        };\n",
    "        </style>\n",
    "\t\t<div>\n",
    "\t\t\t<h3>فهرست مطالب</h3>\n",
    "\t\t\t<ul style=\"margin-right: 0;\">\n",
    "                <li>\n",
    "\t\t\t\t\t<a href=\"#1st_observation\">\n",
    "                        مشاهده‌ی اول\n",
    "                    </a>\n",
    "\t\t\t\t</li>\n",
    "                <li>\n",
    "\t\t\t\t\t<a href=\"#2nd_observation\">\n",
    "                        مشاهده‌ی دوم\n",
    "                    </a>\n",
    "\t\t\t\t</li>\n",
    "                <li>\n",
    "\t\t\t\t\t<a href=\"#3rd_observation\">\n",
    "                       مشاهده‌ی سوم\n",
    "                    </a>\n",
    "\t\t\t\t</li>\n",
    "                <li>\n",
    "\t\t\t\t\t<a href=\"#gaussian_annulus_theorem\">\n",
    "                        قضیه‌ی حلقه گوسی\n",
    "                    </a>\n",
    "\t\t\t\t</li>\n",
    "                <li>\n",
    "\t\t\t\t\t<a href=\"#separating_gaussians\">\n",
    "                       تفکیک توزیع‌های گوسی\n",
    "                    </a>\n",
    "\t\t\t\t</li>\n",
    "                <li>\n",
    "\t\t\t\t\t<a href=\"#random_projection\">\n",
    "                        Random Projection\n",
    "                    </a>\n",
    "\t\t\t\t</li>\n",
    "\t\t\t</ul>\n",
    "\t\t</div>\n",
    "\t</font>\n",
    "</div>"
   ]
  },
  {
   "cell_type": "markdown",
   "metadata": {},
   "source": [
    "<p></p>\n",
    "<br />\n",
    "<div id=\"1st_observation\" style=\"direction:rtl;line-height:300%;\">\n",
    "\t<font face=\"B Nazanin\" size=5>\n",
    "\t\t<font color=#FF7500 size=6>\n",
    "مشاهده‌ی اول\n",
    "        </font>\n",
    "\t\t<p></p>\n",
    "\t\t<hr>\n",
    "حجم پوسته‌ی کره‌ی $d$ بعدی به ضخامت $\\frac{c}{d}$ حداقل $1-e^{-c}$ از حجم کل کره است. به عبارتی دیگر در ابعاد بالا تقریبا همه‌ی حجم کره روی پوسته‌ی آن قرار گرفته است.\n",
    "<br/>\n",
    "هدف این بخش درک بهتر قضیه‌ی بالا به کمک شبیه‌سازی آن است.\n",
    "<br/><br/>\n",
    "\t</font>\n",
    "</div>"
   ]
  },
  {
   "cell_type": "markdown",
   "metadata": {},
   "source": [
    "<p></p>\n",
    "<br/>\n",
    "<div id=\"sec_1\" style=\"direction:rtl;line-height:300%;\">\n",
    "\t<font face=\"B Nazanin\" size=5>\n",
    "\t\t<p></p>\n",
    "\t\t<hr>\n",
    "        ابتدا باید ماژول‌های زیر را \"import\" کنیم:\n",
    "        <li>numpy: برای کار با ماتریس‌ها</li>\n",
    "        <li>matplotlib: برای رسم نمودار</li>\n",
    "        <li>sqrt: ریشه‌ی دوم</li>\n",
    "<br/>\n",
    "\t</font>\n",
    "</div>"
   ]
  },
  {
   "cell_type": "code",
   "execution_count": 1,
   "metadata": {},
   "outputs": [],
   "source": [
    "######## Code here!\n",
    "import numpy as np\n",
    "import matplotlib.pyplot as plt\n",
    "from math import sqrt"
   ]
  },
  {
   "cell_type": "markdown",
   "metadata": {},
   "source": [
    "<p></p>\n",
    "<br/>\n",
    "<div id=\"sec_1\" style=\"direction:rtl;line-height:300%;\">\n",
    "\t<font face=\"B Nazanin\" size=5>\n",
    "\t\t<p></p>\n",
    "\t\t<hr>\n",
    "در اینجا چند تابع ضروری را تعریف می‌کنیم:\n",
    "<br/>\n",
    "\t</font>\n",
    "</div>"
   ]
  },
  {
   "cell_type": "markdown",
   "metadata": {},
   "source": [
    "<p></p>\n",
    "<br/>\n",
    "<div id=\"sec_1\" style=\"direction:rtl;line-height:300%;\">\n",
    "\t<font face=\"B Nazanin\" size=5>\n",
    "\t\t<p></p>\n",
    "\t\t<hr>\n",
    "        <li>تابعِ محاسبه‌ی نُرم ($\\|x\\| = \\sqrt{\\sum_{i=1}^{dim} x_i^2}$)</li>\n",
    "<br/>\n",
    "        در این قسمت تابعِ getNorm را با ۱ پارمتر ورودی (که همان برداری است که می‌خواهیم نُرمش را حساب کنیم) تعریف می‌کنیم. در انتها مقدار نُرم را return کنید.\n",
    "\t</font>\n",
    "</div>"
   ]
  },
  {
   "cell_type": "code",
   "execution_count": 2,
   "metadata": {},
   "outputs": [],
   "source": [
    "######## Code here!\n",
    "def getNorm(x):\n",
    "    sz = np.shape(x);\n",
    "    if (len(sz) > 1):\n",
    "        norm = np.array([sqrt(np.sum([x[i][j] * x[i][j] for j in range(sz[1])])) for i in range(sz[0])]);\n",
    "    else:\n",
    "        norm = np.array(np.sqrt(np.sum([x[i] * x[i] for i in range(sz[0])])));\n",
    "    return norm;"
   ]
  },
  {
   "cell_type": "markdown",
   "metadata": {},
   "source": [
    "<p></p>\n",
    "<br/>\n",
    "<div id=\"sec_1\" style=\"direction:rtl;line-height:300%;\">\n",
    "\t<font face=\"B Nazanin\" size=5>\n",
    "\t\t<p></p>\n",
    "\t\t<hr>\n",
    "        <li>تابعِ محاسبه‌ی ضرب داخلی</li>\n",
    "<br/>\n",
    "        در این قسمت تابعِ getInnerProduct را با ۲ پارامتر ورودی (که همان بردارهایی هستند که می‌خواهیم ضرب داخلی‌شان را محاسبه کنیم) تعریف می‌کنیم. در انتها مقدار ضرب داخلی را return کنید.\n",
    "\t</font>\n",
    "</div>"
   ]
  },
  {
   "cell_type": "code",
   "execution_count": 3,
   "metadata": {},
   "outputs": [],
   "source": [
    "######## Code here!\n",
    "def getInnerProduct(u, v):\n",
    "    answer = 0;\n",
    "    if (np.shape(u) == np.shape(v)):\n",
    "        answer = np.sum([u[i] * v[i] for i in range(np.shape(u)[0])]);\n",
    "    return answer;"
   ]
  },
  {
   "cell_type": "markdown",
   "metadata": {},
   "source": [
    "<p></p>\n",
    "<br/>\n",
    "<div id=\"sec_1\" style=\"direction:rtl;line-height:300%;\">\n",
    "\t<font face=\"B Nazanin\" size=5>\n",
    "\t\t<p></p>\n",
    "\t\t<hr>\n",
    "        <li>تابعِ محاسبه‌ی زاویه‌ی بین دو بردار</li>\n",
    "<br/>\n",
    "        در این قسمت تابعِ getAngle را با ۲ پارامتر ورودی (که همان بردارهایی هستند که می‌خواهیم زاویه‌ی بینشان را محاسبه کنیم) تعریف می‌کنیم. در انتها مقدار زاویه را return کنید.\n",
    "\t</font>\n",
    "</div>"
   ]
  },
  {
   "cell_type": "code",
   "execution_count": 4,
   "metadata": {},
   "outputs": [],
   "source": [
    "######## Code here!\n",
    "def getAngle(u, v):\n",
    "    answer = getInnerProduct(u, v) / (getNorm(u) * getNorm(v));\n",
    "    return answer;"
   ]
  },
  {
   "cell_type": "markdown",
   "metadata": {},
   "source": [
    "<p></p>\n",
    "<br/>\n",
    "<div id=\"sec_1\" style=\"direction:rtl;line-height:300%;\">\n",
    "\t<font face=\"B Nazanin\" size=5>\n",
    "\t\t<p></p>\n",
    "\t\t<hr>\n",
    "        <li>تابعِ محاسبه‌ی فاصله‌ی بین دو بردار ($Dist(X,Y) = \\sqrt{\\sum_{i=1}^{dim} ((x_i-y_i)^2)}$)</li>\n",
    "<br/>\n",
    "        در این قسمت تابعِ getDistance را با 2 پارمتر ورودی (دو بردار که قرار است فاصله‌ی بینشان را حساب کنیم) تعریف می‌کنیم. در انتها مقدار فاصله را return کنید.\n",
    "\t</font>\n",
    "</div>"
   ]
  },
  {
   "cell_type": "code",
   "execution_count": 5,
   "metadata": {},
   "outputs": [],
   "source": [
    "######## Code here!\n",
    "def getDistance(X, Y):\n",
    "    dist = 0\n",
    "    if len(X) == len(Y):\n",
    "        dist = np.sqrt(np.sum([(X[i] - Y[i]) ** 2 for i in range(len(X))]))\n",
    "    return dist"
   ]
  },
  {
   "cell_type": "markdown",
   "metadata": {},
   "source": [
    "<p></p>\n",
    "<br/>\n",
    "<div id=\"sec_1\" style=\"direction:rtl;line-height:300%;\">\n",
    "\t<font face=\"B Nazanin\" size=5>\n",
    "\t\t<p></p>\n",
    "\t\t<hr>\n",
    "در این بخش به بردارهای تصادفی در گوی یکه می‌پردازیم. هدف این بخش دیدن این نکته است که در ابعاد بالا بردارهای تصادفی درون گوی یکه تقریبا یکه و متعامدند. برای این منظور طبق الگوریتمی که در کلاس بیان شد عمل می‌کنیم.\n",
    "        <li>۱۰۰ بردار تصادفی ۱۰۰۰ بعدی از توزیع نرمال با میانگین صفر و انحراف معیار یک بسازید. برای تولید بردارها از تابع np.random.normal استفاده کنید.</li> \n",
    "        <li>سپس بردارها را به طولشان تقسیم کنید تا یکه شوند.</li> \n",
    "        <li>با استفاده از دستور np.random.rand \n",
    "صد عدد تصادفی بین صفر و یک ایجاد کنید. اعداد بدست آمده را به توان $\\frac{1}{1000}$ برسانید و در بردارهای قسمت قبل ضرب کنید. حاصل ۱۰۰ بردار تصادفی درون گوی یکه است.</li>\n",
    "<br/>\n",
    "\t</font>\n",
    "</div>"
   ]
  },
  {
   "cell_type": "code",
   "execution_count": 6,
   "metadata": {},
   "outputs": [],
   "source": [
    "######## Code here!\n",
    "n = 100;\n",
    "dim = 1000; \n",
    "mu, sigma = 0, 1;\n",
    "\n",
    "k = np.random.normal(mu, sigma, size = (n, dim));\n",
    "sz = np.shape(k);\n",
    "norms = getNorm(k);\n",
    "k = np.array([[k[i][j] / norms[i] for j in range(sz[1])] for i in range(sz[0])]);\n",
    "y = np.random.rand(n);\n",
    "y **= 1 / dim;\n",
    "x = [[y[i] * k[i][j] for j in range(dim)] for i in range(n)];"
   ]
  },
  {
   "cell_type": "markdown",
   "metadata": {},
   "source": [
    "<p></p>\n",
    "<br/>\n",
    "<div id=\"sec_1\" style=\"direction:rtl;line-height:300%;\">\n",
    "\t<font face=\"B Nazanin\" size=5>\n",
    "\t\t<p></p>\n",
    "\t\t<hr>\n",
    "میانگین و انحراف معیار طول بردارهای درون گوی یکه را پیدا کنید.</li>\n",
    "<br/>\n",
    "\t</font>\n",
    "</div>"
   ]
  },
  {
   "cell_type": "code",
   "execution_count": 7,
   "metadata": {},
   "outputs": [
    {
     "name": "stdout",
     "output_type": "stream",
     "text": [
      "0.9989764171155932\n",
      "0.00114620963597525\n"
     ]
    }
   ],
   "source": [
    "######## Code here!\n",
    "norms = getNorm(x);\n",
    "mean1 = np.average(norms);\n",
    "std1 = np.std(norms);\n",
    "\n",
    "print(mean1);\n",
    "print(std1);"
   ]
  },
  {
   "cell_type": "markdown",
   "metadata": {},
   "source": [
    "<p></p>\n",
    "<br/>\n",
    "<div id=\"sec_1\" style=\"direction:rtl;line-height:300%;\">\n",
    "\t<font face=\"B Nazanin\" size=5>\n",
    "\t\t<p></p>\n",
    "\t\t<hr>\n",
    "چه نتیجه‌ای می‌گیرید؟</li>\n",
    "<br/>\n",
    "\t</font>\n",
    "</div>"
   ]
  },
  {
   "cell_type": "markdown",
   "metadata": {},
   "source": [
    "### Answer here!\n",
    "<p></p>\n",
    "<br/>\n",
    "<div id=\"sec_1\" style=\"direction:rtl;line-height:300%;\">\n",
    "\t<font face=\"B Nazanin\" size=5>\n",
    "اینجا بنویسید...</li>\n",
    "<br/>\n",
    "\t</font>\n",
    "</div>"
   ]
  },
  {
   "cell_type": "markdown",
   "metadata": {},
   "source": [
    "<p></p>\n",
    "<br/>\n",
    "<div id=\"sec_1\" style=\"direction:rtl;line-height:300%;\">\n",
    "\t<font face=\"B Nazanin\" size=5>\n",
    "\t\t<p></p>\n",
    "\t\t<hr>\n",
    "30 نقطه‌ی تصادفی درون ابرمکعبِ یکه ($\\left[-\\frac{1}{2}, \\frac{1}{2}  \\right]^{100}$) تولید کنید. سپس میانگین فاصله‌ی بین دو به دوی نقاط و میانگین زاویه‌ی بین دو به دوی بردارهای از مبدا به این نقاط را رسم کنید.</li>\n",
    "<br/>\n",
    "\t</font>\n",
    "</div>"
   ]
  },
  {
   "cell_type": "code",
   "execution_count": 8,
   "metadata": {},
   "outputs": [
    {
     "name": "stdout",
     "output_type": "stream",
     "text": [
      "4.069556163205379\n",
      "0.0046526391580328915\n"
     ]
    }
   ],
   "source": [
    "######## Code here!\n",
    "z = np.random.uniform(low = -0.5, high = 0.5, size = (30, 100));\n",
    "distances = [getDistance(z[i], z[j]) for i in range(30) for j in range(30) if i != j];\n",
    "angles = [getAngle(z[i], z[j]) for i in range(30) for j in range(30) if i != j];\n",
    "print(np.average(distances))\n",
    "print(np.average(angles))"
   ]
  },
  {
   "cell_type": "markdown",
   "metadata": {},
   "source": [
    "<p></p>\n",
    "<br/>\n",
    "<div id=\"sec_1\" style=\"direction:rtl;line-height:300%;\">\n",
    "\t<font face=\"B Nazanin\" size=5>\n",
    "\t\t<p></p>\n",
    "\t\t<hr>\n",
    "چه نتیجه‌ای می‌گیرید؟</li>\n",
    "<br/>\n",
    "\t</font>\n",
    "</div>"
   ]
  },
  {
   "cell_type": "markdown",
   "metadata": {},
   "source": [
    "### Answer here!\n",
    "<p></p>\n",
    "<br/>\n",
    "<div id=\"sec_1\" style=\"direction:rtl;line-height:300%;\">\n",
    "\t<font face=\"B Nazanin\" size=5>\n",
    "اینجا بنویسید...</li>\n",
    "<br/>\n",
    "\t</font>\n",
    "</div>"
   ]
  },
  {
   "cell_type": "markdown",
   "metadata": {},
   "source": [
    "<p></p>\n",
    "<br />\n",
    "<div id=\"2nd_observation\" style=\"direction:rtl;line-height:300%;\">\n",
    "\t<font face=\"B Nazanin\" size=5>\n",
    "\t\t<font color=#FF7500 size=6>\n",
    "مشاهده‌ی دوم\n",
    "        </font>\n",
    "\t\t<p></p>\n",
    "\t\t<hr>\n",
    "حجم نوار استوا به ضخامت $\\frac{c}{\\sqrt{d-1}}$ حداقل $1-\\frac{2}{c}e^{-\\frac{c^2}{2}}$ از حجم کل کره است.\n",
    "<br/>\n",
    "هدف این بخش درک بهتر قضیه‌ی بالا به کمک شبیه‌سازی آن است.\n",
    "<br/><br/>\n",
    "\t</font>\n",
    "</div>"
   ]
  },
  {
   "cell_type": "markdown",
   "metadata": {},
   "source": [
    "<p></p>\n",
    "<br/>\n",
    "<div id=\"sec_1\" style=\"direction:rtl;line-height:300%;\">\n",
    "\t<font face=\"B Nazanin\" size=5>\n",
    "\t\t<p></p>\n",
    "\t\t<hr>\n",
    "ضرب داخلی دو‌به‌دوی بردارهای درون گوی یکه (که در قسمت قبل به دست آمد) را بدست آورید و سپس میانگین و انحراف معیار این اعداد را پیدا کنید.</li>\n",
    "<br/>\n",
    "\t</font>\n",
    "</div>"
   ]
  },
  {
   "cell_type": "code",
   "execution_count": 9,
   "metadata": {},
   "outputs": [
    {
     "name": "stdout",
     "output_type": "stream",
     "text": [
      "0.0001315773449560963\n",
      "0.031027079339018538\n"
     ]
    }
   ],
   "source": [
    "######## Code here!\n",
    "inner_products = [getInnerProduct(x[i], x[j]) for i in range(n) for j in range(n) if i != j];\n",
    "mean2 = np.average(inner_products);\n",
    "std2 = np.std(inner_products);\n",
    "\n",
    "print(mean2);\n",
    "print(std2);"
   ]
  },
  {
   "cell_type": "markdown",
   "metadata": {},
   "source": [
    "<p></p>\n",
    "<br/>\n",
    "<div id=\"sec_1\" style=\"direction:rtl;line-height:300%;\">\n",
    "\t<font face=\"B Nazanin\" size=5>\n",
    "\t\t<p></p>\n",
    "\t\t<hr>\n",
    "چه نتیجه‌ای می‌گیرید؟</li>\n",
    "<br/>\n",
    "\t</font>\n",
    "</div>"
   ]
  },
  {
   "cell_type": "markdown",
   "metadata": {},
   "source": [
    "### Answer here!\n",
    "<p></p>\n",
    "<br/>\n",
    "<div id=\"sec_1\" style=\"direction:rtl;line-height:300%;\">\n",
    "\t<font face=\"B Nazanin\" size=5>\n",
    "اینجا بنویسید...</li>\n",
    "<br/>\n",
    "\t</font>\n",
    "</div>"
   ]
  },
  {
   "cell_type": "markdown",
   "metadata": {},
   "source": [
    "<p></p>\n",
    "<br/>\n",
    "<div id=\"sec_1\" style=\"direction:rtl;line-height:300%;\">\n",
    "\t<font face=\"B Nazanin\" size=5>\n",
    "\t\t<p></p>\n",
    "\t\t<hr>\n",
    "۵۰۰ نقطه تصادفی روی گوی یکه ۵۰ بعدی تولید کنید. سپس ۵ نقطه تصادفی دیگر روی این گوی یکه تولید کنید. فرض کنید هر یک از این ۵ نقطه قطب شمال هستند و برای هر کدام یک نوار نزدیک استوا به ضخامت $\\frac{c}{\\sqrt{50-1}}$ در نظر بگیرید. به ازای $c$های از 1 تا 5 حساب کنید چند درصد از آن ۵۰۰ نقطه در هر کدام از این ۵ نوار قرار دارند.</li>\n",
    "<br/>\n",
    "\t</font>\n",
    "</div>"
   ]
  },
  {
   "cell_type": "code",
   "execution_count": 10,
   "metadata": {},
   "outputs": [
    {
     "name": "stdout",
     "output_type": "stream",
     "text": [
      "[499, 500, 499, 499, 498]\n"
     ]
    }
   ],
   "source": [
    "######## Code here!\n",
    "def isOnStrip(c, x, pole):\n",
    "    threshold = c / np.sqrt(50-1)\n",
    "    if (np.abs(getInnerProduct(x, pole)) < threshold):\n",
    "        return 1\n",
    "    else:\n",
    "        return 0\n",
    "n = 500;\n",
    "dim = 50;\n",
    "mu, sigma = 0, 1;\n",
    "points = np.random.normal(mu, sigma, size = (n, dim));\n",
    "points_norms = getNorm(points);\n",
    "points = np.array([[points[i][j] / points_norms[i] for j in range(dim)] for i in range(n)]);\n",
    "poles = np.random.normal(mu, sigma, size = (5, dim));\n",
    "poles_norms = getNorm(poles);\n",
    "poles = np.array([[poles[i][j] / poles_norms[i] for j in range(dim)] for i in range(5)]);\n",
    "c = 3;\n",
    "result = [sum([isOnStrip(c, points[i], poles[j]) for i in range(n)]) for j in range(5)];\n",
    "print(result);"
   ]
  },
  {
   "cell_type": "markdown",
   "metadata": {},
   "source": [
    "<p></p>\n",
    "<br />\n",
    "<div id=\"3rd_observation\" style=\"direction:rtl;line-height:300%;\">\n",
    "\t<font face=\"B Nazanin\" size=5>\n",
    "\t\t<font color=#FF7500 size=6>\n",
    "مشاهده‌ی سوم\n",
    "        </font>\n",
    "\t\t<p></p>\n",
    "\t\t<hr>\n",
    "حجم اشتراک مکعب به ضلع $k\\sqrt{\\frac{\\ln d}{d-1}}$ به مرکز مبدا با گوی واحد حداقل $1-\\frac{2}{k\\sqrt{d^{k^{2}-2}\\ln d}}$ حجم کره است.\n",
    "<br/>\n",
    "هدف این بخش درک بهتر قضیه‌ی بالا به کمک شبیه‌سازی آن است.\n",
    "<br/><br/>\n",
    "\t</font>\n",
    "</div>"
   ]
  },
  {
   "cell_type": "markdown",
   "metadata": {},
   "source": [
    "<p></p>\n",
    "<br/>\n",
    "<div id=\"sec_1\" style=\"direction:rtl;line-height:300%;\">\n",
    "\t<font face=\"B Nazanin\" size=5>\n",
    "\t\t<p></p>\n",
    "\t\t<hr>\n",
    "1000 بردار تصادفی 1000 بعدی درون گوی یکه (مشابه مشاهده اول) تولید کنید. بررسی کنید که چند درصد این بردارها درون ابرمکعب 1000 بعدی به مرکز مبدا مختصات و به ضلع $4\\sqrt{\\frac{\\ln 1000}{1000-1}}$ قرار دارد (برای بررسی اینکه آیا یک بردار در ابرمکعب $d$ بعدی به مرکز مبدا مختصات و ضلع $2k\\sqrt{\\frac{\\ln d}{d-1}}$ قرار دارد یا نه بررسی کنید که آیا همه مولفه‌هایش در بازه‌ی $\\left[ -k\\sqrt{\\frac{\\ln d}{d-1}}, +k\\sqrt{\\frac{\\ln d}{d-1}} \\right]$ قرار دارد یا نه).</li>\n",
    "<br/>\n",
    "\t</font>\n",
    "</div>"
   ]
  },
  {
   "cell_type": "code",
   "execution_count": 11,
   "metadata": {},
   "outputs": [
    {
     "name": "stdout",
     "output_type": "stream",
     "text": [
      "100.0\n"
     ]
    }
   ],
   "source": [
    "######## Code here!\n",
    "def howManyInCube(v, r):\n",
    "    n = v.shape[0];\n",
    "    dim = v.shape[1];\n",
    "    sum = 0;\n",
    "    for i in range(n):\n",
    "        is_in_cube = True;\n",
    "        for j in range(dim):\n",
    "            if (v[i][j] < -r or v[i][j] > r):\n",
    "                is_in_cube = False;\n",
    "                break;\n",
    "        if (is_in_cube):\n",
    "            sum += 1;\n",
    "    return 100 * (sum / n);\n",
    "\n",
    "n = 1000;\n",
    "dim = 1000; \n",
    "mu, sigma = 0, 1;\n",
    "\n",
    "k = np.random.normal(mu, sigma, size = (n, dim));\n",
    "sz = np.shape(k);\n",
    "norms = getNorm(k);\n",
    "k = np.array([[k[i][j] / norms[i] for j in range(sz[1])] for i in range(sz[0])]);\n",
    "y = np.random.rand(n);\n",
    "y **= 1 / dim;\n",
    "x = np.array([[y[i] * k[i][j] for j in range(dim)] for i in range(n)]);\n",
    "# r is half of cube side length\n",
    "r = 2 * np.sqrt(np.log(dim) / (dim - 1))\n",
    "print(howManyInCube(x, r))"
   ]
  },
  {
   "cell_type": "markdown",
   "metadata": {},
   "source": [
    "<p></p>\n",
    "<br/>\n",
    "<div id=\"sec_1\" style=\"direction:rtl;line-height:300%;\">\n",
    "\t<font face=\"B Nazanin\" size=5>\n",
    "\t\t<p></p>\n",
    "\t\t<hr>\n",
    "در این قسمت قصد داریم با تغییر $k$، تغییراتِ درصدِ بردارهایی که در ابرمکعب قرار می‌گیرند را مشاهده کنیم. \n",
    "به ازای $k \\in \\left[ 0.1, 2 \\right]$ با دقت $0.025$ (یک حلقه روی بازه‌ی مذکور بزنید و $k$ را 25 هزارم 25 هزارم افزایش دهید)، حساب کنید که چند درصد از بردارها درون ابرمکعب قرار دارند. اعداد به دست آمده را در یک لیست بریزید و در نهایت نمودار را به ازای مقادیر $k$ و درصدهای به دست آمده رسم کنید.</li>\n",
    "<br/>\n",
    "\t</font>\n",
    "</div>"
   ]
  },
  {
   "cell_type": "code",
   "execution_count": 12,
   "metadata": {},
   "outputs": [
    {
     "data": {
      "text/plain": [
       "[<matplotlib.lines.Line2D at 0x19983f99250>]"
      ]
     },
     "execution_count": 12,
     "metadata": {},
     "output_type": "execute_result"
    },
    {
     "data": {
      "image/png": "[encoded data removed]",
      "text/plain": [
       "<Figure size 432x288 with 1 Axes>"
      ]
     },
     "metadata": {
      "needs_background": "light"
     },
     "output_type": "display_data"
    }
   ],
   "source": [
    "######## Code here!\n",
    "n = 1000;\n",
    "dim = 1000; \n",
    "mu, sigma = 0, 1;\n",
    "\n",
    "k = np.random.normal(mu, sigma, size = (n, dim));\n",
    "sz = np.shape(k);\n",
    "norms = getNorm(k);\n",
    "k = np.array([[k[i][j] / norms[i] for j in range(sz[1])] for i in range(sz[0])]);\n",
    "y = np.random.rand(n);\n",
    "y **= 1 / dim;\n",
    "x = np.array([[y[i] * k[i][j] for j in range(dim)] for i in range(n)]);\n",
    "\n",
    "x_3 = [];\n",
    "y_3 = [];\n",
    "for r in np.arange(0.1, 2 + 0.1, 0.025):\n",
    "    x_3.append(r);\n",
    "    y_3.append(howManyInCube(x, r * np.sqrt(np.log(dim) / (dim - 1))))\n",
    "plt.plot(x_3, y_3)"
   ]
  },
  {
   "cell_type": "markdown",
   "metadata": {},
   "source": [
    "<p></p>\n",
    "<br/>\n",
    "<div id=\"sec_1\" style=\"direction:rtl;line-height:300%;\">\n",
    "\t<font face=\"B Nazanin\" size=5>\n",
    "\t\t<p></p>\n",
    "\t\t<hr>\n",
    "این بار می‌خواهیم تغییرات درصدها را با توجه به تغییرات بعد بردارها مشاهده نماییم. برای این منظور این بار $k$ را ثابت و برابر با 2 قرار دهید و به ازای $d \\in \\left[10, 1000  \\right]$ با دقت 10 (یک حلقه روی بازه‌ی مذکور بزنید و $d$ را ده تا ده تا زیاد کنید)  هر بار بردارهای $d$ بعدی درون گوی یکه را تولید کنید سپس حساب کنید که چند درصد از بردارها درون ابرمکعب قرار دارند. اعداد به دست آمده را در یک لیست بریزید و در نهایت نمودار را به ازای مقادیر مختلف $d$ و درصدهای به دست آمده رسم کنید. \n",
    "        </li>\n",
    "<br/>\n",
    "\t</font>\n",
    "</div>"
   ]
  },
  {
   "cell_type": "code",
   "execution_count": 15,
   "metadata": {},
   "outputs": [
    {
     "data": {
      "image/png": "[encoded data removed]",
      "text/plain": [
       "<Figure size 432x288 with 1 Axes>"
      ]
     },
     "metadata": {
      "needs_background": "light"
     },
     "output_type": "display_data"
    }
   ],
   "source": [
    "######## Code here!\n",
    "n = 1000;\n",
    "x_4 = [];\n",
    "y_4 = [];\n",
    "r = 2;\n",
    "for dim in range(3, 1001, 10):\n",
    "    mu, sigma = 0, 1;\n",
    "    k = np.random.normal(mu, sigma, size = (n, dim));\n",
    "    sz = np.shape(k);\n",
    "    norms = getNorm(k);\n",
    "    k = np.array([[k[i][j] / norms[i] for j in range(sz[1])] for i in range(sz[0])]);\n",
    "    y = np.random.rand(n);\n",
    "    y **= 1 / dim;\n",
    "    x = np.array([[y[i] * k[i][j] for j in range(dim)] for i in range(n)]);\n",
    "    x_4.append(dim);\n",
    "    y_4.append(howManyInCube(x, r * np.sqrt(np.log(dim) / (dim - 1))))\n",
    "plt.plot(x_4, y_4);"
   ]
  },
  {
   "cell_type": "markdown",
   "metadata": {},
   "source": [
    "<p></p>\n",
    "<br />\n",
    "<div id=\"gaussian_annulus_theorem\" style=\"direction:rtl;line-height:300%;\">\n",
    "\t<font face=\"B Nazanin\" size=5>\n",
    "\t\t<font color=#FF7500 size=6>\n",
    "قضیه‌ی حلقه گوسی\n",
    "        </font>\n",
    "\t\t<p></p>\n",
    "\t\t<hr>\n",
    "اگر $x \\sim N^d(0,1)$ و $0 \\lt \\beta \\lt \\sqrt{d}$ آنگاه داریم: $Pr\\left( \\left| \\left\\| x \\right\\| -\\sqrt{d} \\right| \\gt \\beta \\right) \\le  3e^{-\\frac{\\beta^2}{96}}$\n",
    "<br/>\n",
    "هدف این بخش درک بهتر قضیه‌ی بالا به کمک شبیه‌سازی آن است.\n",
    "<br/><br/>\n",
    "\t</font>\n",
    "</div>"
   ]
  },
  {
   "cell_type": "markdown",
   "metadata": {},
   "source": [
    "<p></p>\n",
    "<br/>\n",
    "<div id=\"sec_1\" style=\"direction:rtl;line-height:300%;\">\n",
    "\t<font face=\"B Nazanin\" size=5>\n",
    "\t\t<p></p>\n",
    "\t\t<hr>\n",
    "در این قسمت می‌خواهیم با تغییر $\\beta$، ِتغییراتِ درصدِ بردارهایی که در گوی به شعاع $\\sqrt{d}$ قرار می‌گیرند را مشاهده کنیم. برای این منظور مراحل زیر را انجام دهید:\n",
    "        <p style='direction:rtl; text-align: right'>\n",
    "    <ul style='direction:rtl; text-align: right'>\n",
    "        <font face=\"B Nazanin\" size=5>\n",
    "        <li>1000 بردار 1000 بعدی نرمال تولید کنید. به ازای $\\beta \\in \\left( 0.1, 3 \\right)$ با دقت $0.1$، درصدِ بردارهایی که خارج گوی به شعاع $\\sqrt{d} \\pm \\beta$ قرار می‌گیرند را حساب کنید و نمودار درصدها را برحسب $\\beta$ رسم نمایید.</li>\n",
    "    </ul>\n",
    "</p>\n",
    "\t</font>\n",
    "</div>\n",
    "        </li>\n",
    "<br/>\n",
    "\t</font>\n",
    "</div>"
   ]
  },
  {
   "cell_type": "code",
   "execution_count": 16,
   "metadata": {},
   "outputs": [
    {
     "data": {
      "text/plain": [
       "[<matplotlib.lines.Line2D at 0x19984032b20>]"
      ]
     },
     "execution_count": 16,
     "metadata": {},
     "output_type": "execute_result"
    },
    {
     "data": {
      "image/png": "[encoded data removed]",
      "text/plain": [
       "<Figure size 432x288 with 1 Axes>"
      ]
     },
     "metadata": {
      "needs_background": "light"
     },
     "output_type": "display_data"
    }
   ],
   "source": [
    "######## Code here!\n",
    "def howManyOutSphere(v, beta):\n",
    "    n = v.shape[0];\n",
    "    dim = v.shape[1];\n",
    "    sum = 0;\n",
    "    for i in range(n):\n",
    "        if (getNorm(v[i]) > np.sqrt(dim) + beta or np.sqrt(dim) < np.sqrt(dim) - beta):\n",
    "            sum += 1;\n",
    "    return 100 * (sum / n);\n",
    "\n",
    "\n",
    "n = 1000;\n",
    "dim = 1000;\n",
    "mu, sigma = 0, 1;\n",
    "\n",
    "k = np.random.normal(mu, sigma, size = (n, dim));\n",
    "x_5 = [];\n",
    "y_5 = [];\n",
    "for beta in np.arange(0.1, 3, 0.1):\n",
    "    x_5.append(beta);\n",
    "    y_5.append(howManyOutSphere(k, beta))\n",
    "plt.plot(x_5, y_5)"
   ]
  },
  {
   "cell_type": "markdown",
   "metadata": {},
   "source": [
    "<p></p>\n",
    "<br/>\n",
    "<div id=\"sec_1\" style=\"direction:rtl;line-height:300%;\">\n",
    "\t<font face=\"B Nazanin\" size=5>\n",
    "\t\t<p></p>\n",
    "\t\t<hr>\n",
    "چه نتیجه‌ای می‌گیرید؟</li>\n",
    "<br/>\n",
    "\t</font>\n",
    "</div>"
   ]
  },
  {
   "cell_type": "markdown",
   "metadata": {},
   "source": [
    "### Answer here!\n",
    "<p></p>\n",
    "<br/>\n",
    "<div id=\"sec_1\" style=\"direction:rtl;line-height:300%;\">\n",
    "\t<font face=\"B Nazanin\" size=5>\n",
    "اینجا بنویسید...</li>\n",
    "<br/>\n",
    "\t</font>\n",
    "</div>"
   ]
  },
  {
   "cell_type": "markdown",
   "metadata": {},
   "source": [
    "<p></p>\n",
    "<br />\n",
    "<div id=\"separating_gaussians\" style=\"direction:rtl;line-height:300%;\">\n",
    "\t<font face=\"B Nazanin\" size=5>\n",
    "\t\t<font color=#FF7500 size=6>\n",
    "تفکیک توزیع‌های گوسی\n",
    "        </font>\n",
    "\t\t<p></p>\n",
    "\t\t<hr>\n",
    "<br/>\n",
    "هدف این بخش دسته بندی کردن نقاط و نسبت دادن آن‌ها به توزیع گوسی مربوط به خود می‌باشد.\n",
    "<br/><br/>\n",
    "\t</font>\n",
    "</div>"
   ]
  },
  {
   "cell_type": "markdown",
   "metadata": {},
   "source": [
    "<p></p>\n",
    "<br/>\n",
    "<div id=\"sec_1\" style=\"direction:rtl;line-height:300%;\">\n",
    "\t<font face=\"B Nazanin\" size=5>\n",
    "\t\t<p></p>\n",
    "\t\t<hr>\n",
    "برای این منظور مراحل زیر را انجام دهید:\n",
    "        <p style='direction:rtl; text-align: right'>\n",
    "    <ul style='direction:rtl; text-align: right'>\n",
    "        <font face=\"B Nazanin\" size=5>\n",
    "        <li>تولید m بردار از توزیع نرمال با میانگین بردار ثابت ۰ و انحراف معیار ۱ با بعد d</li>\n",
    "    </ul>\n",
    "</p>\n",
    "\t</font>\n",
    "</div>\n",
    "        </li>\n",
    "<br/>\n",
    "\t</font>\n",
    "</div>"
   ]
  },
  {
   "cell_type": "code",
   "execution_count": 17,
   "metadata": {},
   "outputs": [
    {
     "name": "stdout",
     "output_type": "stream",
     "text": [
      "(10, 3000)\n"
     ]
    }
   ],
   "source": [
    "m = 10\n",
    "dim = 3000 \n",
    "mu, sigma = 0, 1\n",
    "x = np.random.normal(mu, sigma, size = (m, dim))\n",
    "print(x.shape)"
   ]
  },
  {
   "cell_type": "markdown",
   "metadata": {},
   "source": [
    "<p style='direction:rtl; text-align: right'>\n",
    "    <ul style='direction:rtl; text-align: right'>\n",
    "        <font face=\"B Nazanin\" size=5>\n",
    "        <li> تولید m بردار از توزیع نرمال با میانگین بردار ثابت 1 و انحراف معیار ۱ با بعد d</li>\n",
    "    </ul>\n",
    "</p>\n",
    "\t</font>"
   ]
  },
  {
   "cell_type": "code",
   "execution_count": 18,
   "metadata": {},
   "outputs": [
    {
     "name": "stdout",
     "output_type": "stream",
     "text": [
      "(10, 3000)\n"
     ]
    }
   ],
   "source": [
    "mu, sigma = 1, 1\n",
    "y = np.random.normal(mu, sigma, size = (m, dim))\n",
    "print(y.shape)"
   ]
  },
  {
   "cell_type": "markdown",
   "metadata": {},
   "source": [
    "<p style='direction:rtl; text-align: right'>\n",
    "    <ul style='direction:rtl; text-align: right'>\n",
    "        <font face=\"B Nazanin\" size=5>\n",
    "        <li>در این قسمت داده‌ها را لیبل دار کنید. برای بردار‌های x یک ستون ۰ و برای بردار‌های y یک ستون ۱ به آخر داده‌ها اضافه کنید. (برای این کار از تابع np.ones و np.zeros و np.concatenate استفاده کنید)</li>\n",
    "    </ul>\n",
    "</p>\n",
    "\t</font>"
   ]
  },
  {
   "cell_type": "code",
   "execution_count": 19,
   "metadata": {},
   "outputs": [
    {
     "name": "stdout",
     "output_type": "stream",
     "text": [
      "(20, 3001)\n"
     ]
    }
   ],
   "source": [
    "######## Code here!\n",
    "x_label = np.zeros((m, 1))\n",
    "y_label = np.ones((m, 1))\n",
    "####### np.concatenate\n",
    "x = np.concatenate((x, x_label), axis = 1)\n",
    "y = np.concatenate((y, y_label), axis = 1)\n",
    "########\n",
    "allpoint = np.concatenate((x, y), axis = 0)\n",
    "print(allpoint.shape)"
   ]
  },
  {
   "cell_type": "code",
   "execution_count": 20,
   "metadata": {},
   "outputs": [],
   "source": [
    "######## Code here!\n",
    "def getDistance(X, Y):\n",
    "    dif = 0\n",
    "    if len(X) == len(Y):\n",
    "        dif = np.sqrt(np.sum([(X[i] - Y[i]) ** 2 for i in range(len(X))]))\n",
    "    return dif"
   ]
  },
  {
   "cell_type": "markdown",
   "metadata": {},
   "source": [
    "<p style='direction:rtl; text-align: right'>\n",
    "    <ul style='direction:rtl; text-align: right'>\n",
    "        <font face=\"B Nazanin\" size=5>\n",
    "        <li>پیدا کردن فاصله دو به دو نقاط (دقت شود ستون اخر داده allpoint لیبل میباشد و در محاسبات نباید حضور داشته باشد. )</li>\n",
    "    </ul>\n",
    "</p>\n",
    "\t</font>"
   ]
  },
  {
   "cell_type": "code",
   "execution_count": 21,
   "metadata": {},
   "outputs": [
    {
     "name": "stdout",
     "output_type": "stream",
     "text": [
      "[[ 0.         75.61330241 76.51916445 76.80545142 76.59599839 74.98898893\n",
      "  76.26609022 75.91514055 75.73647413 75.75311238 93.44292068 94.51288006\n",
      "  94.25209256 94.06566653 95.41300442 94.24076926 94.29426775 94.2890543\n",
      "  93.78928478 94.55255892]\n",
      " [75.61330241  0.         77.79820562 76.17880754 77.28703137 77.24037778\n",
      "  77.19003961 76.7449273  76.70378757 77.8292476  93.23832634 95.77439999\n",
      "  93.99448468 95.6518701  95.19107887 94.11633251 94.94713121 94.30589322\n",
      "  94.76431334 94.65992333]\n",
      " [76.51916445 77.79820562  0.         77.83770498 78.6189992  76.14563751\n",
      "  77.02633888 78.38362904 77.81741354 78.34498401 94.01419578 93.88104848\n",
      "  94.28925924 94.90746189 95.17405355 93.54716082 94.35178613 95.28820816\n",
      "  94.62219989 94.18732397]\n",
      " [76.80545142 76.17880754 77.83770498  0.         78.1535476  76.58673417\n",
      "  77.11808626 77.58344982 77.2530857  78.19682423 92.41779849 93.21641481\n",
      "  93.76331801 93.67790828 94.78189004 93.99277839 94.00586542 93.92378274\n",
      "  93.7650102  92.14124844]\n",
      " [76.59599839 77.28703137 78.6189992  78.1535476   0.         78.24118716\n",
      "  78.09226916 77.84554763 79.94971747 79.77831842 94.3257925  95.27620283\n",
      "  95.13430314 95.19361477 94.4108409  95.68861621 94.93405346 94.6157818\n",
      "  95.47366283 94.84345613]\n",
      " [74.98898893 77.24037778 76.14563751 76.58673417 78.24118716  0.\n",
      "  76.48636737 75.87376133 76.52991933 77.7939875  93.66279956 94.01262092\n",
      "  93.63500627 94.03860555 95.16344184 93.72180399 93.72673262 94.6053724\n",
      "  94.38742195 94.10805402]\n",
      " [76.26609022 77.19003961 77.02633888 77.11808626 78.09226916 76.48636737\n",
      "   0.         76.85006227 77.67287866 78.16728098 94.08193303 95.96523197\n",
      "  96.71324205 95.80102004 96.80382216 96.47926771 96.36579932 95.7880288\n",
      "  95.63215938 96.96190554]\n",
      " [75.91514055 76.7449273  78.38362904 77.58344982 77.84554763 75.87376133\n",
      "  76.85006227  0.         77.06336007 77.85771484 94.29423835 94.60605237\n",
      "  94.65236329 95.20261411 96.30699699 95.27691957 94.74830644 94.90381742\n",
      "  95.44309035 94.79871662]\n",
      " [75.73647413 76.70378757 77.81741354 77.2530857  79.94971747 76.52991933\n",
      "  77.67287866 77.06336007  0.         78.74181385 93.38438164 93.51906643\n",
      "  94.12227503 93.79601074 94.69157227 94.84407606 94.01803415 94.42142624\n",
      "  94.05793031 94.10927313]\n",
      " [75.75311238 77.8292476  78.34498401 78.19682423 79.77831842 77.7939875\n",
      "  78.16728098 77.85771484 78.74181385  0.         96.10905146 95.50794573\n",
      "  95.35192036 96.63110624 96.32577489 96.36892808 94.9747085  96.27456673\n",
      "  95.9281952  95.95775974]\n",
      " [93.44292068 93.23832634 94.01419578 92.41779849 94.3257925  93.66279956\n",
      "  94.08193303 94.29423835 93.38438164 96.10905146  0.         77.51218711\n",
      "  78.38770828 77.79484309 79.15795256 76.22501113 78.9718159  78.67551158\n",
      "  76.68511482 78.18765208]\n",
      " [94.51288006 95.77439999 93.88104848 93.21641481 95.27620283 94.01262092\n",
      "  95.96523197 94.60605237 93.51906643 95.50794573 77.51218711  0.\n",
      "  75.6824782  77.30163562 77.17967409 75.40859066 75.3979966  76.87748645\n",
      "  77.44624869 75.63876735]\n",
      " [94.25209256 93.99448468 94.28925924 93.76331801 95.13430314 93.63500627\n",
      "  96.71324205 94.65236329 94.12227503 95.35192036 78.38770828 75.6824782\n",
      "   0.         77.89271471 77.88663236 76.34952241 76.87093741 77.00317279\n",
      "  77.0304236  76.75004426]\n",
      " [94.06566653 95.6518701  94.90746189 93.67790828 95.19361477 94.03860555\n",
      "  95.80102004 95.20261411 93.79601074 96.63110624 77.79484309 77.30163562\n",
      "  77.89271471  0.         78.75245959 77.22822347 76.73322633 78.48579518\n",
      "  77.29394587 77.0532455 ]\n",
      " [95.41300442 95.19107887 95.17405355 94.78189004 94.4108409  95.16344184\n",
      "  96.80382216 96.30699699 94.69157227 96.32577489 79.15795256 77.17967409\n",
      "  77.88663236 78.75245959  0.         77.20831796 77.67616594 77.37784729\n",
      "  78.88585946 77.41332843]\n",
      " [94.24076926 94.11633251 93.54716082 93.99277839 95.68861621 93.72180399\n",
      "  96.47926771 95.27691957 94.84407606 96.36892808 76.22501113 75.40859066\n",
      "  76.34952241 77.22822347 77.20831796  0.         76.63041379 77.30536361\n",
      "  77.64587641 77.19420153]\n",
      " [94.29426775 94.94713121 94.35178613 94.00586542 94.93405346 93.72673262\n",
      "  96.36579932 94.74830644 94.01803415 94.9747085  78.9718159  75.3979966\n",
      "  76.87093741 76.73322633 77.67616594 76.63041379  0.         76.93426436\n",
      "  77.99568925 75.24297552]\n",
      " [94.2890543  94.30589322 95.28820816 93.92378274 94.6157818  94.6053724\n",
      "  95.7880288  94.90381742 94.42142624 96.27456673 78.67551158 76.87748645\n",
      "  77.00317279 78.48579518 77.37784729 77.30536361 76.93426436  0.\n",
      "  77.51397772 75.79759651]\n",
      " [93.78928478 94.76431334 94.62219989 93.7650102  95.47366283 94.38742195\n",
      "  95.63215938 95.44309035 94.05793031 95.9281952  76.68511482 77.44624869\n",
      "  77.0304236  77.29394587 78.88585946 77.64587641 77.99568925 77.51397772\n",
      "   0.         75.92410698]\n",
      " [94.55255892 94.65992333 94.18732397 92.14124844 94.84345613 94.10805402\n",
      "  96.96190554 94.79871662 94.10927313 95.95775974 78.18765208 75.63876735\n",
      "  76.75004426 77.0532455  77.41332843 77.19420153 75.24297552 75.79759651\n",
      "  75.92410698  0.        ]]\n"
     ]
    }
   ],
   "source": [
    "######## Code here!\n",
    "allpoint_without_label = allpoint[:, 0: -1]\n",
    "distances = np.zeros((len(allpoint_without_label), len(allpoint_without_label)))\n",
    "for i in range(0, len(allpoint_without_label)):\n",
    "    for j in range(0, len(allpoint_without_label)):        \n",
    "         distances[i, j] = getDistance(allpoint_without_label[i], allpoint_without_label[j])\n",
    "print(distances)"
   ]
  },
  {
   "cell_type": "markdown",
   "metadata": {},
   "source": [
    "<p style='direction:rtl; text-align: right'>\n",
    "    <ul style='direction:rtl; text-align: right'>\n",
    "        <font face=\"B Nazanin\" size=5>\n",
    "        <li>نمایش فاصله ها (برای نمایش داده ها از plt.scatter استفاده شود. از distances_plot به عنوان مولفه x استفاده شود. برای مولفه y از np.zeros استفاده کنید.</li>\n",
    "    </ul>\n",
    "</p>\n",
    "\t</font>"
   ]
  },
  {
   "cell_type": "code",
   "execution_count": 22,
   "metadata": {},
   "outputs": [
    {
     "name": "stdout",
     "output_type": "stream",
     "text": [
      "(20, 20)\n",
      "Error value:0.0\n"
     ]
    },
    {
     "data": {
      "image/png": "[encoded data removed]",
      "text/plain": [
       "<Figure size 432x288 with 1 Axes>"
      ]
     },
     "metadata": {
      "needs_background": "light"
     },
     "output_type": "display_data"
    }
   ],
   "source": [
    "######## Code here!\n",
    "distances_plot = distances[distances != 0]\n",
    "print(distances.shape)\n",
    "x_s = distances_plot\n",
    "y_s = np.zeros(len(distances_plot))\n",
    "plt.scatter(x_s, y_s)\n",
    "\n",
    "########\n",
    "error = 0\n",
    "distance_threshold = 85\n",
    "\n",
    "######## compute error\n",
    "for i in range(len(distances)):\n",
    "    for j in range(len(distances[i])):\n",
    "        if (distances[i][j] < distance_threshold and allpoint[i, dim] != allpoint[j, dim]) or (distances[i][j] > distance_threshold and allpoint[i, dim] == allpoint[j, dim]):\n",
    "            error += 1\n",
    "print(\"Error value:{}\".format(error / (len(distances) ** 2)))"
   ]
  },
  {
   "cell_type": "code",
   "execution_count": null,
   "metadata": {},
   "outputs": [],
   "source": []
  },
  {
   "cell_type": "code",
   "execution_count": 23,
   "metadata": {},
   "outputs": [
    {
     "name": "stdout",
     "output_type": "stream",
     "text": [
      "(10, 3000)\n",
      "(10, 3000)\n",
      "(20, 3001)\n",
      "[[ 0.         76.69287209 76.61336091 77.31480173 77.98850068 77.0945092\n",
      "  77.32041739 76.48382167 76.13477928 77.09631834 94.19049349 95.66586584\n",
      "  95.88311795 96.3341001  95.63726275 95.5253474  94.66262635 92.63348977\n",
      "  94.42836162 95.56869322]\n",
      " [76.69287209  0.         76.49531442 76.40583258 77.96393835 77.58590951\n",
      "  77.18996314 76.1416416  75.58583289 76.61761489 94.32791771 94.64188738\n",
      "  94.61266392 95.70250285 94.4885624  94.21964551 94.32574341 91.74712012\n",
      "  94.52175378 94.82186366]\n",
      " [76.61336091 76.49531442  0.         74.57358032 77.51547346 77.06097153\n",
      "  77.50872856 77.68501025 77.47665636 76.00160922 93.56368645 94.08173292\n",
      "  94.09681452 96.05835154 94.00443995 94.12771665 93.77283105 91.51567395\n",
      "  92.70026819 94.60454657]\n",
      " [77.31480173 76.40583258 74.57358032  0.         76.12134905 76.14190206\n",
      "  76.59785084 75.02471952 76.04513834 76.28063585 94.32053052 93.07731791\n",
      "  93.38666931 94.68047945 94.36226919 93.5314481  94.17846236 91.45047093\n",
      "  92.4155968  94.76526272]\n",
      " [77.98850068 77.96393835 77.51547346 76.12134905  0.         76.97636773\n",
      "  75.40444195 76.7530548  77.75584334 76.7684251  94.03383195 94.1981908\n",
      "  95.79987038 95.75341586 95.42539721 93.82497601 94.10330624 91.78007916\n",
      "  93.02740203 93.93484902]\n",
      " [77.0945092  77.58590951 77.06097153 76.14190206 76.97636773  0.\n",
      "  77.96917591 76.75779984 76.79003667 76.48404685 93.46331516 92.95315917\n",
      "  93.72538661 95.71292359 93.98131719 94.57504062 92.38351187 92.20385491\n",
      "  93.45862804 95.33232956]\n",
      " [77.32041739 77.18996314 77.50872856 76.59785084 75.40444195 77.96917591\n",
      "   0.         77.51159345 78.20694104 77.04891587 95.08383858 95.5044151\n",
      "  95.58637616 96.77031746 97.04555393 96.64193165 95.33274604 95.14563224\n",
      "  95.10214879 96.04401833]\n",
      " [76.48382167 76.1416416  77.68501025 75.02471952 76.7530548  76.75779984\n",
      "  77.51159345  0.         76.91114251 76.28492733 96.06515867 95.52269845\n",
      "  95.09457976 96.58737395 95.94696078 96.6512263  94.92701853 94.25278792\n",
      "  95.64289121 95.13788306]\n",
      " [76.13477928 75.58583289 77.47665636 76.04513834 77.75584334 76.79003667\n",
      "  78.20694104 76.91114251  0.         77.04781519 96.28255596 96.09112835\n",
      "  95.57959802 96.70696186 96.41470833 95.67589817 96.35600716 93.09668538\n",
      "  95.64092831 96.59285248]\n",
      " [77.09631834 76.61761489 76.00160922 76.28063585 76.7684251  76.48404685\n",
      "  77.04891587 76.28492733 77.04781519  0.         93.69011691 93.67165292\n",
      "  95.45487387 95.96903104 95.25676614 95.32898341 94.62708003 91.98605069\n",
      "  93.03623159 94.57613042]\n",
      " [94.19049349 94.32791771 93.56368645 94.32053052 94.03383195 93.46331516\n",
      "  95.08383858 96.06515867 96.28255596 93.69011691  0.         75.9031429\n",
      "  77.27840145 76.77997576 79.92353799 76.10847239 76.4787825  74.67127825\n",
      "  76.54531259 75.86112394]\n",
      " [95.66586584 94.64188738 94.08173292 93.07731791 94.1981908  92.95315917\n",
      "  95.5044151  95.52269845 96.09112835 93.67165292 75.9031429   0.\n",
      "  75.40333726 77.69672347 77.67190097 76.73176674 75.38548585 75.46180588\n",
      "  76.03243794 74.60612384]\n",
      " [95.88311795 94.61266392 94.09681452 93.38666931 95.79987038 93.72538661\n",
      "  95.58637616 95.09457976 95.57959802 95.45487387 77.27840145 75.40333726\n",
      "   0.         78.82510421 77.90032229 77.0221173  78.47615402 75.88329046\n",
      "  78.10924163 76.90771437]\n",
      " [96.3341001  95.70250285 96.05835154 94.68047945 95.75341586 95.71292359\n",
      "  96.77031746 96.58737395 96.70696186 95.96903104 76.77997576 77.69672347\n",
      "  78.82510421  0.         79.47245065 77.82487314 79.61354692 77.57471675\n",
      "  79.60236005 77.81829153]\n",
      " [95.63726275 94.4885624  94.00443995 94.36226919 95.42539721 93.98131719\n",
      "  97.04555393 95.94696078 96.41470833 95.25676614 79.92353799 77.67190097\n",
      "  77.90032229 79.47245065  0.         78.68743314 78.54160062 76.3645177\n",
      "  78.33028023 77.43547677]\n",
      " [95.5253474  94.21964551 94.12771665 93.5314481  93.82497601 94.57504062\n",
      "  96.64193165 96.6512263  95.67589817 95.32898341 76.10847239 76.73176674\n",
      "  77.0221173  77.82487314 78.68743314  0.         77.8288355  76.29986484\n",
      "  78.42475908 76.15551521]\n",
      " [94.66262635 94.32574341 93.77283105 94.17846236 94.10330624 92.38351187\n",
      "  95.33274604 94.92701853 96.35600716 94.62708003 76.4787825  75.38548585\n",
      "  78.47615402 79.61354692 78.54160062 77.8288355   0.         75.15656543\n",
      "  77.13743986 76.11587278]\n",
      " [92.63348977 91.74712012 91.51567395 91.45047093 91.78007916 92.20385491\n",
      "  95.14563224 94.25278792 93.09668538 91.98605069 74.67127825 75.46180588\n",
      "  75.88329046 77.57471675 76.3645177  76.29986484 75.15656543  0.\n",
      "  74.74360704 74.71839854]\n",
      " [94.42836162 94.52175378 92.70026819 92.4155968  93.02740203 93.45862804\n",
      "  95.10214879 95.64289121 95.64092831 93.03623159 76.54531259 76.03243794\n",
      "  78.10924163 79.60236005 78.33028023 78.42475908 77.13743986 74.74360704\n",
      "   0.         76.16658117]\n",
      " [95.56869322 94.82186366 94.60454657 94.76526272 93.93484902 95.33232956\n",
      "  96.04401833 95.13788306 96.59285248 94.57613042 75.86112394 74.60612384\n",
      "  76.90771437 77.81829153 77.43547677 76.15551521 76.11587278 74.71839854\n",
      "  76.16658117  0.        ]]\n",
      "(20, 20)\n",
      "Error value:0.0\n"
     ]
    },
    {
     "data": {
      "image/png": "[encoded data removed]",
      "text/plain": [
       "<Figure size 432x288 with 1 Axes>"
      ]
     },
     "metadata": {
      "needs_background": "light"
     },
     "output_type": "display_data"
    }
   ],
   "source": [
    "m = 10\n",
    "dim = 3000 \n",
    "mu, sigma = 0, 1\n",
    "x = np.random.normal(mu, sigma, size = (m, dim))\n",
    "print(x.shape)\n",
    "\n",
    "\n",
    "mu, sigma = 1, 1\n",
    "y = np.random.normal(mu, sigma, size = (m, dim))\n",
    "print(y.shape)\n",
    "\n",
    "\n",
    "######## Code here!\n",
    "x_label = np.zeros((m, 1))\n",
    "y_label = np.ones((m, 1))\n",
    "####### np.concatenate\n",
    "x = np.concatenate((x, x_label), axis = 1)\n",
    "y = np.concatenate((y, y_label), axis = 1)\n",
    "########\n",
    "allpoint = np.concatenate((x, y), axis = 0)\n",
    "print(allpoint.shape)\n",
    "\n",
    "\n",
    "######## Code here!\n",
    "def getDistance(X, Y):\n",
    "    dif = 0\n",
    "    if len(X) == len(Y):\n",
    "        dif = np.sqrt(np.sum([(X[i] - Y[i]) ** 2 for i in range(len(X))]))\n",
    "    return dif\n",
    "\n",
    "\n",
    "######## Code here!\n",
    "allpoint_without_label = allpoint[:, 0: -1]\n",
    "distances = np.zeros((len(allpoint_without_label), len(allpoint_without_label)))\n",
    "for i in range(0, len(allpoint_without_label)):\n",
    "    for j in range(0, len(allpoint_without_label)):        \n",
    "         distances[i, j] = getDistance(allpoint_without_label[i], allpoint_without_label[j])\n",
    "print(distances)\n",
    "\n",
    "\n",
    "######## Code here!\n",
    "distances_plot = distances[distances != 0]\n",
    "print(distances.shape)\n",
    "x_s = distances_plot\n",
    "y_s = np.zeros(len(distances_plot))\n",
    "plt.scatter(x_s, y_s)\n",
    "\n",
    "########\n",
    "error = 0\n",
    "distance_threshold = 85\n",
    "\n",
    "######## compute error\n",
    "for i in range(len(distances)):\n",
    "    for j in range(len(distances[i])):\n",
    "        if (distances[i][j] < distance_threshold and allpoint[i, dim] != allpoint[j, dim]) or (distances[i][j] > distance_threshold and allpoint[i, dim] == allpoint[j, dim]):\n",
    "            error += 1\n",
    "print(\"Error value:{}\".format(error / (len(distances) ** 2)))"
   ]
  },
  {
   "cell_type": "markdown",
   "metadata": {},
   "source": [
    "<p></p>\n",
    "<br />\n",
    "<div id=\"random_projection\" style=\"direction:rtl;line-height:300%;\">\n",
    "\t<font face=\"B Nazanin\" size=5>\n",
    "\t\t<font color=#FF7500 size=6>\n",
    "کاهش بعد (Random Projection)\n",
    "        </font>\n",
    "\t\t<p></p>\n",
    "\t\t<hr><br/>\n",
    "\t</font>\n",
    "</div>"
   ]
  },
  {
   "cell_type": "markdown",
   "metadata": {},
   "source": [
    "<p></p>\n",
    "<br/>\n",
    "<div id=\"sec_1\" style=\"direction:rtl;line-height:300%;\">\n",
    "\t<font face=\"B Nazanin\" size=5>\n",
    "\t\t<p></p>\n",
    "\t\t<hr>\n",
    "        <li>تابعِ محاسبه‌ی تصویر بردار روی زیرفضا</li>\n",
    "<br/>\n",
    "در این قسمت تابعِ projectSubspace را با 2 پارامتر ورودی (که اولی آرایه‌ای $m \\times d$ از $m$ بردار $d$ بعدی است که می‌خواهیم آن‌ها را تصویر کنیم و دومی آرایه‌ای $k \\times d$ از $k$ بردار مستقل گوسی $d$ بعدی است که قرار است تصویر کردن به کمک آن‌ها انجام شود). برای این منظور مراحل زیر را انجام دهید:\n",
    "<p style='direction:rtl; text-align: right'>\n",
    "    <ul style='direction:rtl; text-align: right'>\n",
    "        <li>به ازای هر یک از بردارهای پارامتر ورودی اول، ضرب داخلی آن بردار را با هر یک از kتا بردار موجود در پارامتر ورودی دوم را به دست آورید و در نهایت آن را بر $\\sqrt{k}$ تقسیم کنید.</li>\n",
    "    </ul>\n",
    "</p>\n",
    "\t</font>\n",
    "</div>"
   ]
  },
  {
   "cell_type": "code",
   "execution_count": 63,
   "metadata": {},
   "outputs": [],
   "source": [
    "######## Code here!\n",
    "def projectSubspace(X, W):\n",
    "    d = 0\n",
    "    m = 0\n",
    "    dim_of_x = len(X.shape)\n",
    "    if (dim_of_x > 1):\n",
    "        m = X.shape[0]\n",
    "    else:\n",
    "        m = 1\n",
    "    k = W.shape[0]\n",
    "    d = W.shape[1]\n",
    "    if (dim_of_x == 1):\n",
    "        projection = [getInnerProduct(X, W[i]) for i in range(k)]\n",
    "    else:\n",
    "        projection = [[getInnerProduct(X[i], W[j]) for j in range(k)] for i in range(m)]\n",
    "    return projection"
   ]
  },
  {
   "cell_type": "markdown",
   "metadata": {},
   "source": [
    "<p style='direction:rtl; text-align: right'>\n",
    "    <ul style='direction:rtl; text-align: right'>\n",
    "        <font face=\"B Nazanin\" size=5>\n",
    "        <li>u: تولید n بردار از توزیع نرمال با میانگین ۰ و انحراف معیار ۱ با بعد d</li>\n",
    "        <li>v: تولید k بردار از توزیع نرمال با میانگین ۰ و انحراف معیار ۱ با بعد d</li>\n",
    "        <li>از تابع projectSubspace استفاده کنید و بردار‌های u را روی بردار‌های v تصویر کنید و حاصل را در ans ذخیره کنید.</li>\n",
    "        <li>فاصله دو به دو بردار‌های ans را حساب کنید و میانگین فاصله‌ها را نمایش دهید.</li>\n",
    "        <li>فاصله دو به دو بردار‌های u را حساب کنید و میانگین فاصله‌ها را نمایش دهید.</li>\n",
    "    </ul>\n",
    "</p>\n",
    "\t</font>\n",
    "</div>"
   ]
  },
  {
   "cell_type": "code",
   "execution_count": 64,
   "metadata": {},
   "outputs": [
    {
     "name": "stdout",
     "output_type": "stream",
     "text": [
      "31.021824419986324\n",
      "31.20027527649798\n"
     ]
    }
   ],
   "source": [
    "######## Code here!\n",
    "n = 100\n",
    "k = int(10 * np.log(n))\n",
    "dim = 500\n",
    "mu, sigma = 0, 1\n",
    "u = np.random.normal(mu, sigma, size = (n, dim))\n",
    "v = np.random.normal(mu, sigma, size = (k, dim))\n",
    "random_projection = projectSubspace(u, v)\n",
    "ans = random_projection / np.sqrt(k)\n",
    "ans_distances = [[distance(ans[i], ans[j]) for j in range(ans.shape[0])] for i in range(ans.shape[0])]\n",
    "u_distances = [[distance(u[i], u[j]) for j in range(u.shape[0])] for i in range(u.shape[0])]\n",
    "print(np.average(ans_distances))\n",
    "print(np.average(u_distances))"
   ]
  }
 ],
 "metadata": {
  "kernelspec": {
   "display_name": "Python 3",
   "language": "python",
   "name": "python3"
  },
  "language_info": {
   "codemirror_mode": {
    "name": "ipython",
    "version": 3
   },
   "file_extension": ".py",
   "mimetype": "text/x-python",
   "name": "python",
   "nbconvert_exporter": "python",
   "pygments_lexer": "ipython3",
   "version": "3.8.5"
  }
 },
 "nbformat": 4,
 "nbformat_minor": 4
}
