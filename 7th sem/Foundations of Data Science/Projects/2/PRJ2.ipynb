{
 "cells": [
  {
   "cell_type": "markdown",
   "metadata": {},
   "source": [
    "<div style=\"direction:rtl;line-height:300%;\">\n",
    "\t<font face=\"B Nazanin\" size=5>\n",
    "\t\t<div align=center>\n",
    "\t\t\t<font face=\"IranNastaliq\" size=30>\n",
    "\t\t\t\t<p></p>\n",
    "\t\t\t\t<p></p>\n",
    "به نام خدا\n",
    "\t\t\t\t<p></p>\n",
    "\t\t\t</font>\n",
    "\t\t\t<font color=#FF7500>\n",
    "دانشگاه صنعتی اصفهان - دانشکده علوم ریاضی\n",
    "            </font>\n",
    "\t\t\t<p></p>\n",
    "\t\t\t<font color=blue>\n",
    "مبانی ریاضی علوم داده\n",
    "            </font>\n",
    "\t\t\t<br />\n",
    "\t\t\t<br />\n",
    "پاییز ۱۴۰۱\n",
    "\t\t</div>\n",
    "\t\t<hr/>\n",
    "\t\t<font color=red size=6>\n",
    "\t\t\t<br />\n",
    "\t\t\t<div align=center>\t\n",
    "مینی‌پروژه‌ی ۲ (بهترین زیرفضای تقریب‌زننده و تجزیه‌ی مقدار تکین)\n",
    "            </div>\n",
    "\t\t</font>\n",
    "\t\t<br />\n",
    "\t\t<hr />\n",
    "\t\t<style type=\"text/css\" scoped>\n",
    "        p{\n",
    "        border: 1px solid #a2a9b1;background-color: #f8f9fa;display: inline-block;\n",
    "        };\n",
    "        </style>\n",
    "\t\t<div>\n",
    "\t\t\t<h3>فهرست مطالب</h3>\n",
    "\t\t\t<ul style=\"margin-right: 0;\">\n",
    "                <li>\n",
    "\t\t\t\t\t<a href=\"#1st\">\n",
    "                       Power Method\n",
    "                    </a>\n",
    "\t\t\t\t</li>\n",
    "                <li>\n",
    "\t\t\t\t\t<a href=\"#2nd\">\n",
    "                       استفاده از کاهش بعد\n",
    "                    </a>\n",
    "\t\t\t\t</li>\n",
    "                <li>\n",
    "\t\t\t\t\t<a href=\"#3rd\">\n",
    "                       جلوه‌ای از کاهش بعد (SVD)\n",
    "                    </a>\n",
    "\t\t\t\t</li>\n",
    "                <li>\n",
    "\t\t\t\t\t<a href=\"#4th\">\n",
    "                       جلوه‌ای از کاهش بعد (PCA) \n",
    "                    </a>\n",
    "\t\t\t\t</li>\n",
    "\t\t\t</ul>\n",
    "\t\t</div>\n",
    "\t</font>\n",
    "</div>"
   ]
  },
  {
   "cell_type": "markdown",
   "metadata": {},
   "source": [
    "<p></p>\n",
    "<br/>\n",
    "<div id=\"sec_1\" style=\"direction:rtl;line-height:300%;\">\n",
    "\t<font face=\"B Nazanin\" size=5>\n",
    "\t\t<p></p>\n",
    "\t\t<hr>\n",
    "<br/>\n",
    "ابتدا باید کتابخانه های زیر را \"import\" کنیم:\n",
    "<p style='direction:rtl; text-align: right'>\n",
    "    <ul style='direction:rtl; text-align: right'>\n",
    "        <li>numpy: برای کار با ماتریس ها</li>\n",
    "        <li>matplotlib: برای رسم نمودار</li>\n",
    "        <li>sklearn.decomposition.PCA: برای کاهش بعد</li>\n",
    "        <li>scipy: برای تولید پایه اورتونرمال </li>\n",
    "    </ul>\n",
    "</p>\n",
    "\t</font>\n",
    "</div>"
   ]
  },
  {
   "cell_type": "code",
   "execution_count": null,
   "metadata": {},
   "outputs": [],
   "source": [
    "######## Code here!\n",
    "\n",
    "\n"
   ]
  },
  {
   "cell_type": "markdown",
   "metadata": {},
   "source": [
    "<p></p>\n",
    "<br />\n",
    "<div id=\"1st\" style=\"direction:rtl;line-height:300%;\">\n",
    "\t<font face=\"B Nazanin\" size=5>\n",
    "\t\t<font color=#FF7500 size=6>\n",
    "Power Method\n",
    "        </font>\n",
    "\t\t<p></p>\n",
    "\t\t<hr>\n",
    "الگوریتم Power Method را برای محاسبه‌ی مقدار ویژه و بردار ویژه‌ی اول ماتریس زیر پیاده‌سازی کنید. تعداد پیمایش‌ها (به عبارتی توان ماتریس B در رابطه‌ی Power Method ) را برابر 100 قرار دهید.<br/>\n",
    "$$\n",
    "B =\n",
    "\\begin{pmatrix}\n",
    "1 & 2 & 3 & 4 & 5 & 6 & 7 & 8 & 9 & 10 \\\\\n",
    "2 & 3 & 4 & 5 & 6 & 7 & 8 & 9 & 10 & 0 \\\\\n",
    "3 & 4 & 5 & 6 & 7 & 8 & 9 & 10 & 0 & 0 \\\\\n",
    "4 & 5 & 6 & 7 & 8 & 9 & 10 & 0 & 0 & 0 \\\\\n",
    "5 & 6 & 7 & 8 & 9 & 10 & 0 & 0 & 0 & 0 \\\\\n",
    "6 & 7 & 8 & 9 & 10 & 0 & 0 & 0 & 0 & 0 \\\\\n",
    "7 & 8 & 9 & 10 & 0 & 0 & 0 & 0 & 0 & 0 \\\\\n",
    "8 & 9 & 10 & 0 & 0 & 0 & 0 & 0 & 0 & 0 \\\\\n",
    "9 & 10 & 0 & 0 & 0 & 0 & 0 & 0 & 0 & 0 \\\\\n",
    "10 & 0 & 0 & 0 & 0 & 0 & 0 & 0 & 0 & 0 \n",
    "\\end{pmatrix}\n",
    "$$\n",
    "        <br/><br/>\n",
    "\t</font>\n",
    "</div>"
   ]
  },
  {
   "cell_type": "code",
   "execution_count": null,
   "metadata": {},
   "outputs": [],
   "source": [
    "######## Code here!\n",
    "\n",
    "\n"
   ]
  },
  {
   "cell_type": "markdown",
   "metadata": {},
   "source": [
    "<p></p>\n",
    "<br/>\n",
    "<div id=\"sec_1\" style=\"direction:rtl;line-height:300%;\">\n",
    "\t<font face=\"B Nazanin\" size=5>\n",
    "\t\t<p></p>\n",
    "\t\t<hr>\n",
    "روش پیاده‌سازی شده در قسمت قبل را طوری تغییر دهید که بتواند 4 مقدار ویژه و بردار ویژه را به دست بیاورد. برای این منظور\n",
    "<p style='direction:rtl; text-align: right'>\n",
    "    <ul style='direction:rtl; text-align: right'>\n",
    "        <li>گام 1: 4 بردار تصادفی تولید کنید.</li>\n",
    "        <li>گام 2: یک پایه‌ی اورتونرمال برای فضای span شده توسط این 4 بردار پیدا کنید (برای تولید پایه‌ی اورتونرمال برای مجموعه‌ای از بردارها از تابع scipy.linalg.orth() استفاده کنید).\n",
    "        </li>\n",
    "        <li>گام 3:  سپس هر یک از بردارهای پایه‌ی اورتونرمال را در ماتریس B ضرب کنید. حاصل 4 بردار خواهد بود.</li>\n",
    "        <li>گام 4: گام 2 را با 4 بردار به دست آمده در گام 3 به تعداد پیمایش‌ها (به عبارتی توان ماتریس B در رابطه‌ی Power Method) تکرار کنید.</li>\n",
    "    </ul>\n",
    "حاصل 4 بردار ویژه خواهد بود. برای به دست آوردن مقادیر ویژه نظیر هر بردار، ماتریس B را از راست در هر یک از بردار ویژه‌ها ضرب کنید و سپس به همان بردار ویژه تقسیم کنید.\n",
    "</p>\n",
    "        </li>\n",
    "<br/>\n",
    "\t</font>\n",
    "</div>"
   ]
  },
  {
   "cell_type": "code",
   "execution_count": null,
   "metadata": {
    "scrolled": false
   },
   "outputs": [],
   "source": [
    "######## Code here!\n",
    "\n",
    "\n"
   ]
  },
  {
   "cell_type": "markdown",
   "metadata": {},
   "source": [
    "<p></p>\n",
    "<br/>\n",
    "<div id=\"sec_1\" style=\"direction:rtl;line-height:300%;\">\n",
    "\t<font face=\"B Nazanin\" size=5>\n",
    "\t\t<p></p>\n",
    "\t\t<hr>\n",
    "با استفاده از تابع آماده‌ی np.linalg.eig() بردار ویژه و مقدار ویژه‌های ماتریس B را به دست آورید و با نتایج به دست آمده در قسمت‌های قبل مقایسه کنید.  \n",
    "        </li>\n",
    "<br/>\n",
    "\t</font>\n",
    "</div>"
   ]
  },
  {
   "cell_type": "code",
   "execution_count": null,
   "metadata": {},
   "outputs": [],
   "source": [
    "######## Code here!\n",
    "\n",
    "\n"
   ]
  },
  {
   "cell_type": "markdown",
   "metadata": {},
   "source": [
    "# ##################################################################"
   ]
  },
  {
   "cell_type": "markdown",
   "metadata": {},
   "source": [
    "<p></p>\n",
    "<br/>\n",
    "<div id=\"2nd\" style=\"direction:rtl;line-height:300%;\">\n",
    "\t<font face=\"B Nazanin\" size=5>\n",
    "\t\t<font color=#FF7500 size=6>\n",
    "استفاده از کاهش بعد\n",
    "        </font>\n",
    "\t\t<p></p>\n",
    "\t\t<hr>\n",
    "<br/>\n",
    "<p style='direction:rtl; text-align: right'>\n",
    "    برای تولید دیتا با استفاده از پایه اورتونرمال\n",
    "    عملیات زیر را انجام دهید:\n",
    "    <ul style='direction:rtl; text-align: right'>\n",
    "        <li>ابتدا با استفاده از تابع np.zeros یک آرایه با ابعاد N در dim بسازید. نام متغیر نظیر آرایه را alpha بگذارید.</li>\n",
    "        <li>درایه‌های سطر i در alpha را با یک توزیع نرمال با میانگین ۰ و انحراف معیار i + 1 مقداردهی کنید.</li>\n",
    "    </ul>\n",
    "\t</font>\n",
    "</div>"
   ]
  },
  {
   "cell_type": "code",
   "execution_count": null,
   "metadata": {},
   "outputs": [],
   "source": [
    "dim = 20\n",
    "N = 1000\n",
    "######## Code here!\n",
    "\n",
    "\n"
   ]
  },
  {
   "cell_type": "markdown",
   "metadata": {},
   "source": [
    "<p></p>\n",
    "<br/>\n",
    "<div id=\"5th\" style=\"direction:rtl;line-height:300%;\">\n",
    "\t<font face=\"B Nazanin\" size=5>\n",
    "\t\t<font color=#FF7500 size=6>\n",
    "        </font>\n",
    "\t\t<p></p>\n",
    "\t\t<hr>\n",
    "<br/>\n",
    "<p style='direction:rtl; text-align: right'>\n",
    "    استفاده از PCA برای کاهش بعد\n",
    "    <ul style='direction:rtl; text-align: right'>\n",
    "        <li>ابتدا یک شیی از PCA بسازید.</li>\n",
    "        <li>با استفاده از تابع fit موجود در شیی PCA عملیات pca را روی دیتا alpha_v انجام دهید.</li>\n",
    "        <li> با استفاده از ویژگی components_ موجود در شیی pca بردار های تکین را مشاهده کنید.</li>\n",
    "        <li> با استفاده از ویژگی explained_variance_ موجود در شیی pca مقدار های تکین را مشاهده کنید.</li>\n",
    "    </ul>\n",
    "\t</font>\n",
    "</div>"
   ]
  },
  {
   "cell_type": "code",
   "execution_count": null,
   "metadata": {},
   "outputs": [],
   "source": [
    "######## Code here!\n",
    "\n",
    "\n"
   ]
  },
  {
   "cell_type": "markdown",
   "metadata": {},
   "source": [
    "<p></p>\n",
    "<br/>\n",
    "<div id=\"5th\" style=\"direction:rtl;line-height:300%;\">\n",
    "\t<font face=\"B Nazanin\" size=5>\n",
    "\t\t<font color=#FF7500 size=6>\n",
    "        </font>\n",
    "\t\t<p></p>\n",
    "\t\t<hr>\n",
    "<br/>\n",
    "<p style='direction:rtl; text-align: right'>\n",
    "    کاهش بعد به ۳ بعد\n",
    "    <ul style='direction:rtl; text-align: right'>\n",
    "        <li>ابتدا یک شیی از PCA با ورودی n_components=3 بسازید.</li>\n",
    "        <li>با استفاده از تابع fit موجود در شیی PCA عملیات pca را روی دیتا alpha_v انجام دهید.</li>\n",
    "        <li> ویژگی explained_variance_ratio_ موجود در شیی pca درصد حفظ دیتا به ازای هر کدام از بعد ها را می دهد.</li>\n",
    "    </ul>\n",
    "\t</font>\n",
    "</div>"
   ]
  },
  {
   "cell_type": "code",
   "execution_count": null,
   "metadata": {},
   "outputs": [],
   "source": [
    "######## Code here!\n",
    "\n",
    "\n"
   ]
  },
  {
   "cell_type": "markdown",
   "metadata": {},
   "source": [
    "<p></p>\n",
    "<br/>\n",
    "<div id=\"5th\" style=\"direction:rtl;line-height:300%;\">\n",
    "\t<font face=\"B Nazanin\" size=5>\n",
    "\t\t<font color=#FF7500 size=6>\n",
    "        </font>\n",
    "\t\t<p></p>\n",
    "\t\t<hr>\n",
    "<br/>\n",
    "<p style='direction:rtl; text-align: right'>\n",
    "    <ul style='direction:rtl; text-align: right'>\n",
    "با کاهش بعد به ۳، چند درصد از اطلاعات حفظ می شود؟\n",
    "    </ul>\n",
    "\t</font>\n",
    "</div>"
   ]
  },
  {
   "cell_type": "markdown",
   "metadata": {},
   "source": [
    "### Answer here!\n",
    "<p></p>\n",
    "<br/>\n",
    "<div id=\"sec_1\" style=\"direction:rtl;line-height:300%;\">\n",
    "\t<font face=\"B Nazanin\" size=5>\n",
    "اینجا بنویسید...</li>\n",
    "<br/>\n",
    "\t</font>\n",
    "</div>"
   ]
  },
  {
   "cell_type": "markdown",
   "metadata": {},
   "source": [
    "<p></p>\n",
    "<br/>\n",
    "<div id=\"5th\" style=\"direction:rtl;line-height:300%;\">\n",
    "\t<font face=\"B Nazanin\" size=5>\n",
    "\t\t<font color=#FF7500 size=6>\n",
    "        </font>\n",
    "\t\t<p></p>\n",
    "\t\t<hr>\n",
    "<br/>\n",
    "<p style='direction:rtl; text-align: right'>\n",
    "    <ul style='direction:rtl; text-align: right'>\n",
    "به کمک یک حلقه مقدار n_components مناسب برای حفظ 90 درصد از اطلاعات را به دست آورید.\n",
    "        </ul>\n",
    "\t</font>\n",
    "</div>"
   ]
  },
  {
   "cell_type": "code",
   "execution_count": null,
   "metadata": {},
   "outputs": [],
   "source": [
    "######## Code here!\n",
    "\n",
    "\n"
   ]
  },
  {
   "cell_type": "markdown",
   "metadata": {},
   "source": [
    "<p></p>\n",
    "<br/>\n",
    "<div id=\"5th\" style=\"direction:rtl;line-height:300%;\">\n",
    "\t<font face=\"B Nazanin\" size=5>\n",
    "\t\t<font color=#FF7500 size=6>\n",
    "        </font>\n",
    "\t\t<p></p>\n",
    "\t\t<hr>\n",
    "<br/>\n",
    "<p style='direction:rtl; text-align: right'>\n",
    "    <ul style='direction:rtl; text-align: right'>\n",
    "برای حفظ ۹۰ درصد از اطلاعات به چند بعد نیاز داریم؟\n",
    "    </ul>\n",
    "\t</font>\n",
    "</div>"
   ]
  },
  {
   "cell_type": "markdown",
   "metadata": {},
   "source": [
    "### Answer here!\n",
    "<p></p>\n",
    "<br/>\n",
    "<div id=\"sec_1\" style=\"direction:rtl;line-height:300%;\">\n",
    "\t<font face=\"B Nazanin\" size=5>\n",
    "اینجا بنویسید...</li>\n",
    "<br/>\n",
    "\t</font>\n",
    "</div>"
   ]
  },
  {
   "cell_type": "markdown",
   "metadata": {},
   "source": [
    "# ##################################################################"
   ]
  },
  {
   "cell_type": "markdown",
   "metadata": {},
   "source": [
    "<p></p>\n",
    "<br/>\n",
    "<div id=\"3rd\" style=\"direction:rtl;line-height:300%;\">\n",
    "\t<font face=\"B Nazanin\" size=5>\n",
    "\t\t<font color=#FF7500 size=6>\n",
    "جلوه‌ای از کاهش بعد (SVD)\n",
    "        </font>\n",
    "\t\t<p></p>\n",
    "\t\t<hr>\n",
    "<br/>\n",
    "مسئله‌ی کاهش بعد و تجزیه‌ی مقدار تکین در فشرده‌سازی تصاویر کاربرد دارد. هدف این بخش مشاهده‌ی تاثیر مقادیر تکین در حفظ وضوح تصاویر است.\n",
    "<br/><br/>\n",
    "\t</font>\n",
    "</div>"
   ]
  },
  {
   "cell_type": "markdown",
   "metadata": {},
   "source": [
    "<div id=\"sec_1\" style=\"direction:rtl;line-height:300%;\">\n",
    "\t<font face=\"B Nazanin\" size=5>\n",
    "<br/>\n",
    "<p style='direction:rtl; text-align: right'>تذکر: در این قسمت پروژه می‌خواهیم با تصاویر کار کنیم. برای کار با تصاویر به کتابخانه‌ی cv2 نیاز داریم. اگر کتابخانه cv2 اجرا نشد باید آن را نصب کنید. برای نصب کتابخانه در command prompt دستور زیر را اجرا کنید.\n",
    "</p>\n",
    "<p style='direction:rtl; text-align: left'> pip install opencv-python\n",
    "</p>\n",
    "<p style='direction:rtl; text-align: right'>و یا از طریق اجرای کد زیر اقدام به نصب نمایید.\n",
    "</p>\n",
    "\t</font>\n",
    "</div>"
   ]
  },
  {
   "cell_type": "code",
   "execution_count": null,
   "metadata": {
    "scrolled": false
   },
   "outputs": [],
   "source": [
    "!pip install opencv-python"
   ]
  },
  {
   "cell_type": "markdown",
   "metadata": {},
   "source": [
    "<p></p>\n",
    "<br/>\n",
    "<div id=\"sec_1\" style=\"direction:rtl;line-height:300%;\">\n",
    "\t<font face=\"B Nazanin\" size=5>\n",
    "\t\t<p></p>\n",
    "\t\t<hr>\n",
    "<br/>\n",
    "کتابخانه‌ی cv2 را \"import\" می‎کنیم:\n",
    "\t</font>\n",
    "</div>"
   ]
  },
  {
   "cell_type": "code",
   "execution_count": null,
   "metadata": {},
   "outputs": [],
   "source": [
    "import cv2"
   ]
  },
  {
   "cell_type": "markdown",
   "metadata": {},
   "source": [
    "<p></p>\n",
    "<br/>\n",
    "<div id=\"sec_1\" style=\"direction:rtl;line-height:300%;\">\n",
    "\t<font face=\"B Nazanin\" size=5>\n",
    "\t\t<p></p>\n",
    "\t\t<hr>\n",
    "برای این منظور مراحل زیر را انجام دهید:\n",
    "        <p style='direction:rtl; text-align: right'>\n",
    "    <ul style='direction:rtl; text-align: right'>\n",
    "        <font face=\"B Nazanin\" size=5>\n",
    "        <li>با استفاده از تابع imread موجود در کتابخانه <a href=\"https://www.geeksforgeeks.org/python-opencv-cv2-imread-method/\">OpenCV</a> فایل تصویر deadpool.jpg را بخوانید و در متغیری با نام image بریزید.</li>\n",
    "    </ul>\n",
    "</p>\n",
    "\t</font>\n",
    "</div>\n",
    "        </li>\n",
    "<br/>\n",
    "\t</font>\n",
    "</div>"
   ]
  },
  {
   "cell_type": "code",
   "execution_count": null,
   "metadata": {},
   "outputs": [],
   "source": [
    "######## Code here!\n",
    "\n",
    "\n"
   ]
  },
  {
   "cell_type": "markdown",
   "metadata": {},
   "source": [
    "<div id=\"sec_1\" style=\"direction:rtl;line-height:300%;text-align:right\">\n",
    "\t<font face=\"B Nazanin\" size=5>\n",
    "تابع imread تصویر را با فرمت BGR می‌خواند. در حالی که کتابخانه‌ی matplotlib برای نمایش تصویر از فرمت RGB استفاده می‌کند. پس برای اینکه تصویر درست نمایش داده شود باید با استفاده از تابع زیر آن را به فرمت RGB تبدیل کرد. در ادامه با فرمت RGB آشنا می‌شوید.\n",
    "    </font>\n",
    "</div>"
   ]
  },
  {
   "cell_type": "code",
   "execution_count": null,
   "metadata": {},
   "outputs": [],
   "source": [
    "image = cv2.cvtColor(image, cv2.COLOR_BGR2RGB)"
   ]
  },
  {
   "cell_type": "markdown",
   "metadata": {},
   "source": [
    "<p style='direction:rtl; text-align: right'>\n",
    "    <ul style='direction:rtl; text-align: right'>\n",
    "        <font face=\"B Nazanin\" size=5>\n",
    "        <li>برای نمایش تصویر ابتدا تابع imshow را با تصویر ورودی که در قسمت قبل به دست آمد فراخوانی می‌کنیم و سپس تابع show را فراخوانی می‌کنیم. توجه کنید که هر دو تابع از کتابخانه‌ی matplotlib هستند.</li>\n",
    "    </ul>\n",
    "</p>\n",
    "\t</font>"
   ]
  },
  {
   "cell_type": "code",
   "execution_count": null,
   "metadata": {
    "scrolled": true
   },
   "outputs": [],
   "source": [
    "######## Code here!\n",
    "\n",
    "\n"
   ]
  },
  {
   "cell_type": "markdown",
   "metadata": {},
   "source": [
    "<div id=\"sec_1\" style=\"direction:rtl;line-height:300%;text-align:right\">\n",
    "\t<font face=\"B Nazanin\" size=5>\n",
    "هر تصویر رنگی با ابعاد m در n را می‌توان به شکل سه ماتریس نظیر کانال‌های رنگی قرمز(R)، سبز (G) و آبی (B) با ابعاد m در n تصویر تعبیر کرد. در واقع نحوه خواندن و ذخیره تصویر در حافظه به همین صورت است. \n",
    "    </font>\n",
    "</div>"
   ]
  },
  {
   "cell_type": "code",
   "execution_count": null,
   "metadata": {},
   "outputs": [],
   "source": [
    "dim = image.shape\n",
    "print('Image shape = ', dim)"
   ]
  },
  {
   "cell_type": "markdown",
   "metadata": {},
   "source": [
    "<div id=\"sec_1\" style=\"direction:rtl;line-height:300%;text-align:right\">\n",
    "\t<font face=\"B Nazanin\" size=5>\n",
    "همانطور که می‌بینید عکس خوانده شده به ازای هر پیکسل ۳ عدد دارد. بنابراین برای هر عکس رنگی $m\\times n$ یک آرایه $m\\times n\\times 3$ خواهیم داشت. \n",
    " از آنجایی که الگوریتم SVD روی یک ماتریس m در n عمل می‌کند لازم است که الگوریتم را روی ماتریس‌های هر سه کانال رنگی اجرا کنیم. پس ماتریس‌های نظیر هر یک از کانال‌های رنگی را از تصویر اصلی استخراج می‌کنیم.\n",
    "\t</font>\n",
    "</div>"
   ]
  },
  {
   "cell_type": "markdown",
   "metadata": {},
   "source": [
    "<p style='direction:rtl; text-align: right'>\n",
    "    <ul style='direction:rtl; text-align: right'>\n",
    "        <font face=\"B Nazanin\" size=5>\n",
    "        <li>برای این منظور سه ماتریس رنگ را در ماتریس‌های R و G و B ذخیره کنید.</li>\n",
    "    </ul>\n",
    "</p>\n",
    "\t</font>"
   ]
  },
  {
   "cell_type": "code",
   "execution_count": null,
   "metadata": {},
   "outputs": [],
   "source": [
    "######## Code here!\n",
    "\n",
    "\n"
   ]
  },
  {
   "cell_type": "markdown",
   "metadata": {},
   "source": [
    "<p style='direction:rtl; text-align: right'>\n",
    "    <ul style='direction:rtl; text-align: right'>\n",
    "        <font face=\"B Nazanin\" size=5>\n",
    "        <li>با استفاده از تابع svd در ماژول linalg کتابخانه‌ی svd، مقادیر U, sigma, Vنظیر تجزیه‌ی مقدار تکین هر سه ماتریس متناظر کانال‌های رنگی را به دست آورید. برای این منظور از لینک مقابل استفاده کنید. <a href=\"https://numpy.org/doc/stable/reference/generated/numpy.linalg.svd.html\">np.linalg.svd</a></li>\n",
    "    </ul>\n",
    "</p>\n",
    "\t</font>\n",
    "\n"
   ]
  },
  {
   "cell_type": "code",
   "execution_count": null,
   "metadata": {},
   "outputs": [],
   "source": [
    "######## Code here!\n",
    "\n",
    "\n"
   ]
  },
  {
   "cell_type": "markdown",
   "metadata": {},
   "source": [
    "<p style='direction:rtl; text-align: right'>\n",
    "    <ul style='direction:rtl; text-align: right'>\n",
    "        <font face=\"B Nazanin\" size=5>\n",
    "        <li>به کمک لینک زیر هر یک از ماتریس‌های نظیر کانال‌های اصلی رنگ را با به ترتیب 1، 5، 10، 25، 50. <a href=\"https://www.geeksforgeeks.org/image-reconstruction-using-singular-value-decomposition-svd-in-python/\">np.linalg.svd</a></li>\n",
    "    </ul>\n",
    "</p>\n",
    "\t</font>"
   ]
  },
  {
   "cell_type": "code",
   "execution_count": null,
   "metadata": {},
   "outputs": [],
   "source": [
    "######## Code here!\n",
    "\n",
    "\n"
   ]
  },
  {
   "cell_type": "markdown",
   "metadata": {},
   "source": [
    "<div id=\"sec_1\" style=\"direction:rtl;line-height:300%;text-align:right\">\n",
    "\t<font face=\"B Nazanin\" size=5>\n",
    "با استفاده از تابع dstack موجود در کتابخانه‌ی numpy سه آرایه‌ی به دست آمده در مرحله قبل را به هم بچسبانید و در متغیر low_rank بریزید.\n",
    "    </font>\n",
    "</div>"
   ]
  },
  {
   "cell_type": "code",
   "execution_count": null,
   "metadata": {},
   "outputs": [],
   "source": [
    "######## Code here!\n",
    "\n",
    "\n"
   ]
  },
  {
   "cell_type": "markdown",
   "metadata": {},
   "source": [
    "<div id=\"sec_1\" style=\"direction:rtl;line-height:300%;text-align:right\">\n",
    "\t<font face=\"B Nazanin\" size=5>\n",
    "با استفاده از دستور astype موجود در reduced_image ماتریس بدست آمده را به عدد صحیح تبدیل کنید و در متغیر final_image تا برای نمایش آماده شود.\n",
    "    </font>\n",
    "</div>"
   ]
  },
  {
   "cell_type": "code",
   "execution_count": null,
   "metadata": {},
   "outputs": [],
   "source": [
    "######## Code here!\n",
    "\n",
    "\n"
   ]
  },
  {
   "cell_type": "markdown",
   "metadata": {},
   "source": [
    "<div id=\"sec_1\" style=\"direction:rtl;line-height:300%;text-align:right\">\n",
    "\t<font face=\"B Nazanin\" size=5>\n",
    "تصویر را نمایش دهید.\n",
    "    </font>\n",
    "</div>"
   ]
  },
  {
   "cell_type": "code",
   "execution_count": null,
   "metadata": {},
   "outputs": [],
   "source": [
    "######## Code here!\n",
    "\n",
    "\n"
   ]
  },
  {
   "cell_type": "markdown",
   "metadata": {},
   "source": [
    "# ##################################################################"
   ]
  },
  {
   "cell_type": "markdown",
   "metadata": {},
   "source": [
    "<p></p>\n",
    "<br />\n",
    "<div id=\"4th\" style=\"direction:rtl;line-height:300%;\">\n",
    "\t<font face=\"B Nazanin\" size=5>\n",
    "\t\t<font color=#FF7500 size=6>\n",
    "جلوه‌ای از کاهش بعد (PCA)\n",
    "        </font>\n",
    "\t\t<p>مشابه بخش قبل در این قسمت می‌خواهیم با استفاده از الگوریتم PCA اقدام به کاهش بعد دیتای تصاویر کنیم.</p>\n",
    "\t\t<hr><br/>\n",
    "\t</font>\n",
    "</div>"
   ]
  },
  {
   "cell_type": "markdown",
   "metadata": {},
   "source": [
    "<div id=\"sec_1\" style=\"direction:rtl;line-height:300%;text-align:right\">\n",
    "\t<font face=\"B Nazanin\" size=5>خواندن فایل تصویر\n",
    "\t\t<p></p>\n",
    "\t\t<hr>\n",
    "<p style='direction:rtl; text-align: right'>با استفاده از تابع imread موجود در کتابخانه <a href=\"https://www.geeksforgeeks.org/python-opencv-cv2-imread-method/\">OpenCV</a> فایل تصویر deadpool.jpg را بخوانید و در متغیری با نام image بریزید.</p>\n",
    "\t</font>\n",
    "</div>"
   ]
  },
  {
   "cell_type": "code",
   "execution_count": null,
   "metadata": {},
   "outputs": [],
   "source": [
    "######## Code here!\n",
    "\n",
    "\n"
   ]
  },
  {
   "cell_type": "markdown",
   "metadata": {},
   "source": [
    "<div id=\"sec_1\" style=\"direction:rtl;line-height:300%;text-align:right\">\n",
    "\t<font face=\"B Nazanin\" size=5>\n",
    "تابع imread تصویر را با فرمت BGR می‌خواند. در حالی که کتابخانه‌ی matplotlib برای نمایش تصویر از فرمت RGB استفاده می‌کند. پس برای اینکه تصویر درست نمایش داده شود باید با استفاده از تابع زیر آن را به فرمت RGB تبدیل کرد. در ادامه با فرمت RGB آشنا می‌شوید.\n",
    "    </font>\n",
    "</div>"
   ]
  },
  {
   "cell_type": "code",
   "execution_count": null,
   "metadata": {},
   "outputs": [],
   "source": [
    "image = cv2.cvtColor(image, cv2.COLOR_BGR2RGB)"
   ]
  },
  {
   "cell_type": "markdown",
   "metadata": {},
   "source": [
    "<div id=\"sec_1\" style=\"direction:rtl;line-height:300%;text-align:right\">\n",
    "\t<font face=\"B Nazanin\" size=5>نمایش تصویر\n",
    "\t\t<p></p>\n",
    "\t\t<hr>\n",
    "<p style='direction:rtl; text-align: right'>\n",
    "برای نمایش تصویر ابتدا تابع imshow را با تصویر ورودی که در قسمت قبل به دست آمد فراخوانی می‌کنیم و سپس تابع show را فراخوانی می‌کنیم. توجه کنید که هر دو تابع از کتابخانه‌ی matplotlib هستند.\n",
    "</p>\n",
    "\t</font>\n",
    "</div>"
   ]
  },
  {
   "cell_type": "code",
   "execution_count": null,
   "metadata": {},
   "outputs": [],
   "source": [
    "######## Code here!\n",
    "\n",
    "\n"
   ]
  },
  {
   "cell_type": "markdown",
   "metadata": {},
   "source": [
    "<div id=\"sec_1\" style=\"direction:rtl;line-height:300%;text-align:right\">\n",
    "\t<font face=\"B Nazanin\" size=5>آماده سازی تصویر برای کاهش بعد\n",
    "\t\t<p></p>\n",
    "\t\t<hr>\n",
    "هر تصویر رنگی با ابعاد m در n را می‌توان به شکل سه ماتریس نظیر کانال‌های رنگی قرمز(R)، سبز (G) و آبی (B) با ابعاد m در n تصویر تعبیر کرد. در واقع نحوه خواندن و ذخیره تصویر در حافظه به همین صورت است. \n",
    "\t</font>\n",
    "</div>"
   ]
  },
  {
   "cell_type": "code",
   "execution_count": null,
   "metadata": {},
   "outputs": [],
   "source": [
    "dim = image.shape\n",
    "print('Image shape = ', dim)"
   ]
  },
  {
   "cell_type": "markdown",
   "metadata": {},
   "source": [
    "<div id=\"sec_1\" style=\"direction:rtl;line-height:300%;text-align:right\">\n",
    "\t<font face=\"B Nazanin\" size=5>\n",
    "همانطور که می‌بینید عکس خوانده شده به ازای هر پیکسل ۳ عدد دارد. بنابراین برای هر عکس رنگی $m\\times n$ یک آرایه $m\\times n\\times 3$ خواهیم داشت.\n",
    "\t</font>\n",
    "</div>"
   ]
  },
  {
   "cell_type": "markdown",
   "metadata": {},
   "source": [
    "<div id=\"sec_1\" style=\"direction:rtl;line-height:300%;text-align:right\">\n",
    "\t<font face=\"B Nazanin\" size=5>\n",
    " از آنجایی که الگوریتم PCA روی یک ماتریس m در n عمل می‌کند لازم است که الگوریتم را روی ماتریس‌های هر سه کانال رنگی اجرا کنیم. پس ماتریس‌های نظیر هر یک از کانال‌های رنگی را از تصویر اصلی استخراج می‌کنیم. برای این منظور سه ماتریس رنگ را در ماتریس‌های R و G و B ذخیره کنید.\n",
    "\t</font>\n",
    "</div>"
   ]
  },
  {
   "cell_type": "code",
   "execution_count": null,
   "metadata": {},
   "outputs": [],
   "source": [
    "######## Code here!\n",
    "\n",
    "\n"
   ]
  },
  {
   "cell_type": "markdown",
   "metadata": {},
   "source": [
    "<div id=\"sec_1\" style=\"direction:rtl;line-height:300%;text-align:right\">\n",
    "\t<font face=\"B Nazanin\" size=5>استفاده از PCA برای کاهش بعد\n",
    "\t\t<p></p>\n",
    "\t\t<hr>    \n",
    "با استفاده از کلاس PCA در کتابخانه sklearn کاهش بعد را انجام می‌دهیم. حتما لینک زیر را مطالعه کنید تا با نحوه‌ی تعریف شیئ PCA و نحوه‌ی استفاده از آن آشنا شوید.\n",
    "    <a href=\"https://scikit-learn.org/stable/modules/generated/sklearn.decomposition.PCA.html\">لینک</a>\n",
    "<p style='direction:rtl; text-align: right'>\n",
    "    <ul style='direction:rtl; text-align: right'>\n",
    "    </ul>\n",
    "</p>\n",
    "\t</font>\n",
    "</div>"
   ]
  },
  {
   "cell_type": "markdown",
   "metadata": {},
   "source": [
    "<div id=\"sec_1\" style=\"direction:rtl;line-height:300%;text-align:right\">\n",
    "\t<font face=\"B Nazanin\" size=5>\n",
    "        <li>برای هر یک از ماتریس های R,G,B یک شیئ PCA ایجاد کنید و در متغیرهای rpca, gpca, bpca ذخیره کنید. n_components را برابر ۱۰ قرار دهید.</li>\n",
    "\t</font>\n",
    "</div>"
   ]
  },
  {
   "cell_type": "code",
   "execution_count": null,
   "metadata": {},
   "outputs": [],
   "source": [
    "######## Code here!\n",
    "\n",
    "\n"
   ]
  },
  {
   "cell_type": "markdown",
   "metadata": {},
   "source": [
    "<div id=\"sec_1\" style=\"direction:rtl;line-height:300%;text-align:right\">\n",
    "\t<font face=\"B Nazanin\" size=5>\n",
    "        <li>با استفاده از تابع fit موجود در هر شیئ PCA الگوریتم را روی ماتریس‌های R,G,B فیت کنید.</li>\n",
    "\t</font>\n",
    "</div>"
   ]
  },
  {
   "cell_type": "code",
   "execution_count": null,
   "metadata": {},
   "outputs": [],
   "source": [
    "######## Code here!\n",
    "\n",
    "\n"
   ]
  },
  {
   "cell_type": "markdown",
   "metadata": {},
   "source": [
    "<div id=\"sec_1\" style=\"direction:rtl;line-height:300%;text-align:right\">\n",
    "\t<font face=\"B Nazanin\" size=5>\n",
    "        <li> با استفاده از متغیر _explained_variance_ratio موجود در هر شیئ می‌توانید ببینید هرکدام از مولفه ها چند درصد دیتای ماتریس را دارند. مشخص کنید که مجموعا در ده مولفه اول چند درصد دیتا برای هر کدام از ماتریس‌ها حفظ شده اند.</li>\n",
    "\t</font>\n",
    "</div>"
   ]
  },
  {
   "cell_type": "code",
   "execution_count": null,
   "metadata": {},
   "outputs": [],
   "source": [
    "######## Code here!\n",
    "\n",
    "\n"
   ]
  },
  {
   "cell_type": "markdown",
   "metadata": {},
   "source": [
    "<div id=\"sec_1\" style=\"direction:rtl;line-height:300%;text-align:right\">\n",
    "\t<font face=\"B Nazanin\" size=5>\n",
    "        <li> با استفاده از دستور bar در matplotlib نمودار میله‌ای مقادیر _explained_variance_ratio را برای کانال قرمز رسم کنید. برای آشنایی با نحوه‌ی رسم نمودار میله‌ای (bar) از لینک مقابل استفاده کنید. <a href=\"https://www.geeksforgeeks.org/bar-plot-in-matplotlib/\">لینک</a></li>\n",
    "\t</font>\n",
    "</div>"
   ]
  },
  {
   "cell_type": "code",
   "execution_count": null,
   "metadata": {},
   "outputs": [],
   "source": [
    "######## Code here!\n",
    "\n",
    "\n"
   ]
  },
  {
   "cell_type": "markdown",
   "metadata": {},
   "source": [
    "<div id=\"sec_1\" style=\"direction:rtl;line-height:300%;text-align:right\">\n",
    "\t<font face=\"B Nazanin\" size=5>\n",
    "        <li> با استفاده از دستور bar در matplotlib مقادیر _explained_variance_ratio را برای کانال سبز رسم کنید. </li>\n",
    "\t</font>\n",
    "</div>"
   ]
  },
  {
   "cell_type": "code",
   "execution_count": null,
   "metadata": {},
   "outputs": [],
   "source": [
    "######## Code here!\n",
    "\n",
    "\n"
   ]
  },
  {
   "cell_type": "markdown",
   "metadata": {},
   "source": [
    "<div id=\"sec_1\" style=\"direction:rtl;line-height:300%;text-align:right\">\n",
    "\t<font face=\"B Nazanin\" size=5>\n",
    "        <li> با استفاده از دستور bar در matplotlib مقادیر _explained_variance_ratio را برای کانال آبی رسم کنید. </li>\n",
    "\t</font>\n",
    "</div>"
   ]
  },
  {
   "cell_type": "code",
   "execution_count": null,
   "metadata": {},
   "outputs": [],
   "source": [
    "######## Code here!\n",
    "\n",
    "\n"
   ]
  },
  {
   "cell_type": "markdown",
   "metadata": {},
   "source": [
    "<div id=\"sec_1\" style=\"direction:rtl;line-height:300%;text-align:right\">\n",
    "\t<font face=\"B Nazanin\" size=5>\n",
    "\t\t<hr>با استفاده از تابع transform موجود در rpca, gpca, bpca دیتا با بعد کمتر را تولید کنید و در سه متغیر r_transformed, g_transformed, b_transformed بریزید.\n",
    "<p style='direction:rtl; text-align: right'>\n",
    "    <ul style='direction:rtl; text-align: right'>\n",
    "    </ul>\n",
    "</p>\n",
    "\t</font>\n",
    "</div>"
   ]
  },
  {
   "cell_type": "code",
   "execution_count": null,
   "metadata": {},
   "outputs": [],
   "source": [
    "######## Code here!\n",
    "\n",
    "\n"
   ]
  },
  {
   "cell_type": "markdown",
   "metadata": {},
   "source": [
    "<div id=\"sec_1\" style=\"direction:rtl;line-height:300%;text-align:right\">\n",
    "\t<font face=\"B Nazanin\" size=5>\n",
    "حال دیتای با بعد کمتر که در قسمت قبل به دست آمد را به تابع inverse_transform موجود در اشیا rpca, gpca, bpca بدهید تا دیتای بعد اولیه را بازتولید کند و سپس دیتای بازیابی شده را در متغیرهای reduced_r, reduced_b, reduced_g بریزید.\n",
    "    </font>\n",
    "</div>"
   ]
  },
  {
   "cell_type": "code",
   "execution_count": null,
   "metadata": {},
   "outputs": [],
   "source": [
    "######## Code here!\n",
    "\n",
    "\n"
   ]
  },
  {
   "cell_type": "markdown",
   "metadata": {},
   "source": [
    "<div id=\"sec_1\" style=\"direction:rtl;line-height:300%;text-align:right\">\n",
    "\t<font face=\"B Nazanin\" size=5>\n",
    "ابعاد transform_r و reduced_r را چاپ کنید.\n",
    "    </font>\n",
    "</div>"
   ]
  },
  {
   "cell_type": "code",
   "execution_count": null,
   "metadata": {},
   "outputs": [],
   "source": [
    "######## Code here!\n",
    "\n",
    "\n"
   ]
  },
  {
   "cell_type": "markdown",
   "metadata": {},
   "source": [
    "<div id=\"sec_1\" style=\"direction:rtl;line-height:300%;text-align:right\">\n",
    "\t<font face=\"B Nazanin\" size=5>\n",
    "با استفاده از تابع reshape سه آرایه‌ی reduced_r, reduced_g, reduced_b که دارای ابعاد $x\\times y$ هستند را به آرایه‌هایی با بعد $x\\times y\\times 1$ تبدیل کنید. \n",
    "    </font>\n",
    "</div>"
   ]
  },
  {
   "cell_type": "code",
   "execution_count": null,
   "metadata": {},
   "outputs": [],
   "source": [
    "######## Code here!\n",
    "\n",
    "\n"
   ]
  },
  {
   "cell_type": "markdown",
   "metadata": {},
   "source": [
    "<div id=\"sec_1\" style=\"direction:rtl;line-height:300%;text-align:right\">\n",
    "\t<font face=\"B Nazanin\" size=5>\n",
    "با استفاده از تابع dstack موجود در کتابخانه‌ی numpy سه آرایه‌ی به دست آمده در مرحله قبل را به هم بچسبانید و در متغیر reduced_image بریزید.\n",
    "    </font>\n",
    "</div>"
   ]
  },
  {
   "cell_type": "code",
   "execution_count": null,
   "metadata": {},
   "outputs": [],
   "source": [
    "######## Code here!\n",
    "\n",
    "\n"
   ]
  },
  {
   "cell_type": "markdown",
   "metadata": {},
   "source": [
    "<div id=\"sec_1\" style=\"direction:rtl;line-height:300%;text-align:right\">\n",
    "\t<font face=\"B Nazanin\" size=5>\n",
    "با استفاده از دستور astype موجود در reduced_image ماتریس بدست آمده را به عدد صحیح تبدیل کنید و در متغیر final_image تا برای نمایش آماده شود.\n",
    "    </font>\n",
    "</div>"
   ]
  },
  {
   "cell_type": "code",
   "execution_count": null,
   "metadata": {},
   "outputs": [],
   "source": [
    "######## Code here!\n",
    "\n",
    "\n"
   ]
  },
  {
   "cell_type": "code",
   "execution_count": null,
   "metadata": {
    "scrolled": true
   },
   "outputs": [],
   "source": [
    "print('final_image shape = ', final_image.shape)"
   ]
  },
  {
   "cell_type": "markdown",
   "metadata": {},
   "source": [
    "<div id=\"sec_1\" style=\"direction:rtl;line-height:300%;text-align:right\">\n",
    "\t<font face=\"B Nazanin\" size=5>\n",
    "تصویر را نمایش دهید.\n",
    "    </font>\n",
    "</div>"
   ]
  },
  {
   "cell_type": "code",
   "execution_count": null,
   "metadata": {},
   "outputs": [],
   "source": [
    "######## Code here!\n",
    "\n",
    "\n"
   ]
  },
  {
   "cell_type": "markdown",
   "metadata": {},
   "source": [
    "<div id=\"sec_1\" style=\"direction:rtl;line-height:300%;text-align:right\">\n",
    "\t<font face=\"B Nazanin\" size=5>\n",
    "همه مراحل انجام شده از ابتدای این بخش را با تعداد مولفه‌ای (n_components) تکرار کنید که هر سه ماتریس R,G,B حداقل ۹۹ درصد داده‌ها حفظ شود. تعداد این مولفه‌ها حداقل چند است. \n",
    "    </font>\n",
    "</div>"
   ]
  },
  {
   "cell_type": "code",
   "execution_count": null,
   "metadata": {},
   "outputs": [],
   "source": [
    "######## Code here!\n",
    "\n",
    "\n"
   ]
  }
 ],
 "metadata": {
  "kernelspec": {
   "display_name": "Python 3",
   "language": "python",
   "name": "python3"
  },
  "language_info": {
   "codemirror_mode": {
    "name": "ipython",
    "version": 3
   },
   "file_extension": ".py",
   "mimetype": "text/x-python",
   "name": "python",
   "nbconvert_exporter": "python",
   "pygments_lexer": "ipython3",
   "version": "3.8.5"
  }
 },
 "nbformat": 4,
 "nbformat_minor": 4
}
