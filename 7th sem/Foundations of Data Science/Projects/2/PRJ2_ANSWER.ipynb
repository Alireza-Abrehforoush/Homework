{
 "cells": [
  {
   "cell_type": "markdown",
   "metadata": {},
   "source": [
    "<div style=\"direction:rtl;line-height:300%;\">\n",
    "\t<font face=\"B Nazanin\" size=5>\n",
    "\t\t<div align=center>\n",
    "\t\t\t<font face=\"IranNastaliq\" size=30>\n",
    "\t\t\t\t<p></p>\n",
    "\t\t\t\t<p></p>\n",
    "به نام خدا\n",
    "\t\t\t\t<p></p>\n",
    "\t\t\t</font>\n",
    "\t\t\t<font color=#FF7500>\n",
    "دانشگاه صنعتی اصفهان - دانشکده علوم ریاضی\n",
    "            </font>\n",
    "\t\t\t<p></p>\n",
    "\t\t\t<font color=blue>\n",
    "مبانی ریاضی علوم داده\n",
    "            </font>\n",
    "\t\t\t<br />\n",
    "\t\t\t<br />\n",
    "پاییز ۱۴۰۱\n",
    "\t\t</div>\n",
    "\t\t<hr/>\n",
    "\t\t<font color=red size=6>\n",
    "\t\t\t<br />\n",
    "\t\t\t<div align=center>\t\n",
    "مینی‌پروژه‌ی ۲ (بهترین زیرفضای تقریب‌زننده و تجزیه‌ی مقدار تکین)\n",
    "            </div>\n",
    "\t\t</font>\n",
    "\t\t<br />\n",
    "\t\t<hr />\n",
    "\t\t<style type=\"text/css\" scoped>\n",
    "        p{\n",
    "        border: 1px solid #a2a9b1;background-color: #f8f9fa;display: inline-block;\n",
    "        };\n",
    "        </style>\n",
    "\t\t<div>\n",
    "\t\t\t<h3>فهرست مطالب</h3>\n",
    "\t\t\t<ul style=\"margin-right: 0;\">\n",
    "                <li>\n",
    "\t\t\t\t\t<a href=\"#1st\">\n",
    "                       Power Method\n",
    "                    </a>\n",
    "\t\t\t\t</li>\n",
    "                <li>\n",
    "\t\t\t\t\t<a href=\"#2nd\">\n",
    "                       استفاده از کاهش بعد\n",
    "                    </a>\n",
    "\t\t\t\t</li>\n",
    "                <li>\n",
    "\t\t\t\t\t<a href=\"#3rd\">\n",
    "                       جلوه‌ای از کاهش بعد (SVD)\n",
    "                    </a>\n",
    "\t\t\t\t</li>\n",
    "                <li>\n",
    "\t\t\t\t\t<a href=\"#4th\">\n",
    "                       جلوه‌ای از کاهش بعد (PCA) \n",
    "                    </a>\n",
    "\t\t\t\t</li>\n",
    "\t\t\t</ul>\n",
    "\t\t</div>\n",
    "\t</font>\n",
    "</div>"
   ]
  },
  {
   "cell_type": "markdown",
   "metadata": {},
   "source": [
    "<p></p>\n",
    "<br/>\n",
    "<div id=\"sec_1\" style=\"direction:rtl;line-height:300%;\">\n",
    "\t<font face=\"B Nazanin\" size=5>\n",
    "\t\t<p></p>\n",
    "\t\t<hr>\n",
    "<br/>\n",
    "ابتدا باید کتابخانه های زیر را \"import\" کنیم:\n",
    "<p style='direction:rtl; text-align: right'>\n",
    "    <ul style='direction:rtl; text-align: right'>\n",
    "        <li>numpy: برای کار با ماتریس ها</li>\n",
    "        <li>matplotlib: برای رسم نمودار</li>\n",
    "        <li>sklearn.decomposition.PCA: برای کاهش بعد</li>\n",
    "        <li>scipy: برای تولید پایه اورتونرمال </li>\n",
    "    </ul>\n",
    "</p>\n",
    "\t</font>\n",
    "</div>"
   ]
  },
  {
   "cell_type": "code",
   "execution_count": 1,
   "metadata": {},
   "outputs": [],
   "source": [
    "######## Code here!\n",
    "import numpy as np\n",
    "import matplotlib.pyplot as plt\n",
    "from sklearn.decomposition import PCA\n",
    "from scipy.stats import special_ortho_group as sog\n",
    "import scipy as sc"
   ]
  },
  {
   "cell_type": "markdown",
   "metadata": {},
   "source": [
    "<p></p>\n",
    "<br />\n",
    "<div id=\"1st\" style=\"direction:rtl;line-height:300%;\">\n",
    "\t<font face=\"B Nazanin\" size=5>\n",
    "\t\t<font color=#FF7500 size=6>\n",
    "Power Method\n",
    "        </font>\n",
    "\t\t<p></p>\n",
    "\t\t<hr>\n",
    "الگوریتم Power Method را برای محاسبه‌ی مقدار ویژه و بردار ویژه‌ی اول ماتریس زیر پیاده‌سازی کنید. تعداد پیمایش‌ها (به عبارتی توان ماتریس B در رابطه‌ی Power Method ) را برابر 100 قرار دهید.<br/>\n",
    "$$\n",
    "B =\n",
    "\\begin{pmatrix}\n",
    "1 & 2 & 3 & 4 & 5 & 6 & 7 & 8 & 9 & 10 \\\\\n",
    "2 & 3 & 4 & 5 & 6 & 7 & 8 & 9 & 10 & 0 \\\\\n",
    "3 & 4 & 5 & 6 & 7 & 8 & 9 & 10 & 0 & 0 \\\\\n",
    "4 & 5 & 6 & 7 & 8 & 9 & 10 & 0 & 0 & 0 \\\\\n",
    "5 & 6 & 7 & 8 & 9 & 10 & 0 & 0 & 0 & 0 \\\\\n",
    "6 & 7 & 8 & 9 & 10 & 0 & 0 & 0 & 0 & 0 \\\\\n",
    "7 & 8 & 9 & 10 & 0 & 0 & 0 & 0 & 0 & 0 \\\\\n",
    "8 & 9 & 10 & 0 & 0 & 0 & 0 & 0 & 0 & 0 \\\\\n",
    "9 & 10 & 0 & 0 & 0 & 0 & 0 & 0 & 0 & 0 \\\\\n",
    "10 & 0 & 0 & 0 & 0 & 0 & 0 & 0 & 0 & 0 \n",
    "\\end{pmatrix}\n",
    "$$\n",
    "        <br/><br/>\n",
    "\t</font>\n",
    "</div>"
   ]
  },
  {
   "cell_type": "code",
   "execution_count": 2,
   "metadata": {},
   "outputs": [
    {
     "name": "stdout",
     "output_type": "stream",
     "text": [
      "(43.43043275068864, array([0.3197506 , 0.36962502, 0.39811309, 0.4039189 , 0.38728043,\n",
      "       0.3499587 , 0.29512626, 0.22716239, 0.15136864, 0.07362363]))\n"
     ]
    }
   ],
   "source": [
    "######## Code here!\n",
    "def powerMethod(B, x, power = 100):\n",
    "    y = x\n",
    "    for i in range(power):\n",
    "        y = np.dot(B, y)\n",
    "        eigen_value = np.linalg.norm(y)\n",
    "        y = y / eigen_value\n",
    "    return eigen_value, y\n",
    "\n",
    "B = np.array([\n",
    "    [1, 2, 3, 4, 5, 6, 7, 8, 9, 10],\n",
    "    [2, 3, 4, 5, 6, 7, 8, 9, 10, 0],\n",
    "    [3, 4, 5, 6, 7, 8, 9, 10, 0, 0],\n",
    "    [4, 5, 6, 7, 8, 9, 10, 0, 0, 0],\n",
    "    [5, 6, 7, 8, 9, 10, 0, 0, 0, 0],\n",
    "    [6, 7, 8, 9, 10, 0, 0, 0, 0, 0],\n",
    "    [7, 8, 9, 10, 0, 0, 0, 0, 0, 0],\n",
    "    [8, 9, 10, 0, 0, 0, 0, 0, 0, 0],\n",
    "    [9, 10, 0, 0, 0, 0, 0, 0, 0, 0],\n",
    "    [10, 0, 0, 0, 0, 0, 0, 0, 0, 0],   \n",
    "])\n",
    "power = 100\n",
    "x = np.ones(10) / np.sqrt(10)\n",
    "print(powerMethod(B, x, power))"
   ]
  },
  {
   "cell_type": "markdown",
   "metadata": {},
   "source": [
    "<p></p>\n",
    "<br/>\n",
    "<div id=\"sec_1\" style=\"direction:rtl;line-height:300%;\">\n",
    "\t<font face=\"B Nazanin\" size=5>\n",
    "\t\t<p></p>\n",
    "\t\t<hr>\n",
    "روش پیاده‌سازی شده در قسمت قبل را طوری تغییر دهید که بتواند 4 مقدار ویژه و بردار ویژه را به دست بیاورد. برای این منظور\n",
    "<p style='direction:rtl; text-align: right'>\n",
    "    <ul style='direction:rtl; text-align: right'>\n",
    "        <li>گام 1: 4 بردار تصادفی تولید کنید.</li>\n",
    "        <li>گام 2: یک پایه‌ی اورتونرمال برای فضای span شده توسط این 4 بردار پیدا کنید (برای تولید پایه‌ی اورتونرمال برای مجموعه‌ای از بردارها از تابع scipy.linalg.orth() استفاده کنید).\n",
    "        </li>\n",
    "        <li>گام 3:  سپس هر یک از بردارهای پایه‌ی اورتونرمال را در ماتریس B ضرب کنید. حاصل 4 بردار خواهد بود.</li>\n",
    "        <li>گام 4: گام 2 را با 4 بردار به دست آمده در گام 3 به تعداد پیمایش‌ها (به عبارتی توان ماتریس B در رابطه‌ی Power Method) تکرار کنید.</li>\n",
    "    </ul>\n",
    "حاصل 4 بردار ویژه خواهد بود. برای به دست آوردن مقادیر ویژه نظیر هر بردار، ماتریس B را از راست در هر یک از بردار ویژه‌ها ضرب کنید و سپس به همان بردار ویژه تقسیم کنید.\n",
    "</p>\n",
    "        </li>\n",
    "<br/>\n",
    "\t</font>\n",
    "</div>"
   ]
  },
  {
   "cell_type": "code",
   "execution_count": 3,
   "metadata": {
    "scrolled": false
   },
   "outputs": [
    {
     "name": "stdout",
     "output_type": "stream",
     "text": [
      "[[-13.88690684  10.98058783   5.98520936   4.13199382  -3.01514357\n",
      "    2.21186333   1.64294808   1.14871935  -0.74349382  -0.35966303]\n",
      " [-16.0529746    9.44099737   3.42729939   0.29908006   1.36149329\n",
      "   -2.36541197  -2.66803184  -2.48270527   1.89006055   1.01506596]\n",
      " [-17.29022358   6.11499795  -0.99391682  -3.79490392   3.56885157\n",
      "   -1.82326932   0.34350875   1.96466746  -2.39110578  -1.58413581]\n",
      " [-17.5423727    1.67415862  -4.7887276   -4.02274652   0.13585819\n",
      "    2.67183651   2.43285426   0.04027413   2.05769164   2.00905123]\n",
      " [-16.81975686  -2.98611799  -5.81846198  -0.15122044  -3.54842481\n",
      "    1.43466763  -2.11927643  -2.00150237  -1.02256566  -2.26029567]\n",
      " [-15.19885787  -6.92555342  -3.49602753   3.92402023  -1.70052617\n",
      "   -2.86620418  -0.84547652   2.47527567  -0.37607099   2.30675542]\n",
      " [-12.81746114  -9.34691459   0.88458703   4.10258206   2.77212713\n",
      "   -0.9593924    2.7685904   -1.07513882   1.63348537  -2.1540173 ]\n",
      " [ -9.86576082  -9.75532582   4.87482181   0.20971305   2.83845309\n",
      "    3.04864196  -1.1709174   -1.11426108  -2.33899426   1.80498227]\n",
      " [ -6.57400559  -8.05711868   6.24621945  -3.82762304  -1.61118573\n",
      "    0.52341561  -1.87346826   2.48673067   2.2226127   -1.30220208]\n",
      " [ -3.19750598  -4.57845516   4.24154558  -3.93633867  -3.59280174\n",
      "   -3.08944683   2.58791537  -1.97159135  -1.35349086   0.67742954]]\n"
     ]
    }
   ],
   "source": [
    "######## Code here!\n",
    "def generalPowerMethod(B, x, n_iter = 100):\n",
    "    f_v = np.random.rand(10, 10)\n",
    "    for i in range(n_iter):\n",
    "        b = sc.linalg.orth(f_v)\n",
    "        f_v = B @ b\n",
    "    return f_v\n",
    "x = np.ones(10) / np.sqrt(10)\n",
    "ggg = generalPowerMethod(B, x)\n",
    "#print(ggg.shape)\n",
    "hhh = np.zeros((10, 10, 1))\n",
    "for i in range(10):\n",
    "    hhh[i] = (B @ ggg.T[i].reshape((10, 1))) / ggg.T[i].reshape((10, 1))\n",
    "    #print(hhh[i])\n",
    "    #print(\"############################################################\")\n",
    "    \n",
    "print(ggg)\n"
   ]
  },
  {
   "cell_type": "markdown",
   "metadata": {},
   "source": [
    "<p></p>\n",
    "<br/>\n",
    "<div id=\"sec_1\" style=\"direction:rtl;line-height:300%;\">\n",
    "\t<font face=\"B Nazanin\" size=5>\n",
    "\t\t<p></p>\n",
    "\t\t<hr>\n",
    "با استفاده از تابع آماده‌ی np.linalg.eig() بردار ویژه و مقدار ویژه‌های ماتریس B را به دست آورید و با نتایج به دست آمده در قسمت‌های قبل مقایسه کنید.  \n",
    "        </li>\n",
    "<br/>\n",
    "\t</font>\n",
    "</div>"
   ]
  },
  {
   "cell_type": "code",
   "execution_count": 4,
   "metadata": {},
   "outputs": [
    {
     "name": "stdout",
     "output_type": "stream",
     "text": [
      "[ 43.43043275 -23.98317214  14.11091604   8.39217911   6.34853866\n",
      "   5.49315728 -10.49704858  -7.15941543  -5.82635618  -5.3092315 ]\n",
      "##############################################################################\n",
      "[[ 0.3197506   0.45784552 -0.42415456 -0.35928017 -0.25879154  0.13534909\n",
      "   0.39363387 -0.30894468 -0.19715914 -0.06774295]\n",
      " [ 0.36962502  0.3936509  -0.24288284  0.16223358  0.42025921 -0.34407545\n",
      "   0.02849182  0.33039178  0.42611629  0.19118887]\n",
      " [ 0.39811309  0.25497036  0.07043602  0.42525922 -0.05410832  0.43528806\n",
      "  -0.36152104  0.25466734 -0.33720346 -0.29837384]\n",
      " [ 0.4039189   0.06980555  0.33936334  0.01618867 -0.38321484 -0.37459179\n",
      "  -0.38322644 -0.37319199 -0.0069124   0.37840716]\n",
      " [ 0.38728043 -0.12450888  0.41233765 -0.4228252   0.33382114  0.18615263\n",
      "  -0.014406   -0.20038893  0.34352558 -0.42572935]\n",
      " [ 0.3499587  -0.2887672   0.24775341 -0.20263225  0.13317656  0.06846172\n",
      "   0.37382129  0.40034053 -0.42484112  0.4344801 ]\n",
      " [ 0.29512626 -0.38972804 -0.06268814  0.33032268 -0.43609885 -0.2973673\n",
      "   0.39083196  0.13400429  0.18453022 -0.40571169]\n",
      " [ 0.22716239 -0.40675711 -0.34546459  0.33822599  0.18443889  0.42580144\n",
      "   0.01997829 -0.42582275  0.19124493  0.33997053]\n",
      " [ 0.15136864 -0.33594883 -0.44265159 -0.19198658  0.29510228 -0.40461479\n",
      "  -0.36463802 -0.07310871 -0.42680718 -0.24527129]\n",
      " [ 0.07362363 -0.19090282 -0.30058613 -0.42811309 -0.40763954  0.2463958\n",
      "  -0.3749948   0.43152222  0.33839183  0.12759465]]\n"
     ]
    }
   ],
   "source": [
    "e_vl, e_vc = np.linalg.eig(B)\n",
    "print(e_vl)\n",
    "print(\"##############################################################################\")\n",
    "print(e_vc)"
   ]
  },
  {
   "cell_type": "markdown",
   "metadata": {},
   "source": [
    "# ##################################################################"
   ]
  },
  {
   "cell_type": "markdown",
   "metadata": {},
   "source": [
    "<p></p>\n",
    "<br/>\n",
    "<div id=\"2nd\" style=\"direction:rtl;line-height:300%;\">\n",
    "\t<font face=\"B Nazanin\" size=5>\n",
    "\t\t<font color=#FF7500 size=6>\n",
    "استفاده از کاهش بعد\n",
    "        </font>\n",
    "\t\t<p></p>\n",
    "\t\t<hr>\n",
    "<br/>\n",
    "<p style='direction:rtl; text-align: right'>\n",
    "    برای تولید دیتا با استفاده از پایه اورتونرمال\n",
    "    عملیات زیر را انجام دهید:\n",
    "    <ul style='direction:rtl; text-align: right'>\n",
    "        <li>ابتدا با استفاده از تابع np.zeros یک آرایه با ابعاد N در dim بسازید. نام متغیر نظیر آرایه را alpha بگذارید.</li>\n",
    "        <li>درایه‌های سطر i در alpha را با یک توزیع نرمال با میانگین ۰ و انحراف معیار i + 1 مقداردهی کنید.</li>\n",
    "    </ul>\n",
    "\t</font>\n",
    "</div>"
   ]
  },
  {
   "cell_type": "code",
   "execution_count": null,
   "metadata": {},
   "outputs": [],
   "source": [
    "dim = 20\n",
    "N = 1000\n",
    "######## Code here!\n",
    "alpha = np.zeros((N, dim))\n",
    "for i in range(N):\n",
    "    alpha[i] = np.random.normal(0, i + 1, dim)"
   ]
  },
  {
   "cell_type": "markdown",
   "metadata": {},
   "source": [
    "<p></p>\n",
    "<br/>\n",
    "<div id=\"5th\" style=\"direction:rtl;line-height:300%;\">\n",
    "\t<font face=\"B Nazanin\" size=5>\n",
    "\t\t<font color=#FF7500 size=6>\n",
    "        </font>\n",
    "\t\t<p></p>\n",
    "\t\t<hr>\n",
    "<br/>\n",
    "<p style='direction:rtl; text-align: right'>\n",
    "    استفاده از PCA برای کاهش بعد\n",
    "    <ul style='direction:rtl; text-align: right'>\n",
    "        <li>ابتدا یک شیی از PCA بسازید.</li>\n",
    "        <li>با استفاده از تابع fit موجود در شیی PCA عملیات pca را روی دیتا alpha_v انجام دهید.</li>\n",
    "        <li> با استفاده از ویژگی components_ موجود در شیی pca بردار های تکین را مشاهده کنید.</li>\n",
    "        <li> با استفاده از ویژگی explained_variance_ موجود در شیی pca مقدار های تکین را مشاهده کنید.</li>\n",
    "    </ul>\n",
    "\t</font>\n",
    "</div>"
   ]
  },
  {
   "cell_type": "code",
   "execution_count": null,
   "metadata": {},
   "outputs": [],
   "source": [
    "######## Code here!\n",
    "pca = PCA()\n",
    "pca.fit(alpha)\n",
    "print(pca.components_)\n",
    "print(pca.explained_variance_)"
   ]
  },
  {
   "cell_type": "markdown",
   "metadata": {},
   "source": [
    "<p></p>\n",
    "<br/>\n",
    "<div id=\"5th\" style=\"direction:rtl;line-height:300%;\">\n",
    "\t<font face=\"B Nazanin\" size=5>\n",
    "\t\t<font color=#FF7500 size=6>\n",
    "        </font>\n",
    "\t\t<p></p>\n",
    "\t\t<hr>\n",
    "<br/>\n",
    "<p style='direction:rtl; text-align: right'>\n",
    "    کاهش بعد به ۳ بعد\n",
    "    <ul style='direction:rtl; text-align: right'>\n",
    "        <li>ابتدا یک شیی از PCA با ورودی n_components=3 بسازید.</li>\n",
    "        <li>با استفاده از تابع fit موجود در شیی PCA عملیات pca را روی دیتا alpha_v انجام دهید.</li>\n",
    "        <li> ویژگی explained_variance_ratio_ موجود در شیی pca درصد حفظ دیتا به ازای هر کدام از بعد ها را می دهد.</li>\n",
    "    </ul>\n",
    "\t</font>\n",
    "</div>"
   ]
  },
  {
   "cell_type": "code",
   "execution_count": null,
   "metadata": {},
   "outputs": [],
   "source": [
    "######## Code here!\n",
    "pca = PCA(n_components = 3)\n",
    "pca.fit(alpha)\n",
    "print(str(100 * np.sum(pca.explained_variance_ratio_)) + \" percent of data is preserved in 3 dimensions!\")"
   ]
  },
  {
   "cell_type": "markdown",
   "metadata": {},
   "source": [
    "<p></p>\n",
    "<br/>\n",
    "<div id=\"5th\" style=\"direction:rtl;line-height:300%;\">\n",
    "\t<font face=\"B Nazanin\" size=5>\n",
    "\t\t<font color=#FF7500 size=6>\n",
    "        </font>\n",
    "\t\t<p></p>\n",
    "\t\t<hr>\n",
    "<br/>\n",
    "<p style='direction:rtl; text-align: right'>\n",
    "    <ul style='direction:rtl; text-align: right'>\n",
    "با کاهش بعد به ۳، چند درصد از اطلاعات حفظ می شود؟\n",
    "    </ul>\n",
    "\t</font>\n",
    "</div>"
   ]
  },
  {
   "cell_type": "markdown",
   "metadata": {},
   "source": [
    "### Answer here!\n",
    "<p></p>\n",
    "<br/>\n",
    "<div id=\"sec_1\" style=\"direction:rtl;line-height:300%;\">\n",
    "\t<font face=\"B Nazanin\" size=5>\n",
    "اینجا بنویسید...</li>\n",
    "<br/>\n",
    "\t</font>\n",
    "</div>"
   ]
  },
  {
   "cell_type": "markdown",
   "metadata": {},
   "source": [
    "<p></p>\n",
    "<br/>\n",
    "<div id=\"5th\" style=\"direction:rtl;line-height:300%;\">\n",
    "\t<font face=\"B Nazanin\" size=5>\n",
    "\t\t<font color=#FF7500 size=6>\n",
    "        </font>\n",
    "\t\t<p></p>\n",
    "\t\t<hr>\n",
    "<br/>\n",
    "<p style='direction:rtl; text-align: right'>\n",
    "    <ul style='direction:rtl; text-align: right'>\n",
    "به کمک یک حلقه مقدار n_components مناسب برای حفظ 90 درصد از اطلاعات را به دست آورید.\n",
    "        </ul>\n",
    "\t</font>\n",
    "</div>"
   ]
  },
  {
   "cell_type": "code",
   "execution_count": null,
   "metadata": {},
   "outputs": [],
   "source": [
    "######## Code here!\n",
    "min_dim = 0\n",
    "for i in range(1, dim):\n",
    "    pca = PCA(n_components = i)\n",
    "    pca.fit(alpha)\n",
    "    if (np.sum(pca.explained_variance_ratio_) >= 0.9):\n",
    "        min_dim = i\n",
    "        break\n",
    "print(\"Almost \" + str(100 * np.sum(pca.explained_variance_ratio_)) + \" percent of data is preserved in at least \" + str(min_dim) + \" dimensions!\")"
   ]
  },
  {
   "cell_type": "markdown",
   "metadata": {},
   "source": [
    "<p></p>\n",
    "<br/>\n",
    "<div id=\"5th\" style=\"direction:rtl;line-height:300%;\">\n",
    "\t<font face=\"B Nazanin\" size=5>\n",
    "\t\t<font color=#FF7500 size=6>\n",
    "        </font>\n",
    "\t\t<p></p>\n",
    "\t\t<hr>\n",
    "<br/>\n",
    "<p style='direction:rtl; text-align: right'>\n",
    "    <ul style='direction:rtl; text-align: right'>\n",
    "برای حفظ ۹۰ درصد از اطلاعات به چند بعد نیاز داریم؟\n",
    "    </ul>\n",
    "\t</font>\n",
    "</div>"
   ]
  },
  {
   "cell_type": "markdown",
   "metadata": {},
   "source": [
    "### Answer here!\n",
    "<p></p>\n",
    "<br/>\n",
    "<div id=\"sec_1\" style=\"direction:rtl;line-height:300%;\">\n",
    "\t<font face=\"B Nazanin\" size=5>\n",
    "اینجا بنویسید...</li>\n",
    "<br/>\n",
    "\t</font>\n",
    "</div>"
   ]
  },
  {
   "cell_type": "markdown",
   "metadata": {},
   "source": [
    "# ##################################################################"
   ]
  },
  {
   "cell_type": "markdown",
   "metadata": {},
   "source": [
    "<p></p>\n",
    "<br/>\n",
    "<div id=\"3rd\" style=\"direction:rtl;line-height:300%;\">\n",
    "\t<font face=\"B Nazanin\" size=5>\n",
    "\t\t<font color=#FF7500 size=6>\n",
    "جلوه‌ای از کاهش بعد (SVD)\n",
    "        </font>\n",
    "\t\t<p></p>\n",
    "\t\t<hr>\n",
    "<br/>\n",
    "مسئله‌ی کاهش بعد و تجزیه‌ی مقدار تکین در فشرده‌سازی تصاویر کاربرد دارد. هدف این بخش مشاهده‌ی تاثیر مقادیر تکین در حفظ وضوح تصاویر است.\n",
    "<br/><br/>\n",
    "\t</font>\n",
    "</div>"
   ]
  },
  {
   "cell_type": "markdown",
   "metadata": {},
   "source": [
    "<div id=\"sec_1\" style=\"direction:rtl;line-height:300%;\">\n",
    "\t<font face=\"B Nazanin\" size=5>\n",
    "<br/>\n",
    "<p style='direction:rtl; text-align: right'>تذکر: در این قسمت پروژه می‌خواهیم با تصاویر کار کنیم. برای کار با تصاویر به کتابخانه‌ی cv2 نیاز داریم. اگر کتابخانه cv2 اجرا نشد باید آن را نصب کنید. برای نصب کتابخانه در command prompt دستور زیر را اجرا کنید.\n",
    "</p>\n",
    "<p style='direction:rtl; text-align: left'> pip install opencv-python\n",
    "</p>\n",
    "<p style='direction:rtl; text-align: right'>و یا از طریق اجرای کد زیر اقدام به نصب نمایید.\n",
    "</p>\n",
    "\t</font>\n",
    "</div>"
   ]
  },
  {
   "cell_type": "code",
   "execution_count": null,
   "metadata": {
    "scrolled": false
   },
   "outputs": [],
   "source": [
    "!pip install opencv-python"
   ]
  },
  {
   "cell_type": "markdown",
   "metadata": {},
   "source": [
    "<p></p>\n",
    "<br/>\n",
    "<div id=\"sec_1\" style=\"direction:rtl;line-height:300%;\">\n",
    "\t<font face=\"B Nazanin\" size=5>\n",
    "\t\t<p></p>\n",
    "\t\t<hr>\n",
    "<br/>\n",
    "کتابخانه‌ی cv2 را \"import\" می‎کنیم:\n",
    "\t</font>\n",
    "</div>"
   ]
  },
  {
   "cell_type": "code",
   "execution_count": null,
   "metadata": {},
   "outputs": [],
   "source": [
    "import cv2"
   ]
  },
  {
   "cell_type": "markdown",
   "metadata": {},
   "source": [
    "<p></p>\n",
    "<br/>\n",
    "<div id=\"sec_1\" style=\"direction:rtl;line-height:300%;\">\n",
    "\t<font face=\"B Nazanin\" size=5>\n",
    "\t\t<p></p>\n",
    "\t\t<hr>\n",
    "برای این منظور مراحل زیر را انجام دهید:\n",
    "        <p style='direction:rtl; text-align: right'>\n",
    "    <ul style='direction:rtl; text-align: right'>\n",
    "        <font face=\"B Nazanin\" size=5>\n",
    "        <li>با استفاده از تابع imread موجود در کتابخانه <a href=\"https://www.geeksforgeeks.org/python-opencv-cv2-imread-method/\">OpenCV</a> فایل تصویر deadpool.jpg را بخوانید و در متغیری با نام image بریزید.</li>\n",
    "    </ul>\n",
    "</p>\n",
    "\t</font>\n",
    "</div>\n",
    "        </li>\n",
    "<br/>\n",
    "\t</font>\n",
    "</div>"
   ]
  },
  {
   "cell_type": "code",
   "execution_count": null,
   "metadata": {},
   "outputs": [],
   "source": [
    "######## Code here!\n",
    "image = cv2.imread(\"deadpool.jpg\")"
   ]
  },
  {
   "cell_type": "markdown",
   "metadata": {},
   "source": [
    "<div id=\"sec_1\" style=\"direction:rtl;line-height:300%;text-align:right\">\n",
    "\t<font face=\"B Nazanin\" size=5>\n",
    "تابع imread تصویر را با فرمت BGR می‌خواند. در حالی که کتابخانه‌ی matplotlib برای نمایش تصویر از فرمت RGB استفاده می‌کند. پس برای اینکه تصویر درست نمایش داده شود باید با استفاده از تابع زیر آن را به فرمت RGB تبدیل کرد. در ادامه با فرمت RGB آشنا می‌شوید.\n",
    "    </font>\n",
    "</div>"
   ]
  },
  {
   "cell_type": "code",
   "execution_count": null,
   "metadata": {},
   "outputs": [],
   "source": [
    "image = cv2.cvtColor(image, cv2.COLOR_BGR2RGB)"
   ]
  },
  {
   "cell_type": "markdown",
   "metadata": {},
   "source": [
    "<p style='direction:rtl; text-align: right'>\n",
    "    <ul style='direction:rtl; text-align: right'>\n",
    "        <font face=\"B Nazanin\" size=5>\n",
    "        <li>برای نمایش تصویر ابتدا تابع imshow را با تصویر ورودی که در قسمت قبل به دست آمد فراخوانی می‌کنیم و سپس تابع show را فراخوانی می‌کنیم. توجه کنید که هر دو تابع از کتابخانه‌ی matplotlib هستند.</li>\n",
    "    </ul>\n",
    "</p>\n",
    "\t</font>"
   ]
  },
  {
   "cell_type": "code",
   "execution_count": null,
   "metadata": {
    "scrolled": true
   },
   "outputs": [],
   "source": [
    "######## Code here!\n",
    "plt.imshow(image)\n",
    "plt.show()"
   ]
  },
  {
   "cell_type": "markdown",
   "metadata": {},
   "source": [
    "<div id=\"sec_1\" style=\"direction:rtl;line-height:300%;text-align:right\">\n",
    "\t<font face=\"B Nazanin\" size=5>\n",
    "هر تصویر رنگی با ابعاد m در n را می‌توان به شکل سه ماتریس نظیر کانال‌های رنگی قرمز(R)، سبز (G) و آبی (B) با ابعاد m در n تصویر تعبیر کرد. در واقع نحوه خواندن و ذخیره تصویر در حافظه به همین صورت است. \n",
    "    </font>\n",
    "</div>"
   ]
  },
  {
   "cell_type": "code",
   "execution_count": null,
   "metadata": {},
   "outputs": [],
   "source": [
    "dim = image.shape\n",
    "print('Image shape = ', dim)"
   ]
  },
  {
   "cell_type": "markdown",
   "metadata": {},
   "source": [
    "<div id=\"sec_1\" style=\"direction:rtl;line-height:300%;text-align:right\">\n",
    "\t<font face=\"B Nazanin\" size=5>\n",
    "همانطور که می‌بینید عکس خوانده شده به ازای هر پیکسل ۳ عدد دارد. بنابراین برای هر عکس رنگی $m\\times n$ یک آرایه $m\\times n\\times 3$ خواهیم داشت. \n",
    " از آنجایی که الگوریتم SVD روی یک ماتریس m در n عمل می‌کند لازم است که الگوریتم را روی ماتریس‌های هر سه کانال رنگی اجرا کنیم. پس ماتریس‌های نظیر هر یک از کانال‌های رنگی را از تصویر اصلی استخراج می‌کنیم.\n",
    "\t</font>\n",
    "</div>"
   ]
  },
  {
   "cell_type": "markdown",
   "metadata": {},
   "source": [
    "<p style='direction:rtl; text-align: right'>\n",
    "    <ul style='direction:rtl; text-align: right'>\n",
    "        <font face=\"B Nazanin\" size=5>\n",
    "        <li>برای این منظور سه ماتریس رنگ را در ماتریس‌های R و G و B ذخیره کنید.</li>\n",
    "    </ul>\n",
    "</p>\n",
    "\t</font>"
   ]
  },
  {
   "cell_type": "code",
   "execution_count": null,
   "metadata": {},
   "outputs": [],
   "source": [
    "######## Code here!\n",
    "R = image[:, :, 0]\n",
    "G = image[:, :, 1]\n",
    "B = image[:, :, 2]\n",
    "print(R.shape)\n",
    "print(G.shape)\n",
    "print(B.shape)"
   ]
  },
  {
   "cell_type": "markdown",
   "metadata": {},
   "source": [
    "<p style='direction:rtl; text-align: right'>\n",
    "    <ul style='direction:rtl; text-align: right'>\n",
    "        <font face=\"B Nazanin\" size=5>\n",
    "        <li>با استفاده از تابع svd در ماژول linalg کتابخانه‌ی svd، مقادیر U, sigma, Vنظیر تجزیه‌ی مقدار تکین هر سه ماتریس متناظر کانال‌های رنگی را به دست آورید. برای این منظور از لینک مقابل استفاده کنید. <a href=\"https://numpy.org/doc/stable/reference/generated/numpy.linalg.svd.html\">np.linalg.svd</a></li>\n",
    "    </ul>\n",
    "</p>\n",
    "\t</font>\n",
    "\n"
   ]
  },
  {
   "cell_type": "code",
   "execution_count": null,
   "metadata": {},
   "outputs": [],
   "source": [
    "######## Code here!\n",
    "u_r, sigma_r, v_r = np.linalg.svd(R, full_matrices = False)\n",
    "u_g, sigma_g, v_g = np.linalg.svd(G, full_matrices = False)\n",
    "u_b, sigma_b, v_b = np.linalg.svd(B, full_matrices = False)"
   ]
  },
  {
   "cell_type": "markdown",
   "metadata": {},
   "source": [
    "<p style='direction:rtl; text-align: right'>\n",
    "    <ul style='direction:rtl; text-align: right'>\n",
    "        <font face=\"B Nazanin\" size=5>\n",
    "        <li>به کمک لینک زیر هر یک از ماتریس‌های نظیر کانال‌های اصلی رنگ را با به ترتیب 1، 5، 10، 25، 50. <a href=\"https://www.geeksforgeeks.org/image-reconstruction-using-singular-value-decomposition-svd-in-python/\">np.linalg.svd</a></li>\n",
    "    </ul>\n",
    "</p>\n",
    "\t</font>"
   ]
  },
  {
   "cell_type": "code",
   "execution_count": null,
   "metadata": {},
   "outputs": [],
   "source": [
    "######## Code here!\n",
    "n_comps = int(0.01 * R.shape[1])\n",
    "\n",
    "low_rank_r = u_r[:, :n_comps] @ np.diag(sigma_r[:n_comps]) @ v_r[:n_comps, :]\n",
    "low_rank_g = u_g[:, :n_comps] @ np.diag(sigma_g[:n_comps]) @ v_g[:n_comps, :]\n",
    "low_rank_b = u_b[:, :n_comps] @ np.diag(sigma_b[:n_comps]) @ v_b[:n_comps, :]"
   ]
  },
  {
   "cell_type": "markdown",
   "metadata": {},
   "source": [
    "<div id=\"sec_1\" style=\"direction:rtl;line-height:300%;text-align:right\">\n",
    "\t<font face=\"B Nazanin\" size=5>\n",
    "با استفاده از تابع dstack موجود در کتابخانه‌ی numpy سه آرایه‌ی به دست آمده در مرحله قبل را به هم بچسبانید و در متغیر low_rank بریزید.\n",
    "    </font>\n",
    "</div>"
   ]
  },
  {
   "cell_type": "code",
   "execution_count": null,
   "metadata": {},
   "outputs": [],
   "source": [
    "######## Code here!\n",
    "low_rank = np.dstack((low_rank_r, low_rank_g, low_rank_b))"
   ]
  },
  {
   "cell_type": "markdown",
   "metadata": {},
   "source": [
    "<div id=\"sec_1\" style=\"direction:rtl;line-height:300%;text-align:right\">\n",
    "\t<font face=\"B Nazanin\" size=5>\n",
    "با استفاده از دستور astype موجود در reduced_image ماتریس بدست آمده را به عدد صحیح تبدیل کنید و در متغیر final_image تا برای نمایش آماده شود.\n",
    "    </font>\n",
    "</div>"
   ]
  },
  {
   "cell_type": "code",
   "execution_count": null,
   "metadata": {},
   "outputs": [],
   "source": [
    "######## Code here!\n",
    "low_rank = low_rank.astype(int)"
   ]
  },
  {
   "cell_type": "markdown",
   "metadata": {},
   "source": [
    "<div id=\"sec_1\" style=\"direction:rtl;line-height:300%;text-align:right\">\n",
    "\t<font face=\"B Nazanin\" size=5>\n",
    "تصویر را نمایش دهید.\n",
    "    </font>\n",
    "</div>"
   ]
  },
  {
   "cell_type": "code",
   "execution_count": null,
   "metadata": {},
   "outputs": [],
   "source": [
    "######## Code here!\n",
    "plt.imshow(low_rank)\n",
    "plt.show()"
   ]
  },
  {
   "cell_type": "markdown",
   "metadata": {},
   "source": [
    "# ##################################################################"
   ]
  },
  {
   "cell_type": "markdown",
   "metadata": {},
   "source": [
    "<p></p>\n",
    "<br />\n",
    "<div id=\"4th\" style=\"direction:rtl;line-height:300%;\">\n",
    "\t<font face=\"B Nazanin\" size=5>\n",
    "\t\t<font color=#FF7500 size=6>\n",
    "جلوه‌ای از کاهش بعد (PCA)\n",
    "        </font>\n",
    "\t\t<p>مشابه بخش قبل در این قسمت می‌خواهیم با استفاده از الگوریتم PCA اقدام به کاهش بعد دیتای تصاویر کنیم.</p>\n",
    "\t\t<hr><br/>\n",
    "\t</font>\n",
    "</div>"
   ]
  },
  {
   "cell_type": "markdown",
   "metadata": {},
   "source": [
    "<div id=\"sec_1\" style=\"direction:rtl;line-height:300%;text-align:right\">\n",
    "\t<font face=\"B Nazanin\" size=5>خواندن فایل تصویر\n",
    "\t\t<p></p>\n",
    "\t\t<hr>\n",
    "<p style='direction:rtl; text-align: right'>با استفاده از تابع imread موجود در کتابخانه <a href=\"https://www.geeksforgeeks.org/python-opencv-cv2-imread-method/\">OpenCV</a> فایل تصویر deadpool.jpg را بخوانید و در متغیری با نام image بریزید.</p>\n",
    "\t</font>\n",
    "</div>"
   ]
  },
  {
   "cell_type": "code",
   "execution_count": null,
   "metadata": {},
   "outputs": [],
   "source": [
    "######## Code here!\n",
    "image = cv2.imread(\"deadpool.jpg\")"
   ]
  },
  {
   "cell_type": "markdown",
   "metadata": {},
   "source": [
    "<div id=\"sec_1\" style=\"direction:rtl;line-height:300%;text-align:right\">\n",
    "\t<font face=\"B Nazanin\" size=5>\n",
    "تابع imread تصویر را با فرمت BGR می‌خواند. در حالی که کتابخانه‌ی matplotlib برای نمایش تصویر از فرمت RGB استفاده می‌کند. پس برای اینکه تصویر درست نمایش داده شود باید با استفاده از تابع زیر آن را به فرمت RGB تبدیل کرد. در ادامه با فرمت RGB آشنا می‌شوید.\n",
    "    </font>\n",
    "</div>"
   ]
  },
  {
   "cell_type": "code",
   "execution_count": null,
   "metadata": {},
   "outputs": [],
   "source": [
    "image = cv2.cvtColor(image, cv2.COLOR_BGR2RGB)"
   ]
  },
  {
   "cell_type": "markdown",
   "metadata": {},
   "source": [
    "<div id=\"sec_1\" style=\"direction:rtl;line-height:300%;text-align:right\">\n",
    "\t<font face=\"B Nazanin\" size=5>نمایش تصویر\n",
    "\t\t<p></p>\n",
    "\t\t<hr>\n",
    "<p style='direction:rtl; text-align: right'>\n",
    "برای نمایش تصویر ابتدا تابع imshow را با تصویر ورودی که در قسمت قبل به دست آمد فراخوانی می‌کنیم و سپس تابع show را فراخوانی می‌کنیم. توجه کنید که هر دو تابع از کتابخانه‌ی matplotlib هستند.\n",
    "</p>\n",
    "\t</font>\n",
    "</div>"
   ]
  },
  {
   "cell_type": "code",
   "execution_count": null,
   "metadata": {},
   "outputs": [],
   "source": [
    "######## Code here!\n",
    "plt.imshow(image)\n",
    "plt.show()"
   ]
  },
  {
   "cell_type": "markdown",
   "metadata": {},
   "source": [
    "<div id=\"sec_1\" style=\"direction:rtl;line-height:300%;text-align:right\">\n",
    "\t<font face=\"B Nazanin\" size=5>آماده سازی تصویر برای کاهش بعد\n",
    "\t\t<p></p>\n",
    "\t\t<hr>\n",
    "هر تصویر رنگی با ابعاد m در n را می‌توان به شکل سه ماتریس نظیر کانال‌های رنگی قرمز(R)، سبز (G) و آبی (B) با ابعاد m در n تصویر تعبیر کرد. در واقع نحوه خواندن و ذخیره تصویر در حافظه به همین صورت است. \n",
    "\t</font>\n",
    "</div>"
   ]
  },
  {
   "cell_type": "code",
   "execution_count": null,
   "metadata": {},
   "outputs": [],
   "source": [
    "dim = image.shape\n",
    "print('Image shape = ', dim)"
   ]
  },
  {
   "cell_type": "markdown",
   "metadata": {},
   "source": [
    "<div id=\"sec_1\" style=\"direction:rtl;line-height:300%;text-align:right\">\n",
    "\t<font face=\"B Nazanin\" size=5>\n",
    "همانطور که می‌بینید عکس خوانده شده به ازای هر پیکسل ۳ عدد دارد. بنابراین برای هر عکس رنگی $m\\times n$ یک آرایه $m\\times n\\times 3$ خواهیم داشت.\n",
    "\t</font>\n",
    "</div>"
   ]
  },
  {
   "cell_type": "markdown",
   "metadata": {},
   "source": [
    "<div id=\"sec_1\" style=\"direction:rtl;line-height:300%;text-align:right\">\n",
    "\t<font face=\"B Nazanin\" size=5>\n",
    " از آنجایی که الگوریتم PCA روی یک ماتریس m در n عمل می‌کند لازم است که الگوریتم را روی ماتریس‌های هر سه کانال رنگی اجرا کنیم. پس ماتریس‌های نظیر هر یک از کانال‌های رنگی را از تصویر اصلی استخراج می‌کنیم. برای این منظور سه ماتریس رنگ را در ماتریس‌های R و G و B ذخیره کنید.\n",
    "\t</font>\n",
    "</div>"
   ]
  },
  {
   "cell_type": "code",
   "execution_count": null,
   "metadata": {},
   "outputs": [],
   "source": [
    "######## Code here!\n",
    "R = image[:, :, 0]\n",
    "G = image[:, :, 1]\n",
    "B = image[:, :, 2]\n",
    "print(R.shape)\n",
    "print(G.shape)\n",
    "print(B.shape)"
   ]
  },
  {
   "cell_type": "markdown",
   "metadata": {},
   "source": [
    "<div id=\"sec_1\" style=\"direction:rtl;line-height:300%;text-align:right\">\n",
    "\t<font face=\"B Nazanin\" size=5>استفاده از PCA برای کاهش بعد\n",
    "\t\t<p></p>\n",
    "\t\t<hr>    \n",
    "با استفاده از کلاس PCA در کتابخانه sklearn کاهش بعد را انجام می‌دهیم. حتما لینک زیر را مطالعه کنید تا با نحوه‌ی تعریف شیئ PCA و نحوه‌ی استفاده از آن آشنا شوید.\n",
    "    <a href=\"https://scikit-learn.org/stable/modules/generated/sklearn.decomposition.PCA.html\">لینک</a>\n",
    "<p style='direction:rtl; text-align: right'>\n",
    "    <ul style='direction:rtl; text-align: right'>\n",
    "    </ul>\n",
    "</p>\n",
    "\t</font>\n",
    "</div>"
   ]
  },
  {
   "cell_type": "markdown",
   "metadata": {},
   "source": [
    "<div id=\"sec_1\" style=\"direction:rtl;line-height:300%;text-align:right\">\n",
    "\t<font face=\"B Nazanin\" size=5>\n",
    "        <li>برای هر یک از ماتریس های R,G,B یک شیئ PCA ایجاد کنید و در متغیرهای rpca, gpca, bpca ذخیره کنید. n_components را برابر ۱۰ قرار دهید.</li>\n",
    "\t</font>\n",
    "</div>"
   ]
  },
  {
   "cell_type": "code",
   "execution_count": null,
   "metadata": {},
   "outputs": [],
   "source": [
    "######## Code here!\n",
    "k = 10\n",
    "rpca = PCA(n_components = k)\n",
    "gpca = PCA(n_components = k)\n",
    "bpca = PCA(n_components = k)"
   ]
  },
  {
   "cell_type": "markdown",
   "metadata": {},
   "source": [
    "<div id=\"sec_1\" style=\"direction:rtl;line-height:300%;text-align:right\">\n",
    "\t<font face=\"B Nazanin\" size=5>\n",
    "        <li>با استفاده از تابع fit موجود در هر شیئ PCA الگوریتم را روی ماتریس‌های R,G,B فیت کنید.</li>\n",
    "\t</font>\n",
    "</div>"
   ]
  },
  {
   "cell_type": "code",
   "execution_count": null,
   "metadata": {},
   "outputs": [],
   "source": [
    "######## Code here!\n",
    "rpca.fit(R)\n",
    "gpca.fit(G)\n",
    "bpca.fit(B)"
   ]
  },
  {
   "cell_type": "markdown",
   "metadata": {},
   "source": [
    "<div id=\"sec_1\" style=\"direction:rtl;line-height:300%;text-align:right\">\n",
    "\t<font face=\"B Nazanin\" size=5>\n",
    "        <li> با استفاده از متغیر _explained_variance_ratio موجود در هر شیئ می‌توانید ببینید هرکدام از مولفه ها چند درصد دیتای ماتریس را دارند. مشخص کنید که مجموعا در ده مولفه اول چند درصد دیتا برای هر کدام از ماتریس‌ها حفظ شده اند.</li>\n",
    "\t</font>\n",
    "</div>"
   ]
  },
  {
   "cell_type": "code",
   "execution_count": null,
   "metadata": {},
   "outputs": [],
   "source": [
    "######## Code here!\n",
    "print(\"First \" + str(k) + \" components of Red Matrix have \" + str(100 * np.sum(rpca.explained_variance_ratio_)) + \" percent of data.\")\n",
    "print(\"First \" + str(k) + \" components of Green Matrix have \" + str(100 * np.sum(gpca.explained_variance_ratio_)) + \" percent of data.\")\n",
    "print(\"First \" + str(k) + \" components of Blue Matrix have \" + str(100 * np.sum(bpca.explained_variance_ratio_)) + \" percent of data.\")"
   ]
  },
  {
   "cell_type": "markdown",
   "metadata": {},
   "source": [
    "<div id=\"sec_1\" style=\"direction:rtl;line-height:300%;text-align:right\">\n",
    "\t<font face=\"B Nazanin\" size=5>\n",
    "        <li> با استفاده از دستور bar در matplotlib نمودار میله‌ای مقادیر _explained_variance_ratio را برای کانال قرمز رسم کنید. برای آشنایی با نحوه‌ی رسم نمودار میله‌ای (bar) از لینک مقابل استفاده کنید. <a href=\"https://www.geeksforgeeks.org/bar-plot-in-matplotlib/\">لینک</a></li>\n",
    "\t</font>\n",
    "</div>"
   ]
  },
  {
   "cell_type": "code",
   "execution_count": null,
   "metadata": {},
   "outputs": [],
   "source": [
    "######## Code here!\n",
    "plt.bar([i for i in range(k)], rpca.explained_variance_ratio_, color ='red', width = 0.4)\n",
    "plt.xlabel(\"Red Components\")\n",
    "plt.ylabel(\"Variance %\")\n",
    "plt.show()"
   ]
  },
  {
   "cell_type": "markdown",
   "metadata": {},
   "source": [
    "<div id=\"sec_1\" style=\"direction:rtl;line-height:300%;text-align:right\">\n",
    "\t<font face=\"B Nazanin\" size=5>\n",
    "        <li> با استفاده از دستور bar در matplotlib مقادیر _explained_variance_ratio را برای کانال سبز رسم کنید. </li>\n",
    "\t</font>\n",
    "</div>"
   ]
  },
  {
   "cell_type": "code",
   "execution_count": null,
   "metadata": {},
   "outputs": [],
   "source": [
    "######## Code here!\n",
    "plt.bar([i for i in range(k)], gpca.explained_variance_ratio_, color ='green', width = 0.4)\n",
    "plt.xlabel(\"Green Components\")\n",
    "plt.ylabel(\"Variance %\")\n",
    "plt.show()"
   ]
  },
  {
   "cell_type": "markdown",
   "metadata": {},
   "source": [
    "<div id=\"sec_1\" style=\"direction:rtl;line-height:300%;text-align:right\">\n",
    "\t<font face=\"B Nazanin\" size=5>\n",
    "        <li> با استفاده از دستور bar در matplotlib مقادیر _explained_variance_ratio را برای کانال آبی رسم کنید. </li>\n",
    "\t</font>\n",
    "</div>"
   ]
  },
  {
   "cell_type": "code",
   "execution_count": null,
   "metadata": {},
   "outputs": [],
   "source": [
    "######## Code here!\n",
    "plt.bar([i for i in range(k)], bpca.explained_variance_ratio_, color ='blue', width = 0.4)\n",
    "plt.xlabel(\"Blue Components\")\n",
    "plt.ylabel(\"Variance %\")\n",
    "plt.show()"
   ]
  },
  {
   "cell_type": "markdown",
   "metadata": {},
   "source": [
    "<div id=\"sec_1\" style=\"direction:rtl;line-height:300%;text-align:right\">\n",
    "\t<font face=\"B Nazanin\" size=5>\n",
    "\t\t<hr>با استفاده از تابع transform موجود در rpca, gpca, bpca دیتا با بعد کمتر را تولید کنید و در سه متغیر r_transformed, g_transformed, b_transformed بریزید.\n",
    "<p style='direction:rtl; text-align: right'>\n",
    "    <ul style='direction:rtl; text-align: right'>\n",
    "    </ul>\n",
    "</p>\n",
    "\t</font>\n",
    "</div>"
   ]
  },
  {
   "cell_type": "code",
   "execution_count": null,
   "metadata": {},
   "outputs": [],
   "source": [
    "######## Code here!\n",
    "Transform_R = rpca.transform(R)\n",
    "Transform_B = gpca.transform(G)\n",
    "Transform_G = bpca.transform(B)"
   ]
  },
  {
   "cell_type": "code",
   "execution_count": null,
   "metadata": {},
   "outputs": [],
   "source": [
    "print(Transform_R.shape)"
   ]
  },
  {
   "cell_type": "markdown",
   "metadata": {},
   "source": [
    "<div id=\"sec_1\" style=\"direction:rtl;line-height:300%;text-align:right\">\n",
    "\t<font face=\"B Nazanin\" size=5>\n",
    "حال دیتای با بعد کمتر که در قسمت قبل به دست آمد را به تابع inverse_transform موجود در اشیا rpca, gpca, bpca بدهید تا دیتای بعد اولیه را بازتولید کند و سپس دیتای بازیابی شده را در متغیرهای reduced_r, reduced_b, reduced_g بریزید.\n",
    "    </font>\n",
    "</div>"
   ]
  },
  {
   "cell_type": "code",
   "execution_count": null,
   "metadata": {},
   "outputs": [],
   "source": [
    "######## Code here!\n",
    "Reduced_R = rpca.inverse_transform(Transform_R)\n",
    "Reduced_G = gpca.inverse_transform(Transform_G)\n",
    "Reduced_B = bpca.inverse_transform(Transform_B)"
   ]
  },
  {
   "cell_type": "code",
   "execution_count": null,
   "metadata": {},
   "outputs": [],
   "source": [
    "print(Reduced_R.shape)"
   ]
  },
  {
   "cell_type": "code",
   "execution_count": null,
   "metadata": {},
   "outputs": [],
   "source": [
    "print('Transform Matrix Shape = ', Transform_R.shape)\n",
    "print('Inverse Transform Matrix Shape = ', Reduced_R.shape)"
   ]
  },
  {
   "cell_type": "markdown",
   "metadata": {},
   "source": [
    "<div id=\"sec_1\" style=\"direction:rtl;line-height:300%;text-align:right\">\n",
    "\t<font face=\"B Nazanin\" size=5>\n",
    "با استفاده از تابع reshape سه آرایه‌ی reduced_r, reduced_g, reduced_b که دارای ابعاد $x\\times y$ هستند را به آرایه‌هایی با بعد $x\\times y\\times 1$ تبدیل کنید. \n",
    "    </font>\n",
    "</div>"
   ]
  },
  {
   "cell_type": "code",
   "execution_count": null,
   "metadata": {},
   "outputs": [],
   "source": [
    "######## Code here!\n",
    "Reduced_R = Reduced_R.reshape((dim[0], dim[1], 1))\n",
    "Reduced_G = Reduced_G.reshape((dim[0], dim[1], 1))\n",
    "Reduced_B = Reduced_B.reshape((dim[0], dim[1], 1))"
   ]
  },
  {
   "cell_type": "markdown",
   "metadata": {},
   "source": [
    "<div id=\"sec_1\" style=\"direction:rtl;line-height:300%;text-align:right\">\n",
    "\t<font face=\"B Nazanin\" size=5>\n",
    "با استفاده از تابع dstack موجود در کتابخانه‌ی numpy سه آرایه‌ی به دست آمده در مرحله قبل را به هم بچسبانید و در متغیر reduced_image بریزید.\n",
    "    </font>\n",
    "</div>"
   ]
  },
  {
   "cell_type": "code",
   "execution_count": null,
   "metadata": {},
   "outputs": [],
   "source": [
    "######## Code here!\n",
    "reduced_image = np.dstack((Reduced_R, Reduced_G, Reduced_B))"
   ]
  },
  {
   "cell_type": "markdown",
   "metadata": {},
   "source": [
    "<div id=\"sec_1\" style=\"direction:rtl;line-height:300%;text-align:right\">\n",
    "\t<font face=\"B Nazanin\" size=5>\n",
    "با استفاده از دستور astype موجود در reduced_image ماتریس بدست آمده را به عدد صحیح تبدیل کنید و در متغیر final_image تا برای نمایش آماده شود.\n",
    "    </font>\n",
    "</div>"
   ]
  },
  {
   "cell_type": "code",
   "execution_count": null,
   "metadata": {},
   "outputs": [],
   "source": [
    "######## Code here!\n",
    "final_image = reduced_image.astype(int)"
   ]
  },
  {
   "cell_type": "code",
   "execution_count": null,
   "metadata": {
    "scrolled": true
   },
   "outputs": [],
   "source": [
    "print('final_image shape = ', final_image.shape)"
   ]
  },
  {
   "cell_type": "markdown",
   "metadata": {},
   "source": [
    "<div id=\"sec_1\" style=\"direction:rtl;line-height:300%;text-align:right\">\n",
    "\t<font face=\"B Nazanin\" size=5>\n",
    "تصویر را نمایش دهید.\n",
    "    </font>\n",
    "</div>"
   ]
  },
  {
   "cell_type": "code",
   "execution_count": null,
   "metadata": {},
   "outputs": [],
   "source": [
    "######## Code here!\n",
    "plt.imshow(final_image)\n",
    "plt.show()"
   ]
  },
  {
   "cell_type": "markdown",
   "metadata": {},
   "source": [
    "<div id=\"sec_1\" style=\"direction:rtl;line-height:300%;text-align:right\">\n",
    "\t<font face=\"B Nazanin\" size=5>\n",
    "همه مراحل انجام شده از ابتدای این بخش را با تعداد مولفه‌ای (n_components) تکرار کنید که هر سه ماتریس R,G,B حداقل ۹۹ درصد داده‌ها حفظ شود. تعداد این مولفه‌ها حداقل چند است. \n",
    "    </font>\n",
    "</div>"
   ]
  },
  {
   "cell_type": "code",
   "execution_count": null,
   "metadata": {},
   "outputs": [],
   "source": [
    "######## Code here!\n",
    "\n",
    "k = 199\n",
    "rpca = PCA(n_components = k)\n",
    "gpca = PCA(n_components = k)\n",
    "bpca = PCA(n_components = k)\n",
    "\n",
    "rpca.fit(R)\n",
    "gpca.fit(G)\n",
    "bpca.fit(B)\n",
    "\n",
    "Transform_R = rpca.transform(R)\n",
    "Transform_B = gpca.transform(G)\n",
    "Transform_G = bpca.transform(B)\n",
    "Reduced_R = rpca.inverse_transform(Transform_R)\n",
    "Reduced_G = gpca.inverse_transform(Transform_G)\n",
    "Reduced_B = bpca.inverse_transform(Transform_B)\n",
    "\n",
    "print('Transform Matrix Shape = ', Transform_R.shape)\n",
    "print('Inverse Transform Matrix Shape = ', Reduced_R.shape)\n",
    "\n",
    "Reduced_R = Reduced_R.reshape((dim[0], dim[1], 1))\n",
    "Reduced_G = Reduced_G.reshape((dim[0], dim[1], 1))\n",
    "Reduced_B = Reduced_B.reshape((dim[0], dim[1], 1))\n",
    "\n",
    "reduced_image = np.dstack((Reduced_R, Reduced_G, Reduced_B))\n",
    "final_image = reduced_image.astype(int)\n",
    "print('final_image shape = ', final_image.shape)\n",
    "plt.imshow(final_image)\n",
    "plt.show()\n",
    "print(np.sum(rpca.explained_variance_ratio_))"
   ]
  }
 ],
 "metadata": {
  "kernelspec": {
   "display_name": "Python 3",
   "language": "python",
   "name": "python3"
  },
  "language_info": {
   "codemirror_mode": {
    "name": "ipython",
    "version": 3
   },
   "file_extension": ".py",
   "mimetype": "text/x-python",
   "name": "python",
   "nbconvert_exporter": "python",
   "pygments_lexer": "ipython3",
   "version": "3.8.5"
  }
 },
 "nbformat": 4,
 "nbformat_minor": 4
}
