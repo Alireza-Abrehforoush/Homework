{
 "cells": [
  {
   "cell_type": "code",
   "execution_count": 171,
   "metadata": {},
   "outputs": [],
   "source": [
    "import numpy as np"
   ]
  },
  {
   "cell_type": "code",
   "execution_count": 172,
   "metadata": {},
   "outputs": [],
   "source": [
    "y = np.array([2955.53, 2.28, 334.32, 3670.48, 1709.09, 13.08, 864.44, 560.30, 2202.93])\n",
    "X = np.zeros((9, 3))\n",
    "w = np.zeros((10, 3, 1))\n",
    "x = np.array([35.38, 0.29, 11.74, 39.45, 26.85, 3.98, 19.05, 15.32, 30.51])"
   ]
  },
  {
   "cell_type": "code",
   "execution_count": 173,
   "metadata": {},
   "outputs": [],
   "source": [
    "X[:, 0] = x.T ** 2\n",
    "X[:, 1] = x.T\n",
    "X[:, 2] = np.ones((9))"
   ]
  },
  {
   "cell_type": "code",
   "execution_count": 174,
   "metadata": {},
   "outputs": [],
   "source": [
    "alpha = 0.001\n",
    "r = np.array([0, 7, 2, 6, 4, 3, 8, 5, 1])"
   ]
  },
  {
   "cell_type": "code",
   "execution_count": 175,
   "metadata": {},
   "outputs": [],
   "source": [
    "for i in range(1, 10):\n",
    "    w[i, :, :] = w[i - 1, :, :] - (alpha * (-X[r[i - 1]].T * (y[r[i - 1]] - np.dot(X[r[i - 1]], w[i - 1, :, :])))).reshape((3, 1))"
   ]
  },
  {
   "cell_type": "code",
   "execution_count": 176,
   "metadata": {},
   "outputs": [
    {
     "name": "stdout",
     "output_type": "stream",
     "text": [
      "[[[ 0.00000000e+00]\n",
      "  [ 0.00000000e+00]\n",
      "  [ 0.00000000e+00]]\n",
      "\n",
      " [[ 3.69956813e+03]\n",
      "  [ 1.04566651e+02]\n",
      "  [ 2.95553000e+00]]\n",
      "\n",
      " [[-2.00337117e+05]\n",
      "  [-1.32137549e+04]\n",
      "  [-8.66386605e+02]]\n",
      "\n",
      " [[ 3.62690299e+06]\n",
      "  [ 3.12786255e+05]\n",
      "  [ 2.69019277e+04]]\n",
      "\n",
      " [[-4.76201614e+08]\n",
      "  [-2.48750624e+07]\n",
      "  [-1.29529485e+06]]\n",
      "\n",
      " [[ 2.47502142e+11]\n",
      "  [ 9.21081745e+09]\n",
      "  [ 3.42678355e+08]]\n",
      "\n",
      " [[-5.99787903e+14]\n",
      "  [-1.52008121e+13]\n",
      "  [-3.85209234e+11]]\n",
      "\n",
      " [[ 5.19548815e+17]\n",
      "  [ 1.70332621e+16]\n",
      "  [ 5.58397580e+14]]\n",
      "\n",
      " [[ 3.88101820e+17]\n",
      "  [-1.59936210e+16]\n",
      "  [-7.73981425e+15]]\n",
      "\n",
      " [[ 3.88100116e+17]\n",
      "  [-1.59994968e+16]\n",
      "  [-7.76007565e+15]]]\n"
     ]
    }
   ],
   "source": [
    "print(w)"
   ]
  },
  {
   "cell_type": "code",
   "execution_count": null,
   "metadata": {},
   "outputs": [],
   "source": []
  }
 ],
 "metadata": {
  "kernelspec": {
   "display_name": "Python 3",
   "language": "python",
   "name": "python3"
  },
  "language_info": {
   "codemirror_mode": {
    "name": "ipython",
    "version": 3
   },
   "file_extension": ".py",
   "mimetype": "text/x-python",
   "name": "python",
   "nbconvert_exporter": "python",
   "pygments_lexer": "ipython3",
   "version": "3.8.5"
  }
 },
 "nbformat": 4,
 "nbformat_minor": 4
}
